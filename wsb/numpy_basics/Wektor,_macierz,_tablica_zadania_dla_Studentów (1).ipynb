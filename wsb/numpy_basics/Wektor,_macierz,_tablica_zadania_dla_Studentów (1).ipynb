{
  "nbformat": 4,
  "nbformat_minor": 0,
  "metadata": {
    "colab": {
      "provenance": []
    },
    "kernelspec": {
      "name": "python3",
      "display_name": "Python 3"
    },
    "language_info": {
      "name": "python"
    }
  },
  "cells": [
    {
      "cell_type": "markdown",
      "source": [
        "###Biblioteka NumPy"
      ],
      "metadata": {
        "id": "OCBepvWFTvkW"
      }
    },
    {
      "cell_type": "markdown",
      "source": [
        "### Spis treści:\n",
        "1. [Biblioteka NumPy - podstawowe informacje](#0)\n",
        "2. [Ćwiczenia - biblioteka NumPy](#1)\n"
      ],
      "metadata": {
        "id": "gnxrBWtMT0KR"
      }
    },
    {
      "cell_type": "markdown",
      "source": [
        "### <a name='0'></a> 1. Biblioteka NumPy - podstawowe informacje"
      ],
      "metadata": {
        "id": "e0N880fuUN_9"
      }
    },
    {
      "cell_type": "markdown",
      "source": [
        "Biblioteka NumPy to podstawowe narzędzie stosu uczenia maszynowego z użyciem języka programowania Python.\n",
        "\n",
        "Pozwala ona przeprowadzić efektywne operacje na strukturach danych, które są najczęściej wykorzystywane w uczeniu maszynowym: wektor, macierz, tensor.\n",
        "\n",
        "Jako, że biblioteka NumPy jest jedną z najczęściej używanych bibliotek podczas pracy z danymi, w tym rozdziale przedstawione zostaną operacje NumPy najczęściej przeprowadzane podczas pracy wymagającej zastosowania uczenia maszynowego.\n"
      ],
      "metadata": {
        "id": "p5ZotWLEULtH"
      }
    },
    {
      "cell_type": "markdown",
      "source": [
        "NumPy (*Numerical Python*) to popularna biblioteka w języku Python, która jest używana głównie do obliczeń numerycznych i manipulacji danymi w postaci tablic. Poniżej kilka kluczowych cech i zastosowań biblioteki NumPy:\n",
        "\n",
        "1. Tablice NumPy: NumPy wprowadza typ danych tablicy n-wymiarowej (ndarray), który umożliwia efektywną i szybką pracę z wielowymiarowymi danymi numerycznymi. Te tablice są podobne do list, ale oferują znacznie większą wydajność i funkcjonalność.\n",
        "\n",
        "2. Szybkość: NumPy jest napisane w języku C, co pozwala na wydajne obliczenia numeryczne. Dzięki temu jest idealne do przetwarzania dużych zbiorów danych i wykonywania zaawansowanych operacji matematycznych.\n",
        "\n",
        "3. Funkcje matematyczne: NumPy zawiera wiele funkcji matematycznych, takich jak operacje arytmetyczne, funkcje trygonometryczne, operacje na macierzach i wiele innych, co czyni go potężnym narzędziem do analizy danych i obliczeń naukowych.\n",
        "\n",
        "4. Indeksowanie i wycinanie: NumPy oferuje zaawansowane techniki indeksowania i wycinania tablic, co ułatwia dostęp do konkretnych danych w tablicach wielowymiarowych.\n",
        "\n",
        "5. Operacje na tablicach: NumPy umożliwia wykonywanie operacji na całych tablicach bez potrzeby pętli. To pozwala na efektywne obliczenia na danych.\n",
        "\n",
        "6. Integracja z innymi bibliotekami: NumPy jest często używane w połączeniu z innymi bibliotekami do analizy danych, takimi jak Pandas, Matplotlib do wizualizacji, czy SciPy do bardziej zaawansowanych obliczeń naukowych.\n",
        "\n",
        "7. Wsparcie dla rozszerzeń: NumPy ma wiele rozszerzeń, takich jak NumPy-BLAS, które zapewniają jeszcze lepszą wydajność w obliczeniach numerycznych.\n",
        "\n",
        "\n",
        "\n",
        "Dzięki tym cechom NumPy jest szeroko stosowane w dziedzinach takich jak analiza danych, uczenie maszynowe, inżynieria, nauki przyrodnicze i wiele innych, gdzie wymagane są obliczenia numeryczne na dużą skalę."
      ],
      "metadata": {
        "id": "4QacUJZNURMT"
      }
    },
    {
      "cell_type": "markdown",
      "source": [
        "### <a name='1'></a> 2. Ćwiczenia - biblioteka NumPy"
      ],
      "metadata": {
        "id": "B2bmme3wUa5o"
      }
    },
    {
      "cell_type": "code",
      "execution_count": null,
      "metadata": {
        "colab": {
          "base_uri": "https://localhost:8080/",
          "height": 36
        },
        "id": "y0_yBcjRTpTm",
        "outputId": "16bd8543-51fb-4c00-b726-c16d86f62267"
      },
      "outputs": [
        {
          "output_type": "execute_result",
          "data": {
            "text/plain": [
              "'1.26.4'"
            ],
            "application/vnd.google.colaboratory.intrinsic+json": {
              "type": "string"
            }
          },
          "metadata": {},
          "execution_count": 1
        }
      ],
      "source": [
        "import numpy as np\n",
        "np.__version__"
      ]
    },
    {
      "cell_type": "markdown",
      "source": [
        "###Ćwiczenie 1"
      ],
      "metadata": {
        "id": "6CPz0-u3U4V6"
      }
    },
    {
      "cell_type": "markdown",
      "source": [
        "Sprawdź czy wszytskie elemnety tablic A, B, C oraz D zwracają wartość logiczną True.\n",
        "\n",
        "Zwrócenie wartości logicznej True lub False dla każdego obiektu NumPy.\n",
        "\n",
        "Jeżeli wszytskie elementy zwracają wartość logiczną True - cały obiekt zwróci wartość logiczną True.\n",
        "\n",
        "Jeżeli chociaż jeden elemnet zwróci wartość logiczną False - cąły obiekt zwróci wartość logiczną False."
      ],
      "metadata": {
        "id": "iOR-UbSeU8FN"
      }
    },
    {
      "cell_type": "code",
      "source": [
        "A = np.array([[3, 2, 1, 4],\n",
        "              [5, 2, 1, 6]])\n",
        "\n",
        "B = np.array([[3, 2, 1, 4],\n",
        "              [5, 2, 0, 6]])\n",
        "\n",
        "C = np.array([[True, False, False],\n",
        "              [True, True, True]])\n",
        "\n",
        "D = np.array([0.1, 0.3])"
      ],
      "metadata": {
        "id": "7w36QcmhUz2J"
      },
      "execution_count": null,
      "outputs": []
    },
    {
      "cell_type": "markdown",
      "source": [
        "**Wskazówka**: użyj funkcji all()."
      ],
      "metadata": {
        "id": "hNYZHI1XVeOp"
      }
    },
    {
      "cell_type": "code",
      "source": [],
      "metadata": {
        "id": "n4Vaazq4tjIo"
      },
      "execution_count": null,
      "outputs": []
    },
    {
      "cell_type": "markdown",
      "source": [
        "###Ćwiczenie"
      ],
      "metadata": {
        "id": "44kcoGdzWb8y"
      }
    },
    {
      "cell_type": "markdown",
      "source": [
        "Punkty do wykonania:\n",
        "\n",
        "*   Załaduj moduł numpy\n",
        "*   Utwórz i przypisz do zmiennej matrix jednowymiarową tablicę z elementami od 0 do 19.\n",
        " **Wskazówka** : Służy do tego metoda *np.arange()*\n",
        "\n",
        "*   Wyświetl kształ tej tablicy. **Wskazówka** : Służy do tego właściwość *shape*\n",
        "*   Wyświetl zerowy (index 0) i piąty element tablicy (index 4). **Wskazówka** : Korzystaj z [] i indeksowania od 0.\n",
        "\n",
        "*   Zmień kształ tablicy na 2x10. Wynik przekształcenia zapisz do zmiennej new_matrix. Ponownie sprawdź kształ tablicy i wyświetl jej zawartość.\n",
        " **Wskazówka** : Skorzystaj z metody *reshape()*.\n",
        "*   Wyświetl czwarty elemnet znajdujący się w zerowym wierszu tablicy new_matrix. Indeksując elementy w tablicach kilkuwymiarowych należy skorzystać z podwójnych nawiasów kwadratowych [][].\n",
        "\n",
        "*   Polecenie:\n",
        "\n",
        "  a_python_list =  [2**x for x in range(10)]\n",
        "\n",
        "  tworzy standardową pythonową listę dziesięcu kolejnych potęg.\n",
        "  W oparciu o tę listę utwórz obiekt numpy array i przypisz go do zmiennej special_matrix.\n",
        "\n",
        "*   Utwórz tablicę zero_array skłądajacą się z 10 zer.\n",
        " **Wskazówka** : Skorzystaj z metody *zeros()*.\n",
        "\n",
        "*   Utwórz tablice one_array skłądającą się z 10 jedynek, rozmieszczonych w 2 wierszach. **Wskazówka** : Skorzystaj z metody *ones()*.\n",
        "*   Utwórz tablicę empty_array składajacą się ze 100 dowolnych liczb.\n",
        "  **Wskazówka** : Skorzystaj z metody *empty()*.\n",
        "Metoda *empty()* tworzy tablicę, która zawiera to, co akurat było w pamięci. Wielokrotne uruchamianie w/w polecenia może dawać różne wyniki, ale to nie jest jakiś świetny sposób na generowanie liczb losowych.\n",
        "*   Utwórz tablicę lucky_array o wymiarach 5x5 składajacą się z samych trzynastek. **Wskazówka** : Skorzystaj z metody *full()*.\n",
        "*   Utwórz tablicę diagonal_array o wymiarach 5x5, ktora na przekątnej ma jedynki, a pozozstałe wartości to zera.\n",
        "  \n",
        "  **Wskazówka** : Skorzystaj z metody *eye()*.\n",
        "\n",
        "*   Utwórz tablicę random_array składajacą się z 10 losowych liczb.\n",
        " **Wskazówka** : Skorzystaj z metody *random.random()*.\n",
        "\n",
        "\n",
        "\n",
        "\n",
        "\n",
        "\n",
        "\n",
        "\n",
        "\n",
        "\n",
        "\n",
        "\n",
        "\n",
        "\n",
        "\n",
        "\n"
      ],
      "metadata": {
        "id": "eHyBU53HWd4a"
      }
    },
    {
      "cell_type": "code",
      "source": [
        "import numpy as np"
      ],
      "metadata": {
        "id": "coOjfj5eWdfM"
      },
      "execution_count": null,
      "outputs": []
    },
    {
      "cell_type": "code",
      "source": [],
      "metadata": {
        "id": "XgEiVe7Nxerf"
      },
      "execution_count": null,
      "outputs": []
    },
    {
      "cell_type": "code",
      "source": [],
      "metadata": {
        "id": "hfO4prOtxe9k"
      },
      "execution_count": null,
      "outputs": []
    },
    {
      "cell_type": "markdown",
      "source": [
        "###Jeszcze więcej ćwiczeń z NumPy"
      ],
      "metadata": {
        "id": "n9xGUquknsxl"
      }
    },
    {
      "cell_type": "markdown",
      "source": [
        "Punkty do wykonania:\n",
        "\n",
        "Biblioteka scikit-learn zawiera wiele użytecznych narzędzi przygotowujących dane do procesu machine learning.\n",
        "\n",
        "Zaprezentowane laboratorium ma jednak pokazać, że bez biblioteki scikit-learn jesteśmy w stanie doskonale sobie poradzić.\n",
        "Naszym celem będzie również utrwalenie informacji odnosnie podziału danych na uczace i testowe oraz na znane cechy próbek i przewidywaną wartość target.\n",
        "\n",
        "*   Zaimportuj moduł numpy\n",
        "*   Utwórz tablicę matrix zawierającą nieparzyste liczby od 5 do 29.\n",
        " **Wskazówka** : Skorzystaj z metody *arange()*.\n",
        "*   Utwórz tablicę boolMatrix zawierającą tylko wartości True/ False.\n",
        "True, gdy na odpowiedniej pozycji w boolMatrix znajduje się element < 10, a False w przeciwnym wypadku.\n",
        "*   Wyświetl tylko te pozycje z tablicy matrix, które spełniają warunek:\n",
        " -- Na odpowiedniej pozcyji boolMatrix znanjduje się wartość True.\n",
        " Wartość pozycji jest < 20.\n",
        " (Warunek może być bezpośrednio zapisany w []).\n",
        "\n",
        "*   Wartość pozycji jest podzielna przez 3.\n",
        " **Wskazówka** : Warunek logiczny powinien sprawdzać czy reszta z dzielenia pozycji tablicy jest przez 3 jest równa 0.\n",
        "\n",
        "\n",
        "\n",
        "\n",
        "\n",
        "\n"
      ],
      "metadata": {
        "id": "ag5a6OVfn-Ns"
      }
    },
    {
      "cell_type": "code",
      "source": [
        "import numpy as np"
      ],
      "metadata": {
        "id": "jHbtHLKXhT_p"
      },
      "execution_count": null,
      "outputs": []
    },
    {
      "cell_type": "markdown",
      "source": [
        "###Generujemy macierz"
      ],
      "metadata": {
        "id": "gohRlU_0X5Hz"
      }
    },
    {
      "cell_type": "code",
      "source": [],
      "metadata": {
        "id": "TWRa2f6zxdKq"
      },
      "execution_count": null,
      "outputs": []
    },
    {
      "cell_type": "markdown",
      "source": [
        "###Określamy warunek - do nowej zmiennej boolMatrix przypisujemy True/ False jeżeli dany element macierzy matrix spełnia lub nie warunek < 10."
      ],
      "metadata": {
        "id": "xakvp-KHX7wT"
      }
    },
    {
      "cell_type": "code",
      "source": [],
      "metadata": {
        "id": "5koUyBLNxgZi"
      },
      "execution_count": null,
      "outputs": []
    },
    {
      "cell_type": "markdown",
      "source": [
        "###Wyswietli jedyne te wartości, które spełniają warunek"
      ],
      "metadata": {
        "id": "sbaytH52YM8t"
      }
    },
    {
      "cell_type": "code",
      "source": [],
      "metadata": {
        "id": "kvdbsxzfxh9Q"
      },
      "execution_count": null,
      "outputs": []
    },
    {
      "cell_type": "markdown",
      "source": [
        "###Wyświetlamy kolejne elemnty tablicy matrix spełniajace warunek"
      ],
      "metadata": {
        "id": "X1u_yTyjYXv2"
      }
    },
    {
      "cell_type": "code",
      "source": [],
      "metadata": {
        "id": "nypAFM89xkQh"
      },
      "execution_count": null,
      "outputs": []
    },
    {
      "cell_type": "code",
      "source": [],
      "metadata": {
        "id": "_aXAS2hmxkHc"
      },
      "execution_count": null,
      "outputs": []
    },
    {
      "cell_type": "code",
      "source": [],
      "metadata": {
        "id": "Q7eJPEGNxj_1"
      },
      "execution_count": null,
      "outputs": []
    },
    {
      "cell_type": "code",
      "source": [],
      "metadata": {
        "id": "zQgwSCKjxj3G"
      },
      "execution_count": null,
      "outputs": []
    },
    {
      "cell_type": "markdown",
      "source": [
        "### Ćwiczenie - Ręczny podział danych na uczące i testowe"
      ],
      "metadata": {
        "id": "p3vtwjULbJtk"
      }
    },
    {
      "cell_type": "markdown",
      "source": [
        "Punkty do wykonania:\n",
        "\n",
        "*   Do zmiennej matrix zapisz tablicę 50-elementową, o wymiarach 10x5.\n",
        "*   \"Półautomatyczne cięcie zbioru danych na dane uczące (train data) i testowe (test data)\" - wykonaj podany fragment kodu.\n",
        "*   Zbuduj wyrażenia zawierające:\n",
        "\n",
        " -- Wiersze od poczatku do split_border i wszytskie kolumny\n",
        " (**Wskazówka** : wartość split_border - to liczba float. Zaokrąglij ją więc do liczby całkowitej. Podczas budowania slice uzyj funkcji *round()*.)\n",
        " -- Wiersze od split_border do końca i wszytskie kolumny\n",
        " (**Wskazówka** : wartość split_border - to liczba float. Zaokrąglij ją więc do liczby całkowitej. Podczas budowania slice uzyj funkcji *round()*.)\n",
        "\n",
        "\n",
        "\n"
      ],
      "metadata": {
        "id": "HDKfOrv9bDQ9"
      }
    },
    {
      "cell_type": "code",
      "source": [
        "import numpy as np"
      ],
      "metadata": {
        "id": "YN7J7ppFaCo1"
      },
      "execution_count": null,
      "outputs": []
    },
    {
      "cell_type": "code",
      "source": [
        "matrix = np.arange(50).reshape(10, 5)\n",
        "matrix"
      ],
      "metadata": {
        "colab": {
          "base_uri": "https://localhost:8080/"
        },
        "id": "0IDUzD8Nbgs6",
        "outputId": "bbcda540-487d-4044-892d-48d27f3e3fbb"
      },
      "execution_count": null,
      "outputs": [
        {
          "output_type": "execute_result",
          "data": {
            "text/plain": [
              "array([[ 0,  1,  2,  3,  4],\n",
              "       [ 5,  6,  7,  8,  9],\n",
              "       [10, 11, 12, 13, 14],\n",
              "       [15, 16, 17, 18, 19],\n",
              "       [20, 21, 22, 23, 24],\n",
              "       [25, 26, 27, 28, 29],\n",
              "       [30, 31, 32, 33, 34],\n",
              "       [35, 36, 37, 38, 39],\n",
              "       [40, 41, 42, 43, 44],\n",
              "       [45, 46, 47, 48, 49]])"
            ]
          },
          "metadata": {},
          "execution_count": 2
        }
      ]
    },
    {
      "cell_type": "code",
      "source": [
        "print(matrix.shape)\n",
        "num_rows = matrix.shape[0]\n",
        "print(num_rows)\n",
        "num_columns = matrix.shape[1]\n",
        "print(num_columns)"
      ],
      "metadata": {
        "colab": {
          "base_uri": "https://localhost:8080/"
        },
        "id": "GU124A1JcBP4",
        "outputId": "2012bd98-31f5-44bb-95bf-a867387730db"
      },
      "execution_count": null,
      "outputs": [
        {
          "output_type": "stream",
          "name": "stdout",
          "text": [
            "(10, 5)\n",
            "10\n",
            "5\n"
          ]
        }
      ]
    },
    {
      "cell_type": "markdown",
      "source": [
        "Dzielenie tablicy na 20% i 80%."
      ],
      "metadata": {
        "id": "5g9t7k0_g7si"
      }
    },
    {
      "cell_type": "code",
      "source": [
        "split_level = 0.2\n",
        "num_rows = matrix.shape[0]\n",
        "split_border = split_level * num_rows"
      ],
      "metadata": {
        "id": "AMHhJxS7bkNR"
      },
      "execution_count": null,
      "outputs": []
    },
    {
      "cell_type": "code",
      "source": [
        "first_part_of_data = matrix[:round(split_border), :]\n",
        "first_part_of_data"
      ],
      "metadata": {
        "colab": {
          "base_uri": "https://localhost:8080/"
        },
        "id": "XdZrZd2fcamn",
        "outputId": "015e4a0a-c65f-4bbc-f246-729d1ae1e264"
      },
      "execution_count": null,
      "outputs": [
        {
          "output_type": "execute_result",
          "data": {
            "text/plain": [
              "array([[0, 1, 2, 3, 4],\n",
              "       [5, 6, 7, 8, 9]])"
            ]
          },
          "metadata": {},
          "execution_count": 9
        }
      ]
    },
    {
      "cell_type": "code",
      "source": [
        "second_part_of_data = matrix[round(split_border): , :]\n",
        "second_part_of_data"
      ],
      "metadata": {
        "colab": {
          "base_uri": "https://localhost:8080/"
        },
        "id": "0OtvMfUCfLam",
        "outputId": "6b9b8e49-4900-40b8-ae78-0899635cd52e"
      },
      "execution_count": null,
      "outputs": [
        {
          "output_type": "execute_result",
          "data": {
            "text/plain": [
              "array([[10, 11, 12, 13, 14],\n",
              "       [15, 16, 17, 18, 19],\n",
              "       [20, 21, 22, 23, 24],\n",
              "       [25, 26, 27, 28, 29],\n",
              "       [30, 31, 32, 33, 34],\n",
              "       [35, 36, 37, 38, 39],\n",
              "       [40, 41, 42, 43, 44],\n",
              "       [45, 46, 47, 48, 49]])"
            ]
          },
          "metadata": {},
          "execution_count": 10
        }
      ]
    },
    {
      "cell_type": "markdown",
      "source": [
        "###Jako, że nasze dane są mało losowe - wymieszajmy wiersze."
      ],
      "metadata": {
        "id": "A7LacNSygJEI"
      }
    },
    {
      "cell_type": "code",
      "source": [
        "np.random.shuffle(matrix)"
      ],
      "metadata": {
        "id": "UbQarMLvgBJV"
      },
      "execution_count": null,
      "outputs": []
    },
    {
      "cell_type": "markdown",
      "source": [
        "###Powtórzmy dzielenie tablicy na 20% i 80%."
      ],
      "metadata": {
        "id": "_kJrW-4zgy5t"
      }
    },
    {
      "cell_type": "code",
      "source": [
        "split_level = 0.2\n",
        "num_rows = matrix.shape[0]\n",
        "split_border = split_level * num_rows"
      ],
      "metadata": {
        "id": "v9Bcrj2PgqbR"
      },
      "execution_count": null,
      "outputs": []
    },
    {
      "cell_type": "code",
      "source": [
        "first_part_of_data = matrix[:round(split_border), :]\n",
        "first_part_of_data"
      ],
      "metadata": {
        "colab": {
          "base_uri": "https://localhost:8080/"
        },
        "id": "lrKiXMqGhETc",
        "outputId": "2a694038-201a-42df-c6cd-d84d61343d44"
      },
      "execution_count": null,
      "outputs": [
        {
          "output_type": "execute_result",
          "data": {
            "text/plain": [
              "array([[40, 41, 42, 43, 44],\n",
              "       [30, 31, 32, 33, 34]])"
            ]
          },
          "metadata": {},
          "execution_count": 16
        }
      ]
    },
    {
      "cell_type": "code",
      "source": [
        "second_part_of_data = matrix[round(split_border): , :]\n",
        "second_part_of_data"
      ],
      "metadata": {
        "colab": {
          "base_uri": "https://localhost:8080/"
        },
        "id": "xT-OEyMthGKI",
        "outputId": "a6ed6ee1-2891-4384-99d0-bc0a8d8c9a83"
      },
      "execution_count": null,
      "outputs": [
        {
          "output_type": "execute_result",
          "data": {
            "text/plain": [
              "array([[45, 46, 47, 48, 49],\n",
              "       [15, 16, 17, 18, 19],\n",
              "       [25, 26, 27, 28, 29],\n",
              "       [20, 21, 22, 23, 24],\n",
              "       [ 5,  6,  7,  8,  9],\n",
              "       [35, 36, 37, 38, 39],\n",
              "       [ 0,  1,  2,  3,  4],\n",
              "       [10, 11, 12, 13, 14]])"
            ]
          },
          "metadata": {},
          "execution_count": 17
        }
      ]
    },
    {
      "cell_type": "markdown",
      "source": [
        "Punkty do wykonania:\n",
        "\n",
        "*   Napisz kod, który dzieli dane na uczące i testowe oraz rozdziela je na zbiór feature i zbiór target.\n",
        "\n",
        "Ostateczne oznaczenia:\n",
        "\n",
        "-- X_train 80% danych - wszytskie kolumny oprócz ostatniej\n",
        "\n",
        "-- X_test 20% danych - wszytskie kolumny oprócz ostatniej\n",
        "\n",
        "-- y_train 80% danych - ostatnia kolumna\n",
        "\n",
        "-- y_test 20% danych - ostatnia kolumna"
      ],
      "metadata": {
        "id": "-66wSVR4iAfG"
      }
    },
    {
      "cell_type": "markdown",
      "source": [
        "###Dane:"
      ],
      "metadata": {
        "id": "RfdoNm3ji2QR"
      }
    },
    {
      "cell_type": "code",
      "source": [
        "data = np.arange(500).reshape(100, 5)"
      ],
      "metadata": {
        "id": "P7xy5DRehIVZ"
      },
      "execution_count": null,
      "outputs": []
    },
    {
      "cell_type": "code",
      "source": [
        "data"
      ],
      "metadata": {
        "colab": {
          "base_uri": "https://localhost:8080/"
        },
        "id": "IxAiJA5qc_RC",
        "outputId": "673f20d0-5c10-40c3-9458-519117b7054c"
      },
      "execution_count": null,
      "outputs": [
        {
          "output_type": "execute_result",
          "data": {
            "text/plain": [
              "array([[295, 296, 297, 298, 299],\n",
              "       [135, 136, 137, 138, 139],\n",
              "       [ 30,  31,  32,  33,  34],\n",
              "       [405, 406, 407, 408, 409],\n",
              "       [235, 236, 237, 238, 239],\n",
              "       [460, 461, 462, 463, 464],\n",
              "       [ 25,  26,  27,  28,  29],\n",
              "       [455, 456, 457, 458, 459],\n",
              "       [180, 181, 182, 183, 184],\n",
              "       [465, 466, 467, 468, 469],\n",
              "       [400, 401, 402, 403, 404],\n",
              "       [105, 106, 107, 108, 109],\n",
              "       [140, 141, 142, 143, 144],\n",
              "       [165, 166, 167, 168, 169],\n",
              "       [470, 471, 472, 473, 474],\n",
              "       [215, 216, 217, 218, 219],\n",
              "       [325, 326, 327, 328, 329],\n",
              "       [230, 231, 232, 233, 234],\n",
              "       [205, 206, 207, 208, 209],\n",
              "       [ 20,  21,  22,  23,  24],\n",
              "       [110, 111, 112, 113, 114],\n",
              "       [430, 431, 432, 433, 434],\n",
              "       [ 90,  91,  92,  93,  94],\n",
              "       [ 50,  51,  52,  53,  54],\n",
              "       [255, 256, 257, 258, 259],\n",
              "       [495, 496, 497, 498, 499],\n",
              "       [320, 321, 322, 323, 324],\n",
              "       [365, 366, 367, 368, 369],\n",
              "       [475, 476, 477, 478, 479],\n",
              "       [ 55,  56,  57,  58,  59],\n",
              "       [485, 486, 487, 488, 489],\n",
              "       [145, 146, 147, 148, 149],\n",
              "       [420, 421, 422, 423, 424],\n",
              "       [450, 451, 452, 453, 454],\n",
              "       [375, 376, 377, 378, 379],\n",
              "       [360, 361, 362, 363, 364],\n",
              "       [ 75,  76,  77,  78,  79],\n",
              "       [150, 151, 152, 153, 154],\n",
              "       [355, 356, 357, 358, 359],\n",
              "       [  5,   6,   7,   8,   9],\n",
              "       [340, 341, 342, 343, 344],\n",
              "       [345, 346, 347, 348, 349],\n",
              "       [155, 156, 157, 158, 159],\n",
              "       [160, 161, 162, 163, 164],\n",
              "       [395, 396, 397, 398, 399],\n",
              "       [  0,   1,   2,   3,   4],\n",
              "       [490, 491, 492, 493, 494],\n",
              "       [ 70,  71,  72,  73,  74],\n",
              "       [ 80,  81,  82,  83,  84],\n",
              "       [100, 101, 102, 103, 104],\n",
              "       [250, 251, 252, 253, 254],\n",
              "       [260, 261, 262, 263, 264],\n",
              "       [ 85,  86,  87,  88,  89],\n",
              "       [ 15,  16,  17,  18,  19],\n",
              "       [220, 221, 222, 223, 224],\n",
              "       [290, 291, 292, 293, 294],\n",
              "       [185, 186, 187, 188, 189],\n",
              "       [170, 171, 172, 173, 174],\n",
              "       [350, 351, 352, 353, 354],\n",
              "       [120, 121, 122, 123, 124],\n",
              "       [ 40,  41,  42,  43,  44],\n",
              "       [ 95,  96,  97,  98,  99],\n",
              "       [305, 306, 307, 308, 309],\n",
              "       [385, 386, 387, 388, 389],\n",
              "       [ 35,  36,  37,  38,  39],\n",
              "       [335, 336, 337, 338, 339],\n",
              "       [175, 176, 177, 178, 179],\n",
              "       [240, 241, 242, 243, 244],\n",
              "       [130, 131, 132, 133, 134],\n",
              "       [440, 441, 442, 443, 444],\n",
              "       [410, 411, 412, 413, 414],\n",
              "       [190, 191, 192, 193, 194],\n",
              "       [415, 416, 417, 418, 419],\n",
              "       [370, 371, 372, 373, 374],\n",
              "       [ 60,  61,  62,  63,  64],\n",
              "       [245, 246, 247, 248, 249],\n",
              "       [ 65,  66,  67,  68,  69],\n",
              "       [270, 271, 272, 273, 274],\n",
              "       [480, 481, 482, 483, 484],\n",
              "       [115, 116, 117, 118, 119],\n",
              "       [225, 226, 227, 228, 229],\n",
              "       [280, 281, 282, 283, 284],\n",
              "       [275, 276, 277, 278, 279],\n",
              "       [300, 301, 302, 303, 304],\n",
              "       [195, 196, 197, 198, 199],\n",
              "       [445, 446, 447, 448, 449],\n",
              "       [310, 311, 312, 313, 314],\n",
              "       [265, 266, 267, 268, 269],\n",
              "       [435, 436, 437, 438, 439],\n",
              "       [ 10,  11,  12,  13,  14],\n",
              "       [285, 286, 287, 288, 289],\n",
              "       [330, 331, 332, 333, 334],\n",
              "       [200, 201, 202, 203, 204],\n",
              "       [ 45,  46,  47,  48,  49],\n",
              "       [380, 381, 382, 383, 384],\n",
              "       [125, 126, 127, 128, 129],\n",
              "       [390, 391, 392, 393, 394],\n",
              "       [425, 426, 427, 428, 429],\n",
              "       [315, 316, 317, 318, 319],\n",
              "       [210, 211, 212, 213, 214]])"
            ]
          },
          "metadata": {},
          "execution_count": 28
        }
      ]
    },
    {
      "cell_type": "code",
      "source": [
        "data.shape"
      ],
      "metadata": {
        "colab": {
          "base_uri": "https://localhost:8080/"
        },
        "id": "RXARDFo-dERO",
        "outputId": "497f50b5-1326-4f04-f984-7279697ead78"
      },
      "execution_count": null,
      "outputs": [
        {
          "output_type": "execute_result",
          "data": {
            "text/plain": [
              "(100, 5)"
            ]
          },
          "metadata": {},
          "execution_count": 29
        }
      ]
    },
    {
      "cell_type": "markdown",
      "source": [
        "###Trzetasuj dane aby zostały ułożone \"losowo\""
      ],
      "metadata": {
        "id": "bYesdynHjGHy"
      }
    },
    {
      "cell_type": "code",
      "source": [
        "np.random.shuffle(data)"
      ],
      "metadata": {
        "id": "Wtvtgajxi8re"
      },
      "execution_count": null,
      "outputs": []
    },
    {
      "cell_type": "markdown",
      "source": [
        "###Wyznacz nową wartość split_border, która określa ile wierszy będzie wziętych do danych treningowych, a ile do danych testowych"
      ],
      "metadata": {
        "id": "JzMUOn5Qjesw"
      }
    },
    {
      "cell_type": "code",
      "source": [
        "split_level = 0.8\n",
        "num_rows = data.shape[0]\n",
        "split_border = split_level * num_rows"
      ],
      "metadata": {
        "id": "8JfeNUEejFhp"
      },
      "execution_count": null,
      "outputs": []
    },
    {
      "cell_type": "markdown",
      "source": [
        "###Wyznacz X_train - wiersze od początku do split_border, kolumny - wszystkie, poza ostatnią."
      ],
      "metadata": {
        "id": "KkhwY7GSkAKL"
      }
    },
    {
      "cell_type": "code",
      "source": [
        "X_train = data[:round(split_border), :-1]\n",
        "X_train"
      ],
      "metadata": {
        "colab": {
          "base_uri": "https://localhost:8080/"
        },
        "collapsed": true,
        "id": "3dOdXoBYj9G-",
        "outputId": "fd7a8132-c107-433b-b0e3-8bdef610d067"
      },
      "execution_count": null,
      "outputs": [
        {
          "output_type": "execute_result",
          "data": {
            "text/plain": [
              "array([[295, 296, 297, 298],\n",
              "       [135, 136, 137, 138],\n",
              "       [ 30,  31,  32,  33],\n",
              "       [405, 406, 407, 408],\n",
              "       [235, 236, 237, 238],\n",
              "       [460, 461, 462, 463],\n",
              "       [ 25,  26,  27,  28],\n",
              "       [455, 456, 457, 458],\n",
              "       [180, 181, 182, 183],\n",
              "       [465, 466, 467, 468],\n",
              "       [400, 401, 402, 403],\n",
              "       [105, 106, 107, 108],\n",
              "       [140, 141, 142, 143],\n",
              "       [165, 166, 167, 168],\n",
              "       [470, 471, 472, 473],\n",
              "       [215, 216, 217, 218],\n",
              "       [325, 326, 327, 328],\n",
              "       [230, 231, 232, 233],\n",
              "       [205, 206, 207, 208],\n",
              "       [ 20,  21,  22,  23],\n",
              "       [110, 111, 112, 113],\n",
              "       [430, 431, 432, 433],\n",
              "       [ 90,  91,  92,  93],\n",
              "       [ 50,  51,  52,  53],\n",
              "       [255, 256, 257, 258],\n",
              "       [495, 496, 497, 498],\n",
              "       [320, 321, 322, 323],\n",
              "       [365, 366, 367, 368],\n",
              "       [475, 476, 477, 478],\n",
              "       [ 55,  56,  57,  58],\n",
              "       [485, 486, 487, 488],\n",
              "       [145, 146, 147, 148],\n",
              "       [420, 421, 422, 423],\n",
              "       [450, 451, 452, 453],\n",
              "       [375, 376, 377, 378],\n",
              "       [360, 361, 362, 363],\n",
              "       [ 75,  76,  77,  78],\n",
              "       [150, 151, 152, 153],\n",
              "       [355, 356, 357, 358],\n",
              "       [  5,   6,   7,   8],\n",
              "       [340, 341, 342, 343],\n",
              "       [345, 346, 347, 348],\n",
              "       [155, 156, 157, 158],\n",
              "       [160, 161, 162, 163],\n",
              "       [395, 396, 397, 398],\n",
              "       [  0,   1,   2,   3],\n",
              "       [490, 491, 492, 493],\n",
              "       [ 70,  71,  72,  73],\n",
              "       [ 80,  81,  82,  83],\n",
              "       [100, 101, 102, 103],\n",
              "       [250, 251, 252, 253],\n",
              "       [260, 261, 262, 263],\n",
              "       [ 85,  86,  87,  88],\n",
              "       [ 15,  16,  17,  18],\n",
              "       [220, 221, 222, 223],\n",
              "       [290, 291, 292, 293],\n",
              "       [185, 186, 187, 188],\n",
              "       [170, 171, 172, 173],\n",
              "       [350, 351, 352, 353],\n",
              "       [120, 121, 122, 123],\n",
              "       [ 40,  41,  42,  43],\n",
              "       [ 95,  96,  97,  98],\n",
              "       [305, 306, 307, 308],\n",
              "       [385, 386, 387, 388],\n",
              "       [ 35,  36,  37,  38],\n",
              "       [335, 336, 337, 338],\n",
              "       [175, 176, 177, 178],\n",
              "       [240, 241, 242, 243],\n",
              "       [130, 131, 132, 133],\n",
              "       [440, 441, 442, 443],\n",
              "       [410, 411, 412, 413],\n",
              "       [190, 191, 192, 193],\n",
              "       [415, 416, 417, 418],\n",
              "       [370, 371, 372, 373],\n",
              "       [ 60,  61,  62,  63],\n",
              "       [245, 246, 247, 248],\n",
              "       [ 65,  66,  67,  68],\n",
              "       [270, 271, 272, 273],\n",
              "       [480, 481, 482, 483],\n",
              "       [115, 116, 117, 118]])"
            ]
          },
          "metadata": {},
          "execution_count": 21
        }
      ]
    },
    {
      "cell_type": "code",
      "source": [
        "X_train.shape"
      ],
      "metadata": {
        "colab": {
          "base_uri": "https://localhost:8080/"
        },
        "id": "cMY_pCFxcqSC",
        "outputId": "50708621-d7f3-4c68-e4a4-72079c520681"
      },
      "execution_count": null,
      "outputs": [
        {
          "output_type": "execute_result",
          "data": {
            "text/plain": [
              "(80, 4)"
            ]
          },
          "metadata": {},
          "execution_count": 22
        }
      ]
    },
    {
      "cell_type": "code",
      "source": [
        "X_test = data[round(split_border): , :-1]\n",
        "X_test"
      ],
      "metadata": {
        "colab": {
          "base_uri": "https://localhost:8080/"
        },
        "collapsed": true,
        "id": "jIhamNYmkhMp",
        "outputId": "f5d13a14-0bac-4e08-eea3-e884f5396f1f"
      },
      "execution_count": null,
      "outputs": [
        {
          "output_type": "execute_result",
          "data": {
            "text/plain": [
              "array([[225, 226, 227, 228],\n",
              "       [280, 281, 282, 283],\n",
              "       [275, 276, 277, 278],\n",
              "       [300, 301, 302, 303],\n",
              "       [195, 196, 197, 198],\n",
              "       [445, 446, 447, 448],\n",
              "       [310, 311, 312, 313],\n",
              "       [265, 266, 267, 268],\n",
              "       [435, 436, 437, 438],\n",
              "       [ 10,  11,  12,  13],\n",
              "       [285, 286, 287, 288],\n",
              "       [330, 331, 332, 333],\n",
              "       [200, 201, 202, 203],\n",
              "       [ 45,  46,  47,  48],\n",
              "       [380, 381, 382, 383],\n",
              "       [125, 126, 127, 128],\n",
              "       [390, 391, 392, 393],\n",
              "       [425, 426, 427, 428],\n",
              "       [315, 316, 317, 318],\n",
              "       [210, 211, 212, 213]])"
            ]
          },
          "metadata": {},
          "execution_count": 23
        }
      ]
    },
    {
      "cell_type": "code",
      "source": [
        "X_test.shape"
      ],
      "metadata": {
        "colab": {
          "base_uri": "https://localhost:8080/"
        },
        "id": "4bEr759bctaq",
        "outputId": "881a0e6d-6a95-4d1c-a2cd-65b1f2204229"
      },
      "execution_count": null,
      "outputs": [
        {
          "output_type": "execute_result",
          "data": {
            "text/plain": [
              "(20, 4)"
            ]
          },
          "metadata": {},
          "execution_count": 24
        }
      ]
    },
    {
      "cell_type": "code",
      "source": [
        "y_train = data[:round(split_border), -1:]\n",
        "y_train"
      ],
      "metadata": {
        "colab": {
          "base_uri": "https://localhost:8080/"
        },
        "collapsed": true,
        "id": "IWF7Ia4Cktn8",
        "outputId": "5164ab2f-497b-4917-afbe-6abb0d1573d5"
      },
      "execution_count": null,
      "outputs": [
        {
          "output_type": "execute_result",
          "data": {
            "text/plain": [
              "array([[299],\n",
              "       [139],\n",
              "       [ 34],\n",
              "       [409],\n",
              "       [239],\n",
              "       [464],\n",
              "       [ 29],\n",
              "       [459],\n",
              "       [184],\n",
              "       [469],\n",
              "       [404],\n",
              "       [109],\n",
              "       [144],\n",
              "       [169],\n",
              "       [474],\n",
              "       [219],\n",
              "       [329],\n",
              "       [234],\n",
              "       [209],\n",
              "       [ 24],\n",
              "       [114],\n",
              "       [434],\n",
              "       [ 94],\n",
              "       [ 54],\n",
              "       [259],\n",
              "       [499],\n",
              "       [324],\n",
              "       [369],\n",
              "       [479],\n",
              "       [ 59],\n",
              "       [489],\n",
              "       [149],\n",
              "       [424],\n",
              "       [454],\n",
              "       [379],\n",
              "       [364],\n",
              "       [ 79],\n",
              "       [154],\n",
              "       [359],\n",
              "       [  9],\n",
              "       [344],\n",
              "       [349],\n",
              "       [159],\n",
              "       [164],\n",
              "       [399],\n",
              "       [  4],\n",
              "       [494],\n",
              "       [ 74],\n",
              "       [ 84],\n",
              "       [104],\n",
              "       [254],\n",
              "       [264],\n",
              "       [ 89],\n",
              "       [ 19],\n",
              "       [224],\n",
              "       [294],\n",
              "       [189],\n",
              "       [174],\n",
              "       [354],\n",
              "       [124],\n",
              "       [ 44],\n",
              "       [ 99],\n",
              "       [309],\n",
              "       [389],\n",
              "       [ 39],\n",
              "       [339],\n",
              "       [179],\n",
              "       [244],\n",
              "       [134],\n",
              "       [444],\n",
              "       [414],\n",
              "       [194],\n",
              "       [419],\n",
              "       [374],\n",
              "       [ 64],\n",
              "       [249],\n",
              "       [ 69],\n",
              "       [274],\n",
              "       [484],\n",
              "       [119]])"
            ]
          },
          "metadata": {},
          "execution_count": 25
        }
      ]
    },
    {
      "cell_type": "code",
      "source": [
        "y_train.shape"
      ],
      "metadata": {
        "colab": {
          "base_uri": "https://localhost:8080/"
        },
        "id": "h0ZJPP4ec2y4",
        "outputId": "9c4a2f0b-ff1d-403a-850d-6146572f404e"
      },
      "execution_count": null,
      "outputs": [
        {
          "output_type": "execute_result",
          "data": {
            "text/plain": [
              "(80, 1)"
            ]
          },
          "metadata": {},
          "execution_count": 27
        }
      ]
    },
    {
      "cell_type": "code",
      "source": [
        "y_test = data[round(split_border): , -1:]\n",
        "y_test"
      ],
      "metadata": {
        "colab": {
          "base_uri": "https://localhost:8080/"
        },
        "collapsed": true,
        "id": "rkVd3cnAlo-3",
        "outputId": "6de6bf6c-c84f-4e78-cd34-9fc4b5791f78"
      },
      "execution_count": null,
      "outputs": [
        {
          "output_type": "execute_result",
          "data": {
            "text/plain": [
              "array([[229],\n",
              "       [284],\n",
              "       [279],\n",
              "       [304],\n",
              "       [199],\n",
              "       [449],\n",
              "       [314],\n",
              "       [269],\n",
              "       [439],\n",
              "       [ 14],\n",
              "       [289],\n",
              "       [334],\n",
              "       [204],\n",
              "       [ 49],\n",
              "       [384],\n",
              "       [129],\n",
              "       [394],\n",
              "       [429],\n",
              "       [319],\n",
              "       [214]])"
            ]
          },
          "metadata": {},
          "execution_count": 30
        }
      ]
    },
    {
      "cell_type": "markdown",
      "source": [
        "###Funkcja wbudowana z modułu sklearn"
      ],
      "metadata": {
        "id": "mlQtXRgOmBZ-"
      }
    },
    {
      "cell_type": "code",
      "source": [
        "from sklearn.model_selection import train_test_split\n",
        "\n",
        "X_train, X_test, y_train, y_test = train_test_split(data[:, :-1], data[:, -1], test_size=0.2, shuffle=True)"
      ],
      "metadata": {
        "id": "UeJGyQRjly1K"
      },
      "execution_count": null,
      "outputs": []
    },
    {
      "cell_type": "markdown",
      "source": [
        "###Ćwiczenie\n",
        "\n",
        "Polecenia do wykonania:\n",
        "\n",
        "*   W zmiennej X zapisz tablicę dwuwymiarową z kolejnymi liczbami od 1 do 25.\n",
        " **Wskazówka** : skorzystaj z metod arrange() i reshape().\n",
        "\n",
        "*   W zmiennej Ones zapisz tablicę o takim samym kształcie jak X, z tym że całą wypełniona jedynkami.**Wskazówka** : skorzystaj z metody ones().\n",
        "\n",
        "*   Pomnóż przez siebie macierz X oraz Ones. **Wskazówka** : skorzystaj z metody dot().\n",
        "*   W algebrze liniowej elementem neutralnym macierzy jest macierz zer, wypełniona jedynkami na przekątnej.\n",
        "\n",
        "- Do zmiennej diag zapisz macierz o takich wymiarach jak X, wypełnioną samymi zerami. **Wskazówka** : skorzystaj z metody zeros().\n",
        "- Wypełnij diag jedynkami na przekątnej. **Wskazówka** : skorzystaj z metody fill_diagonal().\n",
        "-Pomnóż przez siebie X i diag i sprawdź czy wynik to X. Wnioski?\n",
        "\n",
        "-Wyświetl tablicę o wymiarach takich jak X, gdzie (we wszystkich punktach skorzystaj w where):\n",
        "\n",
        "-Występują tylko jedynki i zera. Jedynki mają się pojawić tam, gdzie w X występuje wartość większa od 10, a zera w pozostałych przypadkach.\n",
        "\n",
        "-Występują tylko jedynki i zera. Jedynki mają się pojawić tam, gdzie występuje wartość parzysta, a zero w pozostałych przypadkach.\n",
        "\n",
        "* Utworz tablicę X_bis wyznaczoną w następujący sposób. Dla wartości w X większych od 10 zwrócona zostanie wartość 2 razy większa, a dla pozostałych 0.\n",
        "Policz ile jest elementów niezerowych w X_bis.\n",
        " **Wskazówka** : skorzystaj z metody count_nonzero()\n",
        "\n",
        "* Oto dwie tablice:\n",
        "x = np.array([[10,20,30], [40,50,60]])\n",
        "y = np.array([[100], [200]])\n",
        "\n",
        "* Dodaj (doklej) do tablicy x tablicę y jako nową kolumnę.\n",
        " **Wskazówka** : skorzystaj z metody append() z parametrem axis=1\n",
        "* Dodaj (doklej) do tablicy x tablicę y jako nowy wiersz.\n",
        " **Wskazówka** : skorzystaj z metody append() z parametrem axis=0\n",
        "\n",
        "\n",
        "\n"
      ],
      "metadata": {
        "id": "6AmgL7CpGAYf"
      }
    },
    {
      "cell_type": "code",
      "source": [
        "import numpy as np"
      ],
      "metadata": {
        "id": "-T8s1Ey5mcH-"
      },
      "execution_count": null,
      "outputs": []
    },
    {
      "cell_type": "code",
      "source": [],
      "metadata": {
        "id": "l3f7_H7jxuR2"
      },
      "execution_count": null,
      "outputs": []
    },
    {
      "cell_type": "code",
      "source": [],
      "metadata": {
        "id": "EwkjcIMOxuJa"
      },
      "execution_count": null,
      "outputs": []
    },
    {
      "cell_type": "code",
      "source": [],
      "metadata": {
        "id": "KxpxblKHxt_s"
      },
      "execution_count": null,
      "outputs": []
    },
    {
      "cell_type": "code",
      "source": [],
      "metadata": {
        "id": "a7KC_zF2xt2l"
      },
      "execution_count": null,
      "outputs": []
    },
    {
      "cell_type": "code",
      "source": [],
      "metadata": {
        "id": "yj6K8hCxxts5"
      },
      "execution_count": null,
      "outputs": []
    },
    {
      "cell_type": "code",
      "source": [],
      "metadata": {
        "id": "6IOc8LOaxtkH"
      },
      "execution_count": null,
      "outputs": []
    },
    {
      "cell_type": "code",
      "source": [],
      "metadata": {
        "id": "NhJxkZavxtbb"
      },
      "execution_count": null,
      "outputs": []
    },
    {
      "cell_type": "code",
      "source": [],
      "metadata": {
        "id": "hnZX84Z3xtSr"
      },
      "execution_count": null,
      "outputs": []
    },
    {
      "cell_type": "code",
      "source": [],
      "metadata": {
        "id": "20BuXmpOxtJt"
      },
      "execution_count": null,
      "outputs": []
    },
    {
      "cell_type": "code",
      "source": [],
      "metadata": {
        "id": "69EleLU0xtBz"
      },
      "execution_count": null,
      "outputs": []
    },
    {
      "cell_type": "code",
      "source": [],
      "metadata": {
        "id": "Si2MGuZfxs5o"
      },
      "execution_count": null,
      "outputs": []
    },
    {
      "cell_type": "code",
      "source": [],
      "metadata": {
        "id": "AKMOICWkxsx1"
      },
      "execution_count": null,
      "outputs": []
    },
    {
      "cell_type": "code",
      "source": [],
      "metadata": {
        "id": "zpHUvAPwxsn0"
      },
      "execution_count": null,
      "outputs": []
    }
  ]
}