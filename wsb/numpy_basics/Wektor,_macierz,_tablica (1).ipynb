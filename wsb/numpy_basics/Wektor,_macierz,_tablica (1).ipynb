{
  "nbformat": 4,
  "nbformat_minor": 0,
  "metadata": {
    "colab": {
      "provenance": []
    },
    "kernelspec": {
      "name": "python3",
      "display_name": "Python 3"
    },
    "language_info": {
      "name": "python"
    }
  },
  "cells": [
    {
      "cell_type": "markdown",
      "source": [
        "###Biblioteka NumPy"
      ],
      "metadata": {
        "id": "c4g47n5Amnl9"
      }
    },
    {
      "cell_type": "markdown",
      "source": [
        "### Spis treści:\n",
        "1. [Biblioteka NumPy - podstawowe informacje](#0)\n",
        "2. [Wektor](#1)\n",
        "3. [Macierz](#2)\n"
      ],
      "metadata": {
        "id": "VO7LydljV4mA"
      }
    },
    {
      "cell_type": "markdown",
      "source": [
        "### <a name='0'></a> 1. Biblioteka NumPy - podstawowe informacje"
      ],
      "metadata": {
        "id": "A6TKvdU_WAwy"
      }
    },
    {
      "cell_type": "markdown",
      "source": [
        "Biblioteka NumPy to podstawowe narzędzie stosu uczenia maszynowego z użyciem języka programowania Python.\n",
        "\n",
        "Pozwala ona przeprowadzić efektywne operacje na strukturach danych, które są najczęściej wykorzystywane w uczeniu maszynowym: wektor, macierz, tensor.\n",
        "\n",
        "Jako, że biblioteka NumPy jest jedną z najczęściej używanych bibliotek podczas pracy z danymi, w tym rozdziale przedstawione zostaną operacje NumPy najczęściej przeprowadzane podczas pracy wymagającej zastosowania uczenia maszynowego.\n"
      ],
      "metadata": {
        "id": "0uoXRxkWms4T"
      }
    },
    {
      "cell_type": "markdown",
      "source": [
        "NumPy (*Numerical Python*) to popularna biblioteka w języku Python, która jest używana głównie do obliczeń numerycznych i manipulacji danymi w postaci tablic. Poniżej kilka kluczowych cech i zastosowań biblioteki NumPy:\n",
        "\n",
        "1. Tablice NumPy: NumPy wprowadza typ danych tablicy n-wymiarowej (ndarray), który umożliwia efektywną i szybką pracę z wielowymiarowymi danymi numerycznymi. Te tablice są podobne do list, ale oferują znacznie większą wydajność i funkcjonalność.\n",
        "\n",
        "2. Szybkość: NumPy jest napisane w języku C, co pozwala na wydajne obliczenia numeryczne. Dzięki temu jest idealne do przetwarzania dużych zbiorów danych i wykonywania zaawansowanych operacji matematycznych.\n",
        "\n",
        "3. Funkcje matematyczne: NumPy zawiera wiele funkcji matematycznych, takich jak operacje arytmetyczne, funkcje trygonometryczne, operacje na macierzach i wiele innych, co czyni go potężnym narzędziem do analizy danych i obliczeń naukowych.\n",
        "\n",
        "4. Indeksowanie i wycinanie: NumPy oferuje zaawansowane techniki indeksowania i wycinania tablic, co ułatwia dostęp do konkretnych danych w tablicach wielowymiarowych.\n",
        "\n",
        "5. Operacje na tablicach: NumPy umożliwia wykonywanie operacji na całych tablicach bez potrzeby pętli. To pozwala na efektywne obliczenia na danych.\n",
        "\n",
        "6. Integracja z innymi bibliotekami: NumPy jest często używane w połączeniu z innymi bibliotekami do analizy danych, takimi jak Pandas, Matplotlib do wizualizacji, czy SciPy do bardziej zaawansowanych obliczeń naukowych.\n",
        "\n",
        "7. Wsparcie dla rozszerzeń: NumPy ma wiele rozszerzeń, takich jak NumPy-BLAS, które zapewniają jeszcze lepszą wydajność w obliczeniach numerycznych.\n",
        "\n",
        "\n",
        "\n",
        "Dzięki tym cechom NumPy jest szeroko stosowane w dziedzinach takich jak analiza danych, uczenie maszynowe, inżynieria, nauki przyrodnicze i wiele innych, gdzie wymagane są obliczenia numeryczne na dużą skalę."
      ],
      "metadata": {
        "id": "mZTksaQVYbRj"
      }
    },
    {
      "cell_type": "markdown",
      "source": [
        "### <a name='1'></a> 2. Wektor"
      ],
      "metadata": {
        "id": "2W73-LToZDeM"
      }
    },
    {
      "cell_type": "markdown",
      "source": [
        "###Zadanie 1. Utwórz wektor"
      ],
      "metadata": {
        "id": "NPS079UUbfGY"
      }
    },
    {
      "cell_type": "markdown",
      "source": [
        "Odpowiedź: Należy użyć biblioteki NumPy do utworzenia tablicy jednowymiarowej."
      ],
      "metadata": {
        "id": "56m4tTLpbjtn"
      }
    },
    {
      "cell_type": "code",
      "execution_count": null,
      "metadata": {
        "id": "rMckeMLaEqQI"
      },
      "outputs": [],
      "source": [
        "#Wczytywanie biblioteki\n",
        "import numpy as np\n",
        "#Utworzenie wektora przedstawiającego wiersz\n",
        "vector_row = np.array([1, 2, 3])\n",
        "#Utworzenie wektora przedstawiającego kolumnę\n",
        "vector_column = np.array([[1],\n",
        "                          [2],\n",
        "                          [3]])"
      ]
    },
    {
      "cell_type": "code",
      "source": [
        "vector_row"
      ],
      "metadata": {
        "colab": {
          "base_uri": "https://localhost:8080/"
        },
        "id": "PlIyxD-nbs3-",
        "outputId": "483e10a4-f1f0-410e-ddb1-48cbeeaef013"
      },
      "execution_count": null,
      "outputs": [
        {
          "output_type": "execute_result",
          "data": {
            "text/plain": [
              "array([1, 2, 3])"
            ]
          },
          "metadata": {},
          "execution_count": 3
        }
      ]
    },
    {
      "cell_type": "code",
      "source": [
        "vector_column"
      ],
      "metadata": {
        "colab": {
          "base_uri": "https://localhost:8080/"
        },
        "id": "tSb2S0SlcKtR",
        "outputId": "622b9884-7c0c-41da-c3f9-a0abca20c0f8"
      },
      "execution_count": null,
      "outputs": [
        {
          "output_type": "execute_result",
          "data": {
            "text/plain": [
              "array([[1],\n",
              "       [2],\n",
              "       [3]])"
            ]
          },
          "metadata": {},
          "execution_count": 4
        }
      ]
    },
    {
      "cell_type": "markdown",
      "source": [
        "Podstawową strukturą danych biblioteki numPy jest tablica wektorowa.\n",
        "\n",
        "Wektor to po prostu tablica jednowymiarowa.\n",
        "\n",
        "Aby utworzyć wektor należy zdefiniować tablicę jednowymiarową.\n",
        "\n",
        "Podobnie jak w przypadku wektora, także tablica może być przedstawiona poziomo (na przykład wiersz) lub pionowo (na przykład kolumna)."
      ],
      "metadata": {
        "id": "XzAO67JycQAU"
      }
    },
    {
      "cell_type": "markdown",
      "source": [
        "### <a name='2'></a> 3. Macierz"
      ],
      "metadata": {
        "id": "oLHoEzGecxIk"
      }
    },
    {
      "cell_type": "markdown",
      "source": [
        "###Zadanie 1. Utwórz macierz"
      ],
      "metadata": {
        "id": "-jatbhrpctYi"
      }
    },
    {
      "cell_type": "markdown",
      "source": [
        "Odpowiedź: Należy użyć biblioteki NumPy do utworzenia tablicy dwuwymiarowej."
      ],
      "metadata": {
        "id": "XIYglVMic_v3"
      }
    },
    {
      "cell_type": "code",
      "source": [
        "#Wczytywanie biblioteki\n",
        "import numpy as np\n",
        "#Utworzenie tablicy dwuwymiarowej\n",
        "matrix = np.array([[1, 2],\n",
        "                   [3, 4],\n",
        "                   [5, 6]])"
      ],
      "metadata": {
        "id": "jTTb5ejacL7Z"
      },
      "execution_count": null,
      "outputs": []
    },
    {
      "cell_type": "code",
      "source": [
        "matrix"
      ],
      "metadata": {
        "colab": {
          "base_uri": "https://localhost:8080/"
        },
        "id": "sYUFSqGBdMjl",
        "outputId": "d142b004-2ba5-4a95-f2f3-6530a547c49a"
      },
      "execution_count": null,
      "outputs": [
        {
          "output_type": "execute_result",
          "data": {
            "text/plain": [
              "array([[1, 2],\n",
              "       [3, 4],\n",
              "       [5, 6]])"
            ]
          },
          "metadata": {},
          "execution_count": 6
        }
      ]
    },
    {
      "cell_type": "markdown",
      "source": [
        "Do utworzenia macierzy można wykorzystać oferowaną przez bibliotekę NumPy tablicę dwuwymiarową.\n",
        "\n",
        "W przedstawionym ponizej rozwiązaniu macierz składa się z trzech wierszy oraz trzech kolumn.\n",
        "\n",
        "Nalezy jednak wskazać, iż NumPy ma dedykowaną macierzy strukturę danych, która zostanie zaprezentowana w kolejnymm fragmencie kodu.\n",
        "\n",
        "Muszę jednak podkreslić, że z dwóch powodów nie zaleca się stosowania tej struktury.\n",
        "\n",
        "Po pierwsze, tablica jest faktycznie standardową strukturą dancyh w bibliotece NumPy.\n",
        "\n",
        "Po drugie, większość operacji przeprowadzanych za pomocą NumPy zwraca tablicę, a nie obiekt macierzy."
      ],
      "metadata": {
        "id": "5sYkPVYHdSyB"
      }
    },
    {
      "cell_type": "markdown",
      "source": [
        "###Zadanie 2. Utwórz macierz rzadką"
      ],
      "metadata": {
        "id": "xGVS3NITeIqD"
      }
    },
    {
      "cell_type": "markdown",
      "source": [
        "Chcemy w efektywny sposób przedstawić dane zawierajace niewiele wartości niezerowych."
      ],
      "metadata": {
        "id": "BJFLKpS6eVXW"
      }
    },
    {
      "cell_type": "markdown",
      "source": [
        "Odpowiedź: Należy użyć bibliotek do utworzenia macierzy rzadkiej (ang. sparse matrix).\n"
      ],
      "metadata": {
        "id": "uiOp64V1ehx8"
      }
    },
    {
      "cell_type": "code",
      "source": [
        "#Wczytywanie bibliotek\n",
        "import numpy as np\n",
        "from scipy import sparse\n",
        "#Utworzenie macierzy\n",
        "matrix = np.array([[0, 0],\n",
        "                   [0, 1],\n",
        "                   [3, 0]])\n",
        "\n",
        "#Utworzenie macierzy w formacie CSR\n",
        "matrix_sparse = sparse.csr_matrix(matrix)"
      ],
      "metadata": {
        "id": "gq_E6VsSdNlD"
      },
      "execution_count": null,
      "outputs": []
    },
    {
      "cell_type": "code",
      "source": [
        "matrix"
      ],
      "metadata": {
        "colab": {
          "base_uri": "https://localhost:8080/"
        },
        "id": "dz3p9HFFfiHB",
        "outputId": "c707c2f7-ac89-4b2b-d257-144c988b72e5"
      },
      "execution_count": null,
      "outputs": [
        {
          "output_type": "execute_result",
          "data": {
            "text/plain": [
              "array([[0, 0],\n",
              "       [0, 1],\n",
              "       [3, 0]])"
            ]
          },
          "metadata": {},
          "execution_count": 11
        }
      ]
    },
    {
      "cell_type": "code",
      "source": [
        "matrix_sparse"
      ],
      "metadata": {
        "colab": {
          "base_uri": "https://localhost:8080/"
        },
        "id": "2oByNGKVf2xN",
        "outputId": "9fbe9bd9-18be-4fb3-f31e-2592b19bc738"
      },
      "execution_count": null,
      "outputs": [
        {
          "output_type": "execute_result",
          "data": {
            "text/plain": [
              "<3x2 sparse matrix of type '<class 'numpy.int64'>'\n",
              "\twith 2 stored elements in Compressed Sparse Row format>"
            ]
          },
          "metadata": {},
          "execution_count": 13
        }
      ]
    },
    {
      "cell_type": "code",
      "source": [
        "print(matrix_sparse)"
      ],
      "metadata": {
        "colab": {
          "base_uri": "https://localhost:8080/"
        },
        "id": "l43epZmEiHPu",
        "outputId": "3fead2b0-5c0c-459b-9cf8-40315eb6fcda"
      },
      "execution_count": null,
      "outputs": [
        {
          "output_type": "stream",
          "name": "stdout",
          "text": [
            "  (1, 1)\t1\n",
            "  (2, 0)\t3\n"
          ]
        }
      ]
    },
    {
      "cell_type": "markdown",
      "source": [
        "Podczas stosowania uczenia maszynowego bardzo często zdarza się, że masz do dyspozycji ogromną ilość danych, przy czym większość elementów w zbiorze danych to zera.\n",
        "\n",
        "Na przykład wyobraź sobie macierz, w której kolumny przedstawiają filmy oferowane przez serwis Netflix, natomiast wiersze to użytkownicy serwisu.\n",
        "\n",
        "Wartości w tej macierzy określają, ile razy użytkownik obejrzał dany film. Ta macierz będzie się składała z dziesiątek tysięcy kolumn i milionów wierszy.\n",
        "\n",
        "Skoro większość użytkowników obejrzało zaledwie niewielką liczbę filmów, dominującą wartością elemnetów macierzy będzie zero.\n",
        "\n",
        "Macierz rzadka to macierz, w której większość elementów stanowią zera. Przechowuje ona jedynie elementy niezerowe. Zakłada się, że pozostałymi elementami są zera.\n",
        "\n",
        "Zaprezentowane podejście pozwala na znaczne zmniejszenie obciążenia związanego z przetwarzaniem takiej macierzy."
      ],
      "metadata": {
        "id": "LZSvyDZXgREN"
      }
    },
    {
      "cell_type": "markdown",
      "source": [
        "W zaprezentowanym przykładzie, utworzyłąm tablicę NumPy z dwoma wartościami niezerowymi, a następnie skonwertowałam ją do postaci macierzy rzadkiej.\n",
        "\n",
        "Po wyświetleniu macierzy rzadkiej można zobaczyć, że przechowuje ona jedynie wartości niezerowe."
      ],
      "metadata": {
        "id": "qVK2Q36th4mf"
      }
    },
    {
      "cell_type": "markdown",
      "source": [
        "Istnieje pewna liczba typów macierzy rzadkiej.\n",
        "\n",
        "W przypadku typu CSR (ang. compressed sparse row) - przedstawiają indeksy wartości niezerowych.\n",
        "\n",
        "Na przykład element 1  znajduje się drugim wierszu i drugiej kolumnie.\n",
        "\n",
        "Zalety istnienia macierzy rzadkiej ujawniają się w przypadku istnienia znacznie większej macierzy wraz z wieloma zerami."
      ],
      "metadata": {
        "id": "_GdEQldtip5X"
      }
    },
    {
      "cell_type": "code",
      "source": [
        "#Utworzenie większej macierzy\n",
        "matrix_large = np.array([[0, 0, 0, 0, 0, 0, 0],\n",
        "                          [0, 1, 0, 0, 0, 0, 0],\n",
        "                          [3, 0, 0, 0, 0, 0, 0]])\n",
        "\n",
        "#Utworzenie macierzy w formacie CSR\n",
        "\n",
        "matrix_large_sparse = sparse.csr_matrix(matrix_large)"
      ],
      "metadata": {
        "id": "6cM7C_3Ef4d-"
      },
      "execution_count": null,
      "outputs": []
    },
    {
      "cell_type": "code",
      "source": [
        "matrix_large"
      ],
      "metadata": {
        "colab": {
          "base_uri": "https://localhost:8080/"
        },
        "id": "GUS11l13kCoC",
        "outputId": "8614dcbd-52a0-4a55-9529-390f1ce0cc38"
      },
      "execution_count": null,
      "outputs": [
        {
          "output_type": "execute_result",
          "data": {
            "text/plain": [
              "array([[0, 0, 0, 0, 0, 0, 0],\n",
              "       [0, 1, 0, 0, 0, 0, 0],\n",
              "       [3, 0, 0, 0, 0, 0, 0]])"
            ]
          },
          "metadata": {},
          "execution_count": 19
        }
      ]
    },
    {
      "cell_type": "code",
      "source": [
        "print(matrix_large_sparse)"
      ],
      "metadata": {
        "colab": {
          "base_uri": "https://localhost:8080/"
        },
        "id": "U-ktkJ5YkEXk",
        "outputId": "0334b190-bcd1-4237-fe2a-c813ef0cd186"
      },
      "execution_count": null,
      "outputs": [
        {
          "output_type": "stream",
          "name": "stdout",
          "text": [
            "  (1, 1)\t1\n",
            "  (2, 0)\t3\n"
          ]
        }
      ]
    },
    {
      "cell_type": "markdown",
      "source": [
        "Jak możesz zauważyć, pomimo dodania wielu elemntów zerowych w macierzy matrix_large, utworzona na jej podstawie macierz rzadka jest dokładnie taka sama jak zdefinowana na początku.\n",
        "\n",
        "Dodanie elemntów zerowych nie spowodowało zmiany wielkości macierzy rzadkiej."
      ],
      "metadata": {
        "id": "_XRDVr_8ktf8"
      }
    },
    {
      "cell_type": "markdown",
      "source": [
        "Podsumowując ten rozdział należy wskazać, iż istnieje wiele typów macierzy rzadkiej m.in. CSC (ang. compossed sparse column), lista list czy też słownik kluczy.\n",
        "Podkreśla się, że nie ma \"najlepszego\" typu macierzy rzadkiej.\n",
        "\n",
        "Istnieją między nimi znaczne różnice, które należy uwzględnić podczas wyboru konkretnego typu."
      ],
      "metadata": {
        "id": "xOsSYQYwlPwJ"
      }
    },
    {
      "cell_type": "markdown",
      "source": [
        "###Zadanie 3. Dokonaj wstępnej alokacji tablicy o podanej wielkości zawierajacej pewne wartości."
      ],
      "metadata": {
        "id": "MXy7gAB7mXm0"
      }
    },
    {
      "cell_type": "markdown",
      "source": [
        "Biblioteka NumPy posiada funkcje przeznaczone do generowania wektorów i macierzy dowolnej wielkości przy użyciu na przykład wartości 0, 1 lub innej dowolnie wybranej."
      ],
      "metadata": {
        "id": "MT4FgNs5sF8q"
      }
    },
    {
      "cell_type": "code",
      "source": [
        "#Wczytywanie biblioteki\n",
        "import numpy as np\n",
        "#Utworzenie wektora o kształcie (1, 5), składającego się wyłącznie z zer\n",
        "vector = np.zeros(shape=5)\n",
        "print(vector)\n",
        "\n",
        "\n",
        "#Wygenerowanie macierzy o kształcie (3, 3) składajacej się wyłącznie z jedynek\n",
        "matrix = np.full(shape=(3,3), fill_value=1)\n",
        "print(matrix)\n"
      ],
      "metadata": {
        "colab": {
          "base_uri": "https://localhost:8080/"
        },
        "id": "0zLatmVqkHCc",
        "outputId": "b53968d8-9b3f-404c-8da4-70e77835332c"
      },
      "execution_count": null,
      "outputs": [
        {
          "output_type": "stream",
          "name": "stdout",
          "text": [
            "[0. 0. 0. 0. 0.]\n",
            "[[1 1 1]\n",
            " [1 1 1]\n",
            " [1 1 1]]\n"
          ]
        }
      ]
    },
    {
      "cell_type": "markdown",
      "source": [
        "Wygenerowanie tablicy wypełnionej pewnymi danymi okazuje się użyteczne z wielu powodów, między innymi takich jak zapewnienie większej wydajności działania kodu badź używanie danych syntetycznych do przetestowania algorytmów.\n",
        "\n",
        "W wielu językach programowaniawstępna alokacja tablicy z wykorzystaniem wartości domyślej (najcześciej jest to 0) jest uznawana za powszechnie stosowaną praktykę."
      ],
      "metadata": {
        "id": "odbrownhtCuh"
      }
    },
    {
      "cell_type": "markdown",
      "source": [
        "###Zadanie 4. Pobieranie elemntów"
      ],
      "metadata": {
        "id": "MKkCSUAntk8H"
      }
    },
    {
      "cell_type": "markdown",
      "source": [
        "Należy pobrać co najmniej jeden elemnet z wektora lub macierzy."
      ],
      "metadata": {
        "id": "lsjQBgxgtpd_"
      }
    },
    {
      "cell_type": "code",
      "source": [
        "#Wczytanie biblioteki\n",
        "import numpy as np\n",
        "#Utworzenie wiersza wektora\n",
        "vector = np.array([1, 2, 3, 4, 5, 6])\n",
        "#Utworzenie macierzy\n",
        "matrix = np.array([[1, 2, 3],\n",
        "                   [4, 5, 6],\n",
        "                   [7, 8, 9]])"
      ],
      "metadata": {
        "id": "oIREKuKWs3jh"
      },
      "execution_count": null,
      "outputs": []
    },
    {
      "cell_type": "code",
      "source": [
        "#Pobranie trzeciego elemntu wektora (elemntu o indeksie 2)\n",
        "vector[2]"
      ],
      "metadata": {
        "colab": {
          "base_uri": "https://localhost:8080/"
        },
        "id": "hlVnuBvouMft",
        "outputId": "0e5c02c3-f95e-46f9-aea7-fc56c5256cd5"
      },
      "execution_count": null,
      "outputs": [
        {
          "output_type": "execute_result",
          "data": {
            "text/plain": [
              "3"
            ]
          },
          "metadata": {},
          "execution_count": 24
        }
      ]
    },
    {
      "cell_type": "code",
      "source": [
        "#Pobranie elemntu znajdującego się w drugim wierszu i drugiej kolumnie macierzy matrix\n",
        "\n",
        "matrix[1,1]"
      ],
      "metadata": {
        "colab": {
          "base_uri": "https://localhost:8080/"
        },
        "id": "-e12YmZwuStE",
        "outputId": "b4f8a89c-c6bd-409c-db7e-c77cbb1bc88a"
      },
      "execution_count": null,
      "outputs": [
        {
          "output_type": "execute_result",
          "data": {
            "text/plain": [
              "5"
            ]
          },
          "metadata": {},
          "execution_count": 25
        }
      ]
    },
    {
      "cell_type": "markdown",
      "source": [
        "Podobnie jak wprzypadku wielu innych struktr Pythona, również tablice NumPy posiadają indeksy liczone od 0.\n",
        "\n",
        "Posiadając tę wiedzę mamy możliwość korzystania z wielu metod przeznaczonych do pobierania (np. za pomocą indeksu lub wycinka) elemntów lub grup elemnetów w tablicy."
      ],
      "metadata": {
        "id": "dDEQPKB6unJW"
      }
    },
    {
      "cell_type": "markdown",
      "source": [
        "Pobranie wszytskich elemnetów wektora"
      ],
      "metadata": {
        "id": "19qplO5kvdYF"
      }
    },
    {
      "cell_type": "code",
      "source": [
        "vector[:]\n"
      ],
      "metadata": {
        "colab": {
          "base_uri": "https://localhost:8080/"
        },
        "id": "rdcaS2xSuj52",
        "outputId": "214558a6-39ad-4ff7-cbeb-fc87ad83b23c"
      },
      "execution_count": null,
      "outputs": [
        {
          "output_type": "execute_result",
          "data": {
            "text/plain": [
              "array([1, 2, 3, 4, 5, 6])"
            ]
          },
          "metadata": {},
          "execution_count": 26
        }
      ]
    },
    {
      "cell_type": "markdown",
      "source": [
        "Pobranie wszytskich elementów wektora do trzeciego włącznie"
      ],
      "metadata": {
        "id": "baIN7SZHvi4y"
      }
    },
    {
      "cell_type": "code",
      "source": [
        "vector[:3]"
      ],
      "metadata": {
        "colab": {
          "base_uri": "https://localhost:8080/"
        },
        "id": "IHWgYBgzvNoi",
        "outputId": "a8795562-958e-40b8-bd01-178a864b1899"
      },
      "execution_count": null,
      "outputs": [
        {
          "output_type": "execute_result",
          "data": {
            "text/plain": [
              "array([1, 2, 3])"
            ]
          },
          "metadata": {},
          "execution_count": 27
        }
      ]
    },
    {
      "cell_type": "markdown",
      "source": [
        "Podbranie wszytskich elementów od czwartego włącznie"
      ],
      "metadata": {
        "id": "5aNAQ922vpYQ"
      }
    },
    {
      "cell_type": "code",
      "source": [
        "vector[3:]"
      ],
      "metadata": {
        "colab": {
          "base_uri": "https://localhost:8080/"
        },
        "id": "8mWjdP-PvPlu",
        "outputId": "8c85fb45-8b88-4f1e-9855-fe362a3dc3d2"
      },
      "execution_count": null,
      "outputs": [
        {
          "output_type": "execute_result",
          "data": {
            "text/plain": [
              "array([4, 5, 6])"
            ]
          },
          "metadata": {},
          "execution_count": 28
        }
      ]
    },
    {
      "cell_type": "markdown",
      "source": [
        "Pobranie ostatniego elemnetu"
      ],
      "metadata": {
        "id": "l6hmbGtRvt6B"
      }
    },
    {
      "cell_type": "code",
      "source": [
        "vector[-1]"
      ],
      "metadata": {
        "colab": {
          "base_uri": "https://localhost:8080/"
        },
        "id": "p_HoFAy8vS38",
        "outputId": "ddc7d7a7-6f80-421b-8921-a4e6c7fb1a28"
      },
      "execution_count": null,
      "outputs": [
        {
          "output_type": "execute_result",
          "data": {
            "text/plain": [
              "6"
            ]
          },
          "metadata": {},
          "execution_count": 29
        }
      ]
    },
    {
      "cell_type": "markdown",
      "source": [
        "Odwórcenie wektora"
      ],
      "metadata": {
        "id": "XJh83U-pvwK9"
      }
    },
    {
      "cell_type": "code",
      "source": [
        "vector[::-1]"
      ],
      "metadata": {
        "colab": {
          "base_uri": "https://localhost:8080/"
        },
        "id": "tTR5kD94vVbB",
        "outputId": "8a12b534-7ba9-4edf-de9e-97de9c2cb981"
      },
      "execution_count": null,
      "outputs": [
        {
          "output_type": "execute_result",
          "data": {
            "text/plain": [
              "array([6, 5, 4, 3, 2, 1])"
            ]
          },
          "metadata": {},
          "execution_count": 30
        }
      ]
    },
    {
      "cell_type": "markdown",
      "source": [
        "Pobranie elemntu macierzy znajdującego się w trzecim wierszu i trzeciej kolumnie"
      ],
      "metadata": {
        "id": "hRQfXK1fv4Wf"
      }
    },
    {
      "cell_type": "code",
      "source": [
        "matrix[2, 2]"
      ],
      "metadata": {
        "colab": {
          "base_uri": "https://localhost:8080/"
        },
        "id": "O9OceoDKvZlZ",
        "outputId": "f91ea6cb-ca8e-4af1-99a2-c2986d4b46fa"
      },
      "execution_count": null,
      "outputs": [
        {
          "output_type": "execute_result",
          "data": {
            "text/plain": [
              "9"
            ]
          },
          "metadata": {},
          "execution_count": 31
        }
      ]
    },
    {
      "cell_type": "markdown",
      "source": [
        "Pobranie pierwszych dwóch wierszy i wszytskich kolumn"
      ],
      "metadata": {
        "id": "glFgF6XEwJPX"
      }
    },
    {
      "cell_type": "code",
      "source": [
        "matrix[:2, :]"
      ],
      "metadata": {
        "colab": {
          "base_uri": "https://localhost:8080/"
        },
        "id": "0o79xgfBv3mf",
        "outputId": "921e2a98-370c-42af-f6f3-6c031165b3ec"
      },
      "execution_count": null,
      "outputs": [
        {
          "output_type": "execute_result",
          "data": {
            "text/plain": [
              "array([[1, 2, 3],\n",
              "       [4, 5, 6]])"
            ]
          },
          "metadata": {},
          "execution_count": 32
        }
      ]
    },
    {
      "cell_type": "markdown",
      "source": [
        "Pobranie wszystkich wierszy i drugiej kolumny"
      ],
      "metadata": {
        "id": "fYB6PUzpwTA_"
      }
    },
    {
      "cell_type": "code",
      "source": [
        "matrix[:, 1:2]"
      ],
      "metadata": {
        "colab": {
          "base_uri": "https://localhost:8080/"
        },
        "id": "eNHpYNNawIwO",
        "outputId": "3519fb8a-d738-44f1-f7c4-483815e71be6"
      },
      "execution_count": null,
      "outputs": [
        {
          "output_type": "execute_result",
          "data": {
            "text/plain": [
              "array([[2],\n",
              "       [5],\n",
              "       [8]])"
            ]
          },
          "metadata": {},
          "execution_count": 33
        }
      ]
    },
    {
      "cell_type": "markdown",
      "source": [
        "###Zadanie 5. Opisywanie macierzy"
      ],
      "metadata": {
        "id": "e5HpEz9Awg6B"
      }
    },
    {
      "cell_type": "markdown",
      "source": [
        "Opiszmy kształt, wielkość i wymiar macierzy - w tym celu skorzystamy z oferowanych przez bibliotekę Numpy krotek shape, size oraz ndim"
      ],
      "metadata": {
        "id": "jb3vvTo5woWN"
      }
    },
    {
      "cell_type": "code",
      "source": [
        "#Wczytanie biblioteki\n",
        "import numpy as np\n",
        "#Utworzenie macierzy\n",
        "matrix = np.array([[1, 2, 3, 4],\n",
        "                   [5, 6, 7, 8],\n",
        "                   [9, 10, 11, 13]])\n",
        "\n",
        "#Wyświetl liczbę wierszy i kolumn\n",
        "print(matrix.shape)\n",
        "#Wyświetlenie liczby elemnetów (wiersze x kolumny)\n",
        "print(matrix.size)\n",
        "#Wyświetlenie liczby wymiarów\n",
        "print(matrix.ndim)"
      ],
      "metadata": {
        "colab": {
          "base_uri": "https://localhost:8080/"
        },
        "id": "SeXAvixDwX6q",
        "outputId": "5fa5737c-a2ea-4881-e05e-8fb3e6245c7e"
      },
      "execution_count": null,
      "outputs": [
        {
          "output_type": "stream",
          "name": "stdout",
          "text": [
            "(3, 4)\n",
            "12\n",
            "2\n"
          ]
        }
      ]
    },
    {
      "cell_type": "markdown",
      "source": [
        "###Zadanie 6. Przeprowadzenie operacji na wszytskich elemnetach"
      ],
      "metadata": {
        "id": "nAsFFImBxgKZ"
      }
    },
    {
      "cell_type": "markdown",
      "source": [
        "Aby przeprowadzić operację na wszystkich elemnetach tablicy użyj oferowanej prze bibliotekę NumPy metodę vectorize()."
      ],
      "metadata": {
        "id": "nvOsq2Uoxoah"
      }
    },
    {
      "cell_type": "code",
      "source": [
        "#Wczytanie biblioteki\n",
        "import numpy as np\n",
        "#Utworzenie macierzy\n",
        "matrix = np.array([[1, 2, 3],\n",
        "                   [4, 5, 6],\n",
        "                   [7, 8, 9]])\n",
        "#Utworzenie funkcji dodającej 100 do istniejącej wartości\n",
        "add_100 = lambda x: x + 100\n",
        "\n",
        "#Utworzenie funkcji bazującej na metodzie vectorize()\n",
        "vectorized_add_100 = np.vectorize(add_100)\n",
        "\n",
        "#Wywołanie funkcji dla wszytskich elementów macierzy\n",
        "vectorized_add_100(matrix)"
      ],
      "metadata": {
        "colab": {
          "base_uri": "https://localhost:8080/"
        },
        "id": "vViBMTQdxU1R",
        "outputId": "a0747302-75ab-4732-c278-35857b6e453e"
      },
      "execution_count": null,
      "outputs": [
        {
          "output_type": "execute_result",
          "data": {
            "text/plain": [
              "array([[101, 102, 103],\n",
              "       [104, 105, 106],\n",
              "       [107, 108, 109]])"
            ]
          },
          "metadata": {},
          "execution_count": 1
        }
      ]
    },
    {
      "cell_type": "markdown",
      "source": [
        "Zdefiniowana w bibliotece NumPy metoda vectorize() przeprowadza konwersję funkcji na postać, którą można wywołać dla wszytskich elemnetów tablicy bądź też wycinka tablicy.\n",
        "\n",
        "Warto w tym miejscu wspomnieć, iż działanie tej metody przypomina pętlę for przeprowadzajacą iterację przez elemnety.\n",
        "\n",
        "Co więcej tablica NumPy pozwala na wykonywanie operacji między tablicami, nawet jeśli ich wymiary są inne - **broadcasting**.\n",
        "\n"
      ],
      "metadata": {
        "id": "xGX_NHq3WFBG"
      }
    },
    {
      "cell_type": "markdown",
      "source": [
        "Bazując na metodzie broadcastingu, można przygotować znacznie prostszą wersję omawianego tutaj rozwiązania."
      ],
      "metadata": {
        "id": "omY5zQ5YW8qB"
      }
    },
    {
      "cell_type": "code",
      "source": [
        "#Wczytanie biblioteki\n",
        "import numpy as np\n",
        "#Utworzenie macierzy\n",
        "matrix = np.array([[1, 2, 3],\n",
        "                   [4, 5, 6],\n",
        "                   [7, 8, 9]])\n",
        "\n",
        "matrix += 100\n",
        "print(matrix)"
      ],
      "metadata": {
        "colab": {
          "base_uri": "https://localhost:8080/"
        },
        "id": "J8bzs4HkWCtE",
        "outputId": "3eadd3a4-0b24-4050-99d5-f3d424540088"
      },
      "execution_count": null,
      "outputs": [
        {
          "output_type": "stream",
          "name": "stdout",
          "text": [
            "[[101 102 103]\n",
            " [104 105 106]\n",
            " [107 108 109]]\n"
          ]
        }
      ]
    },
    {
      "cell_type": "markdown",
      "source": [
        "Wprowadzenie broadcastingu nie działa dla wszystkich kształtów oraz w każdej sytuacji, ale stanowi powszechnie używany sposób na przeprowadzenie pewnych operacji dla wszytskich elementów tablicy biblioteki NumPy."
      ],
      "metadata": {
        "id": "c_pGYDTRXaiF"
      }
    },
    {
      "cell_type": "markdown",
      "source": [
        "###Zadanie 7. Znajdowanie wartości maksymalnej i minimalnej"
      ],
      "metadata": {
        "id": "lhRmNleSXurY"
      }
    },
    {
      "cell_type": "markdown",
      "source": [
        "Aby znależć wartosć maksymalną i minimalną w tablicy nalezy użyć oferowanych przez bibliotekę numpy metod max() oraz min().\n",
        "\n",
        "Użycie parametru axis pozwala na przeprowadzenie operacji względem podanej osi."
      ],
      "metadata": {
        "id": "z5rfafsXX0Jp"
      }
    },
    {
      "cell_type": "code",
      "source": [
        "#Wczytywanie biblioteki\n",
        "import numpy as np\n",
        "#Utworzenie macierzy\n",
        "matrix = np.array([[1, 2, 3],\n",
        "                   [4, 5, 6],\n",
        "                   [7, 8, 9]])\n",
        "#Zwrot elementu o maksymalnej wartości\n",
        "print(np.max(matrix))\n",
        "\n",
        "#Zwrot elementu o minimalnej wartości\n",
        "print(np.min(matrix))"
      ],
      "metadata": {
        "colab": {
          "base_uri": "https://localhost:8080/"
        },
        "id": "0jazdN4wXI5y",
        "outputId": "cd3f9dd0-4839-4792-e836-9af58310ef51"
      },
      "execution_count": null,
      "outputs": [
        {
          "output_type": "stream",
          "name": "stdout",
          "text": [
            "9\n",
            "1\n"
          ]
        }
      ]
    },
    {
      "cell_type": "code",
      "source": [
        "#Wyszukanie w każdej kolumnie elemnetu o maksymalnej wartości\n",
        "\n",
        "print(matrix)\n",
        "print(10 * '*')\n",
        "print(np.max(matrix, axis=0))"
      ],
      "metadata": {
        "colab": {
          "base_uri": "https://localhost:8080/"
        },
        "id": "k9fJUqR7YchI",
        "outputId": "216861f5-ef6b-4b5f-a8c3-e5b6c3b831c3"
      },
      "execution_count": null,
      "outputs": [
        {
          "output_type": "stream",
          "name": "stdout",
          "text": [
            "[[1 2 3]\n",
            " [4 5 6]\n",
            " [7 8 9]]\n",
            "**********\n",
            "[7 8 9]\n"
          ]
        }
      ]
    },
    {
      "cell_type": "code",
      "source": [
        "matrix = np.array([[1, 10, 12],\n",
        "                   [3, 12, 98],\n",
        "                   [3, 89, 100]])\n",
        "\n",
        "print(np.max(matrix, axis=0))"
      ],
      "metadata": {
        "colab": {
          "base_uri": "https://localhost:8080/"
        },
        "id": "VjHQmzskZOjd",
        "outputId": "f74ecff5-027b-46eb-8f4c-ed8e3e0766e5"
      },
      "execution_count": null,
      "outputs": [
        {
          "output_type": "stream",
          "name": "stdout",
          "text": [
            "[  3  89 100]\n"
          ]
        }
      ]
    },
    {
      "cell_type": "code",
      "source": [
        "#Wyszukanie w każdem wierszu elemnetu o maksymalnej wartości\n",
        "\n",
        "print(matrix)\n",
        "print(10 * '*')\n",
        "print(np.max(matrix, axis=1))"
      ],
      "metadata": {
        "colab": {
          "base_uri": "https://localhost:8080/"
        },
        "id": "-9XZ9mSAY4Ap",
        "outputId": "4de0d73e-ddcd-4ff5-8e6c-5bb27701b327"
      },
      "execution_count": null,
      "outputs": [
        {
          "output_type": "stream",
          "name": "stdout",
          "text": [
            "[[1 2 3]\n",
            " [4 5 6]\n",
            " [7 8 9]]\n",
            "**********\n",
            "[3 6 9]\n"
          ]
        }
      ]
    },
    {
      "cell_type": "code",
      "source": [
        "matrix = np.array([[1, 10, 12],\n",
        "                   [3, 12, 98],\n",
        "                   [3, 89, 100]])\n",
        "\n",
        "print(np.max(matrix, axis=1))"
      ],
      "metadata": {
        "colab": {
          "base_uri": "https://localhost:8080/"
        },
        "id": "X5YQsrz4ZFkx",
        "outputId": "4ea421ae-67f9-4262-8521-cff340676290"
      },
      "execution_count": null,
      "outputs": [
        {
          "output_type": "stream",
          "name": "stdout",
          "text": [
            "[ 12  98 100]\n"
          ]
        }
      ]
    },
    {
      "cell_type": "markdown",
      "source": [
        "###Zadanie 8. Obliczanie średniej, wariancji i odchylenia standardowego"
      ],
      "metadata": {
        "id": "gqw_RdzXaiq-"
      }
    },
    {
      "cell_type": "markdown",
      "source": [
        "Aby uzyskać wybrane dane statystyczne dotyczace tablicy należy skorzystać z oferowanych przez bibliotekę numpy metod mean() - średnia, var() - wariancja, std() - odchylenie standardowe."
      ],
      "metadata": {
        "id": "q97auSL5aqIP"
      }
    },
    {
      "cell_type": "code",
      "source": [
        "#Wczytanie biblioteki\n",
        "import numpy as np\n",
        "#Utworzenie macierzy\n",
        "matrix = np.array([[1, 2, 3],\n",
        "                   [4, 5, 6],\n",
        "                   [7, 8, 9]])\n",
        "#Zwrot wartości średniej\n",
        "print(np.mean(matrix))\n",
        "#Zwrot wariancji\n",
        "print(np.var(matrix))\n",
        "#Zwrot odchylenia standardowego\n",
        "print(np.std(matrix))"
      ],
      "metadata": {
        "colab": {
          "base_uri": "https://localhost:8080/"
        },
        "id": "dWzMjAVAaZrR",
        "outputId": "23f3098d-63e4-4b32-ae6d-a60d5de62986"
      },
      "execution_count": null,
      "outputs": [
        {
          "output_type": "stream",
          "name": "stdout",
          "text": [
            "5.0\n",
            "6.666666666666667\n",
            "2.581988897471611\n"
          ]
        }
      ]
    },
    {
      "cell_type": "markdown",
      "source": [
        "Podobnie jak w przypadku metod max() i min() można w prosty sposób otrzymać wybrane dane statystyczne  dotyczace całej macierzy lub tylko jednej osi."
      ],
      "metadata": {
        "id": "OdF4ju8RbXQk"
      }
    },
    {
      "cell_type": "code",
      "source": [
        "#Wyszukanie wartości średniej w każdej kolumnie\n",
        "np.mean(matrix, axis=0)"
      ],
      "metadata": {
        "colab": {
          "base_uri": "https://localhost:8080/"
        },
        "id": "yDTYW0SubQu_",
        "outputId": "75776d73-4463-4a14-fb3a-c5eb22a27edd"
      },
      "execution_count": null,
      "outputs": [
        {
          "output_type": "execute_result",
          "data": {
            "text/plain": [
              "array([4., 5., 6.])"
            ]
          },
          "metadata": {},
          "execution_count": 13
        }
      ]
    },
    {
      "cell_type": "markdown",
      "source": [
        "###Zadanie 9. Zmiana kształtu tablicy"
      ],
      "metadata": {
        "id": "aqRYM0EEcoYO"
      }
    },
    {
      "cell_type": "markdown",
      "source": [
        "Aby zmienić kształt (liczbę wierszy i kolumn) tablicy bez modyfikowania wartości jej elemnetów należy użyć oferowanej przez bibliotekę NumPy metody reshape()."
      ],
      "metadata": {
        "id": "2Dmsycgnct7Q"
      }
    },
    {
      "cell_type": "code",
      "source": [
        "#Wczytanie biblioteki\n",
        "import numpy as np\n",
        "\n",
        "#Utworzeznie macierzy o wielkości 4x3\n",
        "matrix = np.array([[1, 2, 3],\n",
        "                  [4, 5, 6],\n",
        "                   [7, 8, 9],\n",
        "                   [10, 11, 12]])\n",
        "\n",
        "#Zmiana kształtu macierzy na (2, 6)\n",
        "matrix = matrix.reshape(2, 6)\n",
        "print(matrix)"
      ],
      "metadata": {
        "colab": {
          "base_uri": "https://localhost:8080/"
        },
        "id": "DHxumn1ocgfR",
        "outputId": "d5ccded8-ea92-42ab-8383-6f6e4500f2e5"
      },
      "execution_count": null,
      "outputs": [
        {
          "output_type": "stream",
          "name": "stdout",
          "text": [
            "[[ 1  2  3  4  5  6]\n",
            " [ 7  8  9 10 11 12]]\n"
          ]
        }
      ]
    },
    {
      "cell_type": "markdown",
      "source": [
        "Metoda reshape() pozwala na przeprowadzenie restrukturyzacji tablicy w taki sposób, aby zachowała te same dane, ale przechowywane za pomocą innej liczby wierszy i kolumn.\n",
        "\n",
        "Jedynym wymogiem jest zachowanie tej samej liczby elementów przez macierze poczatkowa i zmodyfikowaną.\n",
        "\n",
        "Innymi słowy - muszą mieć one tę samą wielkość.\n",
        "\n",
        "Jak zostało to zaprezentowane nieco wcześniej, do sprawdzenia wielkości macierzy można użyć metody size().\n"
      ],
      "metadata": {
        "id": "MnPHp-aVdkGa"
      }
    },
    {
      "cell_type": "markdown",
      "source": [
        "Jednym z bardzo użytecznych argumentów metody reshape() jest -1, który oznacza dowolną wymaganą liczbę.\n",
        "\n",
        "Dlatego też wywoałanie reshape(1, -1) oznacza jeden wiersz i dowolną wymaganą liczbę kolumn"
      ],
      "metadata": {
        "id": "SgtldnTIeJPA"
      }
    },
    {
      "cell_type": "code",
      "source": [
        "matrix.reshape(1, -1)"
      ],
      "metadata": {
        "colab": {
          "base_uri": "https://localhost:8080/"
        },
        "id": "qPXb5qkoddwU",
        "outputId": "12781575-3339-4a00-84bd-bbaa363fd5dd"
      },
      "execution_count": null,
      "outputs": [
        {
          "output_type": "execute_result",
          "data": {
            "text/plain": [
              "array([[ 1,  2,  3,  4,  5,  6,  7,  8,  9, 10, 11, 12]])"
            ]
          },
          "metadata": {},
          "execution_count": 16
        }
      ]
    },
    {
      "cell_type": "markdown",
      "source": [
        "W przypadku podania tylko jednej liczby całkowitej wartością zwrotną metody reshape() będzie tablica jednowymiarowa o podanej wielkości."
      ],
      "metadata": {
        "id": "I7_2SBiKen98"
      }
    },
    {
      "cell_type": "code",
      "source": [
        "matrix.reshape(12)"
      ],
      "metadata": {
        "colab": {
          "base_uri": "https://localhost:8080/"
        },
        "id": "YZSME7Peeh42",
        "outputId": "10462f10-93f2-42f7-a535-1588dd5fe07c"
      },
      "execution_count": null,
      "outputs": [
        {
          "output_type": "execute_result",
          "data": {
            "text/plain": [
              "array([ 1,  2,  3,  4,  5,  6,  7,  8,  9, 10, 11, 12])"
            ]
          },
          "metadata": {},
          "execution_count": 17
        }
      ]
    },
    {
      "cell_type": "markdown",
      "source": [
        "###10. Transponowanie wektora lub macierzy"
      ],
      "metadata": {
        "id": "XvMb_15ce2rO"
      }
    },
    {
      "cell_type": "markdown",
      "source": [
        "Jeżeli potrzebujesz przeprowadzić transponowanie wektora lub macierzy użyj oferowanego przez bibliotekę NumPy atrybutu T."
      ],
      "metadata": {
        "id": "oaZD-dACe6Xy"
      }
    },
    {
      "cell_type": "code",
      "source": [
        "#Wczytanie biblioteki\n",
        "import numpy as np\n",
        "#Utworzenie macierzy\n",
        "matrix = np.array([[1, 2, 3],\n",
        "                   [4, 5, 6],\n",
        "                   [7, 8, 9]])\n",
        "#Transponowanien macierzy\n",
        "matrix.T"
      ],
      "metadata": {
        "colab": {
          "base_uri": "https://localhost:8080/"
        },
        "id": "K6Km7QgleylZ",
        "outputId": "f3e09757-adab-4a37-909c-8e3af567e5f4"
      },
      "execution_count": null,
      "outputs": [
        {
          "output_type": "execute_result",
          "data": {
            "text/plain": [
              "array([[1, 4, 7],\n",
              "       [2, 5, 8],\n",
              "       [3, 6, 9]])"
            ]
          },
          "metadata": {},
          "execution_count": 18
        }
      ]
    },
    {
      "cell_type": "markdown",
      "source": [
        "**Transponowanie** - dość często przeprowadzana w algebrze liniowej operacja, w trakcie której następuje zamiana miejscami indeksów kolumn i wierszy każdego elemntu.\n",
        "\n",
        "Należy wskazać, iż formalnie wektor nie może być transponowany, ponieważ jest po prostu kolekcją wartości."
      ],
      "metadata": {
        "id": "jD2CSzxVfS4C"
      }
    },
    {
      "cell_type": "code",
      "source": [
        "vector = np.array([1, 2, 3, 4])\n",
        "vector"
      ],
      "metadata": {
        "colab": {
          "base_uri": "https://localhost:8080/"
        },
        "id": "KD2JYruSfQtV",
        "outputId": "15d1b7b5-fd9c-4fc6-b2fd-3154bfe0db17"
      },
      "execution_count": null,
      "outputs": [
        {
          "output_type": "execute_result",
          "data": {
            "text/plain": [
              "array([1, 2, 3, 4])"
            ]
          },
          "metadata": {},
          "execution_count": 23
        }
      ]
    },
    {
      "cell_type": "code",
      "source": [
        "vector.T"
      ],
      "metadata": {
        "colab": {
          "base_uri": "https://localhost:8080/"
        },
        "id": "OuKemY8Mf14v",
        "outputId": "868ba9f3-ff11-4f1f-e987-eb2eaec73099"
      },
      "execution_count": null,
      "outputs": [
        {
          "output_type": "execute_result",
          "data": {
            "text/plain": [
              "array([1, 2, 3, 4])"
            ]
          },
          "metadata": {},
          "execution_count": 24
        }
      ]
    },
    {
      "cell_type": "markdown",
      "source": [
        "Mimo to powszechnie używa się pojęcia 'transponowanie' w odniesieniu do konwersji wiersza wektora na kolumnę bądź na odwót.\n",
        "\n",
        "Uwaga! Zwróć uwagę na drugi nawias kwadratowy"
      ],
      "metadata": {
        "id": "nVwd1NLJgKle"
      }
    },
    {
      "cell_type": "code",
      "source": [
        "vector = np.array([[1, 2, 3, 4]])\n",
        "vector"
      ],
      "metadata": {
        "colab": {
          "base_uri": "https://localhost:8080/"
        },
        "id": "kKJgyTSOf-4H",
        "outputId": "0561be2a-473d-4da9-8d60-5e580d5ecc2a"
      },
      "execution_count": null,
      "outputs": [
        {
          "output_type": "execute_result",
          "data": {
            "text/plain": [
              "array([[1, 2, 3, 4]])"
            ]
          },
          "metadata": {},
          "execution_count": 25
        }
      ]
    },
    {
      "cell_type": "code",
      "source": [
        "vector.T"
      ],
      "metadata": {
        "colab": {
          "base_uri": "https://localhost:8080/"
        },
        "id": "EhRFGaXbgaza",
        "outputId": "97caf062-f8fc-4ecd-8665-8d5b7d174e59"
      },
      "execution_count": null,
      "outputs": [
        {
          "output_type": "execute_result",
          "data": {
            "text/plain": [
              "array([[1],\n",
              "       [2],\n",
              "       [3],\n",
              "       [4]])"
            ]
          },
          "metadata": {},
          "execution_count": 27
        }
      ]
    },
    {
      "cell_type": "markdown",
      "source": [
        "###Zadanie 11. Spłaszczanie macierzy"
      ],
      "metadata": {
        "id": "1v7vOk5Tgp6g"
      }
    },
    {
      "cell_type": "markdown",
      "source": [
        "Jeżeli potrzebujesz przekształcić macierz w tablicę jednowymiarową, użyj oferowanej przez bibliotekę NumPy metody flatten()"
      ],
      "metadata": {
        "id": "3v8vqVOygzHB"
      }
    },
    {
      "cell_type": "code",
      "source": [
        "#Wczytanie biblioteki\n",
        "import numpy as np\n",
        "#Utworzenie macierzy\n",
        "matrix = np.array([[1, 2, 3],\n",
        "                   [4, 5, 6],\n",
        "                   [7, 8, 9]])\n",
        "#Spłaszczanie macierzy\n",
        "matrix.flatten()"
      ],
      "metadata": {
        "colab": {
          "base_uri": "https://localhost:8080/"
        },
        "id": "ZqN-mMZ0gcAD",
        "outputId": "df2aa920-57c0-4a57-e3e1-d40baac1394b"
      },
      "execution_count": null,
      "outputs": [
        {
          "output_type": "execute_result",
          "data": {
            "text/plain": [
              "array([1, 2, 3, 4, 5, 6, 7, 8, 9])"
            ]
          },
          "metadata": {},
          "execution_count": 28
        }
      ]
    },
    {
      "cell_type": "markdown",
      "source": [
        "flatten() to metoda pozwalająca na przekształcenie macierzy w tablicę jednowymiarową.\n",
        "\n",
        "Alternatywne rozwiązanie polega na użyciu metody reshape() do utworzenia wiersza wektora."
      ],
      "metadata": {
        "id": "wnRVADixhCrH"
      }
    },
    {
      "cell_type": "code",
      "source": [
        "matrix.reshape(1, -1)"
      ],
      "metadata": {
        "colab": {
          "base_uri": "https://localhost:8080/"
        },
        "id": "h44IG9vwhA_O",
        "outputId": "330379a8-6c93-46d2-feb0-b6c1b7d2c5d2"
      },
      "execution_count": null,
      "outputs": [
        {
          "output_type": "execute_result",
          "data": {
            "text/plain": [
              "array([[1, 2, 3, 4, 5, 6, 7, 8, 9]])"
            ]
          },
          "metadata": {},
          "execution_count": 29
        }
      ]
    },
    {
      "cell_type": "markdown",
      "source": [
        "Inny sposób spłaszczenia tablicy polega na użyciu metody ravel().\n",
        "\n",
        "W przeciwieństwie do metody flatten() zwracającej kopię pierwotnej tablicy, metoda ravel() działa na wskazanym obiekcie i dlatego jest nieco szybsza.\n",
        "\n",
        "Ponadto umożliwia spłaszczenie listy tablic, co okazuje się niemożliwe w przypadku metody flatten().\n",
        "\n",
        "Metoda ta będzie użyteczna w przypadku spłaszczania naprawdę ogromnych tablic i przyspieszy wykonywanie kodu."
      ],
      "metadata": {
        "id": "Zj9r0YqXhcmW"
      }
    },
    {
      "cell_type": "code",
      "source": [
        "#Utworzenie pierwszej macierzy\n",
        "matrix_1 = np.array([[1, 2],\n",
        "                     [3, 4]])\n",
        "\n",
        "#Utworzenie drugiej macierzy\n",
        "matrix_2 = np.array([[5, 6],\n",
        "                     [7, 8]])\n",
        "\n",
        "#Utworzenie listy macierzy\n",
        "matrix_list = [matrix_1, matrix_2]\n",
        "\n",
        "#Spłaszczanie całej listy macierzy\n",
        "np.ravel(matrix_list)"
      ],
      "metadata": {
        "colab": {
          "base_uri": "https://localhost:8080/"
        },
        "id": "uVjKcufPhX4N",
        "outputId": "030e3bac-7ffe-48ef-d4d5-82ed5945ea80"
      },
      "execution_count": null,
      "outputs": [
        {
          "output_type": "execute_result",
          "data": {
            "text/plain": [
              "array([1, 2, 3, 4, 5, 6, 7, 8])"
            ]
          },
          "metadata": {},
          "execution_count": 30
        }
      ]
    },
    {
      "cell_type": "markdown",
      "source": [
        "###Zadanie 12. Znajdowanie rzędu macierzy"
      ],
      "metadata": {
        "id": "o0YseUd-i_7E"
      }
    },
    {
      "cell_type": "markdown",
      "source": [
        "Jeżeli chcesz znaleźć rząd macierzy skorzystaj z oferowanej przez bibliotekę NumPy metody matrix_rank() z zakresu algebry liniowej."
      ],
      "metadata": {
        "id": "WJa5PVMAa3kB"
      }
    },
    {
      "cell_type": "code",
      "source": [
        "#Wczytywanie biblioteki\n",
        "import numpy as np\n",
        "#Utworzenie macierzy\n",
        "matrix = np.array([[1, 1, 1],\n",
        "                   [1, 1, 10],\n",
        "                   [1, 1, 15]])\n",
        "\n",
        "#Zwraca rząd macierzy\n",
        "np.linalg.matrix_rank(matrix)"
      ],
      "metadata": {
        "colab": {
          "base_uri": "https://localhost:8080/"
        },
        "id": "H9xPkI_Jiz8t",
        "outputId": "584f6ba7-7ba5-4643-fe56-6af3a6cdaca5"
      },
      "execution_count": null,
      "outputs": [
        {
          "output_type": "execute_result",
          "data": {
            "text/plain": [
              "2"
            ]
          },
          "metadata": {},
          "execution_count": 1
        }
      ]
    },
    {
      "cell_type": "markdown",
      "source": [
        "**Rząd macierzy** to wymiar przestrzeni wektora obejmowanej przez jego kolumny lub wiersze."
      ],
      "metadata": {
        "id": "y6GR9pQ9bZAK"
      }
    },
    {
      "cell_type": "markdown",
      "source": [
        "###Zadanie 13. Pobieranie przekątnej macierzy"
      ],
      "metadata": {
        "id": "FibJ6BkNbugZ"
      }
    },
    {
      "cell_type": "markdown",
      "source": [
        "Jeżeli chcesz pobrać elemnety leżące na przekątnej macierzy uzyj oferowanej przez bibliotekę NumPy metody *diagonal()*."
      ],
      "metadata": {
        "id": "UpueNESpbyJD"
      }
    },
    {
      "cell_type": "code",
      "source": [
        "#Wczytywanie biblioteki\n",
        "import numpy as np\n",
        "#Utworzenie macierzy\n",
        "matrix = np.array([[1, 2, 3],\n",
        "                   [2, 4, 6],\n",
        "                   [3, 8, 9]])\n",
        "\n",
        "#Zwrot elemnetów znajdujących się na przekątnej macierzy\n",
        "matrix.diagonal()"
      ],
      "metadata": {
        "colab": {
          "base_uri": "https://localhost:8080/"
        },
        "id": "YAGliLZhbXhA",
        "outputId": "f993e3e1-4d97-4b73-efc8-089d92939d77"
      },
      "execution_count": null,
      "outputs": [
        {
          "output_type": "execute_result",
          "data": {
            "text/plain": [
              "array([1, 4, 9])"
            ]
          },
          "metadata": {},
          "execution_count": 2
        }
      ]
    },
    {
      "cell_type": "markdown",
      "source": [
        "Poza metodą diagonal() istnieje również inna możliwość pobrania elementów znajdujących się na przekątnej innej niż głowna - wymaga to użycia parametru offsets."
      ],
      "metadata": {
        "id": "cpGqQndycWbM"
      }
    },
    {
      "cell_type": "code",
      "source": [
        "matrix.diagonal(offset=1)"
      ],
      "metadata": {
        "colab": {
          "base_uri": "https://localhost:8080/"
        },
        "id": "x2vADFNEc3AQ",
        "outputId": "a9f661fc-4ea6-4a87-e063-2c4a55c20eb5"
      },
      "execution_count": null,
      "outputs": [
        {
          "output_type": "execute_result",
          "data": {
            "text/plain": [
              "array([2, 6])"
            ]
          },
          "metadata": {},
          "execution_count": 6
        }
      ]
    },
    {
      "cell_type": "code",
      "source": [
        "matrix.diagonal(offset=-2)"
      ],
      "metadata": {
        "colab": {
          "base_uri": "https://localhost:8080/"
        },
        "id": "-S7ryMUkcTBl",
        "outputId": "8793a4a7-61c5-458b-a8b2-a2bd945ff529"
      },
      "execution_count": null,
      "outputs": [
        {
          "output_type": "execute_result",
          "data": {
            "text/plain": [
              "array([3])"
            ]
          },
          "metadata": {},
          "execution_count": 5
        }
      ]
    },
    {
      "cell_type": "markdown",
      "source": [
        "###Zadanie 14. Obliczanie śladu macierzy"
      ],
      "metadata": {
        "id": "8ccaKCaAc6kZ"
      }
    },
    {
      "cell_type": "markdown",
      "source": [
        "Jeśli chcesz obliczyć ślad macierzy skorzystaj z oferowanej przez bibliotekę NumPy metody trace()"
      ],
      "metadata": {
        "id": "kLhiTtqKc_po"
      }
    },
    {
      "cell_type": "code",
      "source": [
        "#Wczytywanie biblioteki\n",
        "import numpy as np\n",
        "#Utworzenie macierzy\n",
        "matrix = np.array([[1, 2, 3],\n",
        "                   [2, 4, 6],\n",
        "                   [3, 8, 9]])\n",
        "matrix.trace()"
      ],
      "metadata": {
        "colab": {
          "base_uri": "https://localhost:8080/"
        },
        "id": "N0pGsc8-cqy-",
        "outputId": "00bf5a41-a70b-4666-9952-f5ce20f82594"
      },
      "execution_count": null,
      "outputs": [
        {
          "output_type": "execute_result",
          "data": {
            "text/plain": [
              "14"
            ]
          },
          "metadata": {},
          "execution_count": 7
        }
      ]
    },
    {
      "cell_type": "markdown",
      "source": [
        "**Ślad macierzy** - suma elementów przekątnej- ta wartość bardzo często jest wykorzystywana w tle przez metody uczenia maszynowego.\n",
        "\n",
        "Mając tablicę wielowymiarową NumPy można obliczyć jej ślad za pomoca metody trace().\n",
        "\n",
        "Istnieje również możliwość zwrotu przekątnej macierzy i jednoczesnego obliczenia sumy elementów leżących na przekątnej. Przykład zaprezentowano w dalszym fragmencie kodu."
      ],
      "metadata": {
        "id": "tqDRMC4ydW9F"
      }
    },
    {
      "cell_type": "code",
      "source": [
        "#Zwrot sumy elementów leżących na przekątnej macierzy\n",
        "sum(matrix.diagonal())"
      ],
      "metadata": {
        "colab": {
          "base_uri": "https://localhost:8080/"
        },
        "id": "6FKXhqcWdU92",
        "outputId": "3858c113-3db3-4f9d-c13c-afb97d8b7f44"
      },
      "execution_count": null,
      "outputs": [
        {
          "output_type": "execute_result",
          "data": {
            "text/plain": [
              "14"
            ]
          },
          "metadata": {},
          "execution_count": 8
        }
      ]
    },
    {
      "cell_type": "markdown",
      "source": [
        "###Zadanie 15. Obliczanie iloczynu skalarnego"
      ],
      "metadata": {
        "id": "jb1-PA8XhJty"
      }
    },
    {
      "cell_type": "markdown",
      "source": [
        "Jeżeli potrezebujesz obliczyć iloczyn skalarny dwóch wektorów użyj oferowanej przez bibliotekę NumPy metody *dot()*."
      ],
      "metadata": {
        "id": "LaLtpGXOhOu0"
      }
    },
    {
      "cell_type": "code",
      "source": [
        "#Wczytywanie biblioteki\n",
        "import numpy as np\n",
        "#Utworzenie dwóch wektorów\n",
        "vector_1 = np.array([1, 2, 3])\n",
        "vector_2 = np.array([4, 5, 6])\n",
        "#Obliczanie iloczynu skalarnego\n",
        "np.dot(vector_1, vector_2)"
      ],
      "metadata": {
        "colab": {
          "base_uri": "https://localhost:8080/"
        },
        "id": "3BeMFhr-d_RQ",
        "outputId": "cd2caf1f-38f8-4e57-fa9c-3b467b549475"
      },
      "execution_count": null,
      "outputs": [
        {
          "output_type": "execute_result",
          "data": {
            "text/plain": [
              "32"
            ]
          },
          "metadata": {},
          "execution_count": 10
        }
      ]
    },
    {
      "cell_type": "markdown",
      "source": [
        "Iloczyn skalarny dwóch wektorów a i b, można zdefiniować za pomocą następującego wzoru:"
      ],
      "metadata": {
        "id": "To3THDzBhxIk"
      }
    },
    {
      "cell_type": "markdown",
      "source": [],
      "metadata": {
        "id": "9gSgIWhPie-h"
      }
    },
    {
      "cell_type": "markdown",
      "source": [
        "w którym"
      ],
      "metadata": {
        "id": "f61y9jPgifXe"
      }
    },
    {
      "cell_type": "code",
      "source": [],
      "metadata": {
        "id": "54b6GaWJhqDI"
      },
      "execution_count": null,
      "outputs": []
    },
    {
      "cell_type": "markdown",
      "source": [
        "Alternatywne rozwiązanie w Pythonie 3.5 i nowszych wersjach polega na użyciu nowego operatora @, jak pokazano w poniższym fragmencie kodu."
      ],
      "metadata": {
        "id": "OhknfdvBip9j"
      }
    },
    {
      "cell_type": "code",
      "source": [
        "vector_1 @ vector_2"
      ],
      "metadata": {
        "colab": {
          "base_uri": "https://localhost:8080/"
        },
        "id": "RPFs24UzinAq",
        "outputId": "03762564-834d-410a-e486-0d009d38b3f6"
      },
      "execution_count": null,
      "outputs": [
        {
          "output_type": "execute_result",
          "data": {
            "text/plain": [
              "32"
            ]
          },
          "metadata": {},
          "execution_count": 11
        }
      ]
    },
    {
      "cell_type": "markdown",
      "source": [
        "###Zadanie 16. Dodawanie i odejmowanie macierzy"
      ],
      "metadata": {
        "id": "XA_F3iENi2_W"
      }
    },
    {
      "cell_type": "markdown",
      "source": [
        "Jeżeli chcesz przeprowadzić operacje dodawania lub odejmowania macierzy użyj oferowanych przez bibliotekę NumPy metod *add()* oraz *subtract(*)."
      ],
      "metadata": {
        "id": "QOJJ7QLVi6IO"
      }
    },
    {
      "cell_type": "code",
      "source": [
        "#Wczytanie biblioteki\n",
        "import numpy as np\n",
        "\n",
        "#Utworzenie macierzy\n",
        "matrix_a = np.array([[1, 1, 1],\n",
        "                     [1, 1, 1],\n",
        "                     [1, 1, 2]])\n",
        "\n",
        "matrix_b = np.array([[1, 3, 1],\n",
        "                     [1, 3, 1],\n",
        "                     [1, 3, 3]])\n",
        "\n",
        "#Dodawanie dwóch macierzy\n",
        "print(np.add(matrix_a, matrix_b))\n",
        "\n",
        "#Odejmowanie dwóch macierzy\n",
        "print(np.subtract(matrix_a, matrix_b))"
      ],
      "metadata": {
        "colab": {
          "base_uri": "https://localhost:8080/"
        },
        "id": "u0Dj93V0ipRz",
        "outputId": "e305c670-3296-4715-b59a-50b7e9c713b8"
      },
      "execution_count": null,
      "outputs": [
        {
          "output_type": "stream",
          "name": "stdout",
          "text": [
            "[[2 4 2]\n",
            " [2 4 2]\n",
            " [2 4 5]]\n",
            "[[ 0 -2  0]\n",
            " [ 0 -2  0]\n",
            " [ 0 -2 -1]]\n"
          ]
        }
      ]
    },
    {
      "cell_type": "markdown",
      "source": [
        "Alternatywne rozwiązanie w zakresie dodawania i odejmowania macierzy polega na użyciu operatorów - odpoiwiednio + i -"
      ],
      "metadata": {
        "id": "JA6aMNf2j7Tl"
      }
    },
    {
      "cell_type": "code",
      "source": [
        "#Dodawanie dwóch macierzy\n",
        "matrix_a + matrix_b"
      ],
      "metadata": {
        "colab": {
          "base_uri": "https://localhost:8080/"
        },
        "id": "49WjF8DojuCs",
        "outputId": "4230b96a-2fb6-4103-9adf-4b88cb2a025f"
      },
      "execution_count": null,
      "outputs": [
        {
          "output_type": "execute_result",
          "data": {
            "text/plain": [
              "array([[2, 4, 2],\n",
              "       [2, 4, 2],\n",
              "       [2, 4, 5]])"
            ]
          },
          "metadata": {},
          "execution_count": 14
        }
      ]
    },
    {
      "cell_type": "markdown",
      "source": [
        "###Zadanie 17. Mnożenie macierzy"
      ],
      "metadata": {
        "id": "buR3lxoEmbEI"
      }
    },
    {
      "cell_type": "markdown",
      "source": [
        "Jeżeli chcesz pomnożyć dwie macierze skorzystaj z oferowanej przez bibliotekę NumPy metody *dot()*."
      ],
      "metadata": {
        "id": "NhUHh3DEmd5H"
      }
    },
    {
      "cell_type": "code",
      "source": [
        "#Wczytywanie biblioteki\n",
        "import numpy as np\n",
        "#Utworzenie macierzy\n",
        "matrix_a = np.array([[1, 1],\n",
        "                    [1, 2]])\n",
        "matrix_b = np.array([[1, 3],\n",
        "                     [1, 2]])\n",
        "\n",
        "#Mnożenie dwóch macierzy\n",
        "np.dot(matrix_a, matrix_b)"
      ],
      "metadata": {
        "colab": {
          "base_uri": "https://localhost:8080/"
        },
        "id": "dydlvyFLlcYZ",
        "outputId": "fb17aba6-7b83-4de0-e300-a90980e32d80"
      },
      "execution_count": null,
      "outputs": [
        {
          "output_type": "execute_result",
          "data": {
            "text/plain": [
              "array([[2, 5],\n",
              "       [3, 7]])"
            ]
          },
          "metadata": {},
          "execution_count": 16
        }
      ]
    },
    {
      "cell_type": "markdown",
      "source": [
        "Rozwiązaniem alternatywnym w Pythonie 3.5 i nowszych wersjach jest użycie operatora @."
      ],
      "metadata": {
        "id": "C5xIduwpnmOr"
      }
    },
    {
      "cell_type": "code",
      "source": [
        "#Mnożenie dwóch macierzy\n",
        "matrix_a @ matrix_b"
      ],
      "metadata": {
        "colab": {
          "base_uri": "https://localhost:8080/"
        },
        "id": "EBjpV8D6nHIO",
        "outputId": "92098db8-3f3f-40ae-e4aa-903c330e55d7"
      },
      "execution_count": null,
      "outputs": [
        {
          "output_type": "execute_result",
          "data": {
            "text/plain": [
              "array([[2, 5],\n",
              "       [3, 7]])"
            ]
          },
          "metadata": {},
          "execution_count": 17
        }
      ]
    },
    {
      "cell_type": "markdown",
      "source": [
        "Jeżeli chcesz przeprowadzić operację uwzględniającą również elementy, powinieneś użyć operatora *"
      ],
      "metadata": {
        "id": "IWWw4zg4n64J"
      }
    },
    {
      "cell_type": "code",
      "source": [
        "#Mnożenie dwóch macierzy z uwzględnieniem ich elemnetów\n",
        "matrix_a * matrix_b"
      ],
      "metadata": {
        "colab": {
          "base_uri": "https://localhost:8080/"
        },
        "id": "MAom_JaenzWq",
        "outputId": "88536301-984b-4a51-b899-0c6167881edc"
      },
      "execution_count": null,
      "outputs": [
        {
          "output_type": "execute_result",
          "data": {
            "text/plain": [
              "array([[1, 3],\n",
              "       [1, 4]])"
            ]
          },
          "metadata": {},
          "execution_count": 18
        }
      ]
    },
    {
      "cell_type": "markdown",
      "source": [
        "###Zadanie 18. Odwracanie macierzy"
      ],
      "metadata": {
        "id": "vCGeol1PoU7G"
      }
    },
    {
      "cell_type": "markdown",
      "source": [
        "Jeżeli chcesz otrzymać macierz odwrotną dla danej macierzy kwadratowej użyj oferowanej przez bibliotekę NumPy metody inv() z zakresu algebry liniowej."
      ],
      "metadata": {
        "id": "bicEYDaMJqf4"
      }
    },
    {
      "cell_type": "code",
      "source": [
        "#Wczytanie biblioteki\n",
        "import numpy as np\n",
        "\n",
        "#Utworzenie macierzy\n",
        "matrix = np.array([[1, 4],\n",
        "                   [2, 5]])\n",
        "\n",
        "#Utworzenie macierzy odwrotnej\n",
        "np.linalg.inv(matrix)"
      ],
      "metadata": {
        "colab": {
          "base_uri": "https://localhost:8080/"
        },
        "id": "Jlm2wr44oMzx",
        "outputId": "284cf205-f7d3-4a7e-c987-12093b3838ba"
      },
      "execution_count": null,
      "outputs": [
        {
          "output_type": "execute_result",
          "data": {
            "text/plain": [
              "array([[-1.66666667,  1.33333333],\n",
              "       [ 0.66666667, -0.33333333]])"
            ]
          },
          "metadata": {},
          "execution_count": 2
        }
      ]
    },
    {
      "cell_type": "markdown",
      "source": [
        "Odwrotnością macierzy kwadratowej $A$ jest druga macierz $ A^{-1} $, na przykłąd:\n",
        "\n",
        " $ A *A^{-1} $ = $I$\n",
        "\n",
        " gdzie I to macierz tożsamościowa.\n",
        " Do utworzenia macierzy odwrotnej można użyć zdefiniowanej w bibliotece NumPy metody linalg.inv().\n",
        "\n",
        " Aby zademonstrować jej działanie, w omawianym przykładzie macierz zostanie pomnożona przez jej odwrotność, a wynikiem jest macierz tożsamościowa.\n",
        "\n",
        "\n",
        "\n"
      ],
      "metadata": {
        "id": "txeTv741KZi3"
      }
    },
    {
      "cell_type": "code",
      "source": [
        "#Mnożenie macierzy i jej odwrotności\n",
        "matrix @ np.linalg.inv(matrix)"
      ],
      "metadata": {
        "colab": {
          "base_uri": "https://localhost:8080/"
        },
        "id": "d5pVrhAmKSal",
        "outputId": "8e96c80a-7fdf-4155-92e8-314bd9aa6900"
      },
      "execution_count": null,
      "outputs": [
        {
          "output_type": "execute_result",
          "data": {
            "text/plain": [
              "array([[1.00000000e+00, 0.00000000e+00],\n",
              "       [1.11022302e-16, 1.00000000e+00]])"
            ]
          },
          "metadata": {},
          "execution_count": 3
        }
      ]
    },
    {
      "cell_type": "markdown",
      "source": [
        "###Zadanie 19. Generowanie liczb losowych"
      ],
      "metadata": {
        "id": "PdkZFBTcP6sd"
      }
    },
    {
      "cell_type": "markdown",
      "source": [
        "Jeżeli chcesz wygenerować liczby pseudolosowe użyj oferowanej przez bibliotekę NumPy klasy random."
      ],
      "metadata": {
        "id": "YBY5sldzP97T"
      }
    },
    {
      "cell_type": "code",
      "source": [
        "#Wczytanie biblioteki\n",
        "import numpy as np\n",
        "#Zdefiniowanie wartości zalążka\n",
        "np.random.seed(0)\n",
        "#Wygenerowanie trzech losowych liczb zmiennoprzecinkowych z przedziału od 0.0 do 1.0\n",
        "np.random.random(3)"
      ],
      "metadata": {
        "colab": {
          "base_uri": "https://localhost:8080/"
        },
        "id": "OaLDxN37P1u5",
        "outputId": "934dbd5d-d19d-44b7-b038-33601d290a07"
      },
      "execution_count": null,
      "outputs": [
        {
          "output_type": "execute_result",
          "data": {
            "text/plain": [
              "array([0.5488135 , 0.71518937, 0.60276338])"
            ]
          },
          "metadata": {},
          "execution_count": 4
        }
      ]
    },
    {
      "cell_type": "markdown",
      "source": [
        "Byblioteka Numpy oferuje wiele możliwości w zakresie generowania liczb pseudolosowych. W przedstawionym powyżej rozwiązaniu zostały wygenerowane liczby zmiennoprzecinkowe. Zastosowane tu podejście jest również często stosowane podczas generowania liczb całkowitych."
      ],
      "metadata": {
        "id": "YDTIabJ3QZ8D"
      }
    },
    {
      "cell_type": "code",
      "source": [
        "#Wygenerowanie trzech pseudolosowych liczb całkowitych z przedziału od 1 do 10.\n",
        "np.random.randint(0, 11, 3)"
      ],
      "metadata": {
        "colab": {
          "base_uri": "https://localhost:8080/"
        },
        "id": "Ak7SAboFQYbp",
        "outputId": "b252454b-3b61-406c-cc5c-813f0a74f114"
      },
      "execution_count": null,
      "outputs": [
        {
          "output_type": "execute_result",
          "data": {
            "text/plain": [
              "array([3, 7, 9])"
            ]
          },
          "metadata": {},
          "execution_count": 6
        }
      ]
    },
    {
      "cell_type": "markdown",
      "source": [
        "Alternatywne podejście polega na wygenerowaniu liczb poprzez pobranie ich z rozkładu (formalnie rzecz ujmując nie będą to liczby losowe)."
      ],
      "metadata": {
        "id": "A91uCnLGRJmj"
      }
    },
    {
      "cell_type": "code",
      "source": [
        "#Pobieranie trzech liczb z rozkładu zwykłego o średniej wynoszącej 0.0 i odchyleniu standardowym wynoszącym 1.0.\n",
        "np.random.normal(0.0, 1.0, 3)"
      ],
      "metadata": {
        "colab": {
          "base_uri": "https://localhost:8080/"
        },
        "id": "T9it0yJSQ623",
        "outputId": "b982e7ec-1407-4a6e-b74d-da09cfac16c7"
      },
      "execution_count": null,
      "outputs": [
        {
          "output_type": "execute_result",
          "data": {
            "text/plain": [
              "array([-1.42232584,  1.52006949, -0.29139398])"
            ]
          },
          "metadata": {},
          "execution_count": 7
        }
      ]
    },
    {
      "cell_type": "code",
      "source": [
        "#Pobranie trzech liczb z rozkładu logistycznego o średniej wynoszącej 0.0 i skali równej 1.0\n",
        "np.random.logistic(0.0, 1.0, 3)"
      ],
      "metadata": {
        "colab": {
          "base_uri": "https://localhost:8080/"
        },
        "id": "6pPmFmS4RgOQ",
        "outputId": "532106fc-3e91-43f4-e45d-728a12373b40"
      },
      "execution_count": null,
      "outputs": [
        {
          "output_type": "execute_result",
          "data": {
            "text/plain": [
              "array([-0.98118713, -0.08939902,  1.46416405])"
            ]
          },
          "metadata": {},
          "execution_count": 8
        }
      ]
    },
    {
      "cell_type": "code",
      "source": [
        "#pobranie trzech liczb większych niż lub równych 1.0 i mniejszych niż 2.0\n",
        "np.random.uniform(1.0, 2.0, 3)"
      ],
      "metadata": {
        "colab": {
          "base_uri": "https://localhost:8080/"
        },
        "id": "IRcd86_PRsjr",
        "outputId": "2a25dab6-53b2-46f2-9e8a-7e7f57cb921b"
      },
      "execution_count": null,
      "outputs": [
        {
          "output_type": "execute_result",
          "data": {
            "text/plain": [
              "array([1.47997717, 1.3927848 , 1.83607876])"
            ]
          },
          "metadata": {},
          "execution_count": 9
        }
      ]
    },
    {
      "cell_type": "markdown",
      "source": [
        "Czasami użyteczne jest wielokrotne zwracanie tych samych liczb losowych, aby zapewnić przewidywalne i powtarzalne rozwiązania. W takim przypadku można wykorzystać tak zwaną \"wartość zalążka\" (liczbę całkowitą) generatora liczb pseudolosowych.\n",
        "\n",
        "Uruchomienie generatora z tą samą wartością zalążka zawsze spowoduje wygenerowanie tych samych danych wyjściowych."
      ],
      "metadata": {
        "id": "LNhO4LW9SL88"
      }
    },
    {
      "cell_type": "code",
      "source": [],
      "metadata": {
        "id": "riky-FOSR_uL"
      },
      "execution_count": null,
      "outputs": []
    }
  ]
}