{
  "nbformat": 4,
  "nbformat_minor": 0,
  "metadata": {
    "colab": {
      "provenance": []
    },
    "kernelspec": {
      "name": "python3",
      "display_name": "Python 3"
    },
    "language_info": {
      "name": "python"
    }
  },
  "cells": [
    {
      "cell_type": "markdown",
      "source": [
        "### Spis treści:\n",
        "1. [Biblioteka NumPy - podstawowe informacje](#0)\n",
        "2. [Skalar](#1)\n",
        "3. [Wektor](#2)\n",
        "4. [Macierz](#3)\n",
        "5. [Tensor](#4)"
      ],
      "metadata": {
        "id": "6IVkd5PS06CL"
      }
    },
    {
      "cell_type": "markdown",
      "source": [
        "### <a name='0'></a> 1. Biblioteka NumPy - podstawowe informacje"
      ],
      "metadata": {
        "id": "MQJe7WvF1IcB"
      }
    },
    {
      "cell_type": "markdown",
      "source": [
        "Biblioteka NumPy to podstawowe narzędzie stosu uczenia maszynowego z użyciem języka programowania Python.\n",
        "\n",
        "Pozwala ona przeprowadzić efektywne operacje na strukturach danych, które są najczęściej wykorzystywane w uczeniu maszynowym: wektor, macierz, tensor.\n",
        "\n",
        "Jako, że biblioteka NumPy jest jedną z najczęściej używanych bibliotek podczas pracy z danymi, w tym rozdziale przedstawione zostaną operacje NumPy najczęściej przeprowadzane podczas pracy wymagającej zastosowania uczenia maszynowego."
      ],
      "metadata": {
        "id": "WL984brr1Lqq"
      }
    },
    {
      "cell_type": "markdown",
      "source": [
        "NumPy (*Numerical Python*) to popularna biblioteka w języku Python, która jest używana głównie do obliczeń numerycznych i manipulacji danymi w postaci tablic. Poniżej kilka kluczowych cech i zastosowań biblioteki NumPy:\n",
        "\n",
        "1. Tablice NumPy: NumPy wprowadza typ danych tablicy n-wymiarowej (ndarray), który umożliwia efektywną i szybką pracę z wielowymiarowymi danymi numerycznymi. Te tablice są podobne do list, ale oferują znacznie większą wydajność i funkcjonalność.\n",
        "\n",
        "2. Szybkość: NumPy jest napisane w języku C, co pozwala na wydajne obliczenia numeryczne. Dzięki temu jest idealne do przetwarzania dużych zbiorów danych i wykonywania zaawansowanych operacji matematycznych.\n",
        "\n",
        "3. Funkcje matematyczne: NumPy zawiera wiele funkcji matematycznych, takich jak operacje arytmetyczne, funkcje trygonometryczne, operacje na macierzach i wiele innych, co czyni go potężnym narzędziem do analizy danych i obliczeń naukowych.\n",
        "\n",
        "4. Indeksowanie i wycinanie: NumPy oferuje zaawansowane techniki indeksowania i wycinania tablic, co ułatwia dostęp do konkretnych danych w tablicach wielowymiarowych.\n",
        "\n",
        "5. Operacje na tablicach: NumPy umożliwia wykonywanie operacji na całych tablicach bez potrzeby pętli. To pozwala na efektywne obliczenia na danych.\n",
        "\n",
        "6. Integracja z innymi bibliotekami: NumPy jest często używane w połączeniu z innymi bibliotekami do analizy danych, takimi jak Pandas, Matplotlib do wizualizacji, czy SciPy do bardziej zaawansowanych obliczeń naukowych.\n",
        "\n",
        "7. Wsparcie dla rozszerzeń: NumPy ma wiele rozszerzeń, takich jak NumPy-BLAS, które zapewniają jeszcze lepszą wydajność w obliczeniach numerycznych.\n",
        "\n",
        "\n",
        "\n",
        "Dzięki tym cechom NumPy jest szeroko stosowane w dziedzinach takich jak analiza danych, uczenie maszynowe, inżynieria, nauki przyrodnicze i wiele innych, gdzie wymagane są obliczenia numeryczne na dużą skalę."
      ],
      "metadata": {
        "id": "Xse9RlaS1SZz"
      }
    },
    {
      "cell_type": "markdown",
      "source": [
        "### <a name='1'></a> 2. Skalar"
      ],
      "metadata": {
        "id": "QQQPdF1g1bJt"
      }
    },
    {
      "cell_type": "markdown",
      "source": [
        "**Skalar**- wartość numeryczna, która może przyjąć postać liczby całkowitej (int) lub liczby rzeczywistej (float)."
      ],
      "metadata": {
        "id": "7xvwDewu76Hq"
      }
    },
    {
      "cell_type": "markdown",
      "source": [
        "###Import bibliotek"
      ],
      "metadata": {
        "id": "w8MKEAwy1f9V"
      }
    },
    {
      "cell_type": "code",
      "execution_count": null,
      "metadata": {
        "id": "NdXG5LXJ0ytP"
      },
      "outputs": [],
      "source": [
        "import numpy as np"
      ]
    },
    {
      "cell_type": "code",
      "source": [
        "scalar = 5\n",
        "print(scalar)\n",
        "print(type(scalar))"
      ],
      "metadata": {
        "id": "xXJ97uqk1i3g",
        "colab": {
          "base_uri": "https://localhost:8080/"
        },
        "outputId": "7dceb124-b1e8-4ef2-fd66-f6e5134d578b"
      },
      "execution_count": null,
      "outputs": [
        {
          "output_type": "stream",
          "name": "stdout",
          "text": [
            "5\n",
            "<class 'int'>\n"
          ]
        }
      ]
    },
    {
      "cell_type": "code",
      "source": [
        "scalar = 5.0\n",
        "print(scalar)\n",
        "print(type(scalar))"
      ],
      "metadata": {
        "colab": {
          "base_uri": "https://localhost:8080/"
        },
        "id": "FbX0Bb8i7ts5",
        "outputId": "cc3d2e4b-1c79-4633-9b7d-3fc9b0872e32"
      },
      "execution_count": null,
      "outputs": [
        {
          "output_type": "stream",
          "name": "stdout",
          "text": [
            "5.0\n",
            "<class 'float'>\n"
          ]
        }
      ]
    },
    {
      "cell_type": "markdown",
      "source": [
        "### <a name='2'></a> 3. Wektor"
      ],
      "metadata": {
        "id": "EJxN9XmU-8ko"
      }
    },
    {
      "cell_type": "code",
      "source": [
        "vector = np.array([2, 4, -6, 5])\n",
        "print(vector)\n",
        "print(type(vector))\n",
        "print(f'Rozmiar wektora {vector.shape}')\n",
        "print(f'Typ danych wektora: {vector.dtype}')\n",
        "print(f'Rząd {vector.ndim}')                  #Tensor rzędu 1 inaczej wektor.\n",
        "print(f'Długość: {len(vector)}')"
      ],
      "metadata": {
        "colab": {
          "base_uri": "https://localhost:8080/"
        },
        "id": "Hzp-JJvL-_tz",
        "outputId": "d8801b72-ac14-4fce-eca9-ba94b69af5e1"
      },
      "execution_count": null,
      "outputs": [
        {
          "output_type": "stream",
          "name": "stdout",
          "text": [
            "[ 2  4 -6  5]\n",
            "<class 'numpy.ndarray'>\n",
            "Rozmiar wektora (4,)\n",
            "Typ danych wektora: int64\n",
            "Rząd 1\n",
            "Długość: 4\n"
          ]
        }
      ]
    },
    {
      "cell_type": "code",
      "source": [
        "vector = np.array([2, 4, -6, 5], dtype='float')\n",
        "print(vector)\n",
        "print(f'Typ danych wektora: {vector.dtype}')"
      ],
      "metadata": {
        "colab": {
          "base_uri": "https://localhost:8080/"
        },
        "id": "RGL2aZyFILDa",
        "outputId": "507dc06d-4f48-4988-8e1f-376639d7da69"
      },
      "execution_count": null,
      "outputs": [
        {
          "output_type": "stream",
          "name": "stdout",
          "text": [
            "[ 2.  4. -6.  5.]\n",
            "Typ danych wektora: float64\n"
          ]
        }
      ]
    },
    {
      "cell_type": "markdown",
      "source": [
        "### <a name='3'></a> 4. Macierz"
      ],
      "metadata": {
        "id": "UxBYwi4WIhbf"
      }
    },
    {
      "cell_type": "code",
      "source": [
        "array = np.array([[2, 6, 3],\n",
        "                  [5, -3, 4]])\n",
        "\n",
        "print(array)\n",
        "print(type(array))\n",
        "print(f'Rozmiar macierzy: {array.shape}')\n",
        "print(f'Typ danych macierzy: {array.dtype}')\n",
        "print(f'Rząd: {array.ndim}')\n",
        "print(f'Długość: {len(array)}')"
      ],
      "metadata": {
        "colab": {
          "base_uri": "https://localhost:8080/"
        },
        "id": "0h-873PbIo4A",
        "outputId": "59e57de7-04b1-4715-f3b2-289d049f53ab"
      },
      "execution_count": null,
      "outputs": [
        {
          "output_type": "stream",
          "name": "stdout",
          "text": [
            "[[ 2  6  3]\n",
            " [ 5 -3  4]]\n",
            "<class 'numpy.ndarray'>\n",
            "Rozmiar macierzy: (2, 3)\n",
            "Typ danych macierzy: int64\n",
            "Rząd: 2\n",
            "Długość: 2\n"
          ]
        }
      ]
    },
    {
      "cell_type": "code",
      "source": [
        "array = np.array([[2, 6, 3],\n",
        "                  [5, -3, 4],\n",
        "                  [4, 2, 1]], dtype = 'float')\n",
        "\n",
        "print(array)\n",
        "print(type(array))\n",
        "print(f'Rozmiar macierzy: {array.shape}')\n",
        "print(f'Typ danych macierzy: {array.dtype}')\n",
        "print(f'Rząd: {array.ndim}')                  #Ilość nawiasów kwadratowych\n",
        "print(f'Długość: {len(array)}')               #Ilość rzędów w macierzy"
      ],
      "metadata": {
        "colab": {
          "base_uri": "https://localhost:8080/"
        },
        "id": "uHEDChgiJdYD",
        "outputId": "a4dcac48-c152-464d-91af-7c7427e4f94e"
      },
      "execution_count": null,
      "outputs": [
        {
          "output_type": "stream",
          "name": "stdout",
          "text": [
            "[[ 2.  6.  3.]\n",
            " [ 5. -3.  4.]\n",
            " [ 4.  2.  1.]]\n",
            "<class 'numpy.ndarray'>\n",
            "Rozmiar macierzy: (3, 3)\n",
            "Typ danych macierzy: float64\n",
            "Rząd: 2\n",
            "Długość: 3\n"
          ]
        }
      ]
    },
    {
      "cell_type": "markdown",
      "source": [
        "### <a name='4'></a> 5. Tensor"
      ],
      "metadata": {
        "id": "ic6JDxjHMAed"
      }
    },
    {
      "cell_type": "markdown",
      "source": [
        "Tensor jest uogólnieniem wektora czy też macierzy na wyższe wymiary.\n",
        "\n",
        "Jeżeli będziemy rozpatrywać wyższe wymiary to będziemy mówić o tensorze.\n",
        "\n",
        "Tensory wykorzystywane są przede wszytskim do zapisywania danych takich jak obrazy czy wideo."
      ],
      "metadata": {
        "id": "cVksmkEG7ivS"
      }
    },
    {
      "cell_type": "code",
      "source": [
        "tensor = np.array([\n",
        "    [[1, 2, 3],\n",
        "     [4, 5, 6]],\n",
        "    [[7, 8, 9],\n",
        "     [3, 7, 3]]\n",
        "])\n",
        "\n",
        "print(tensor)\n",
        "print(type(tensor))\n",
        "print(f'Rozmiar macierzy: {tensor.shape}')   #2x2X3 - aby lepiej to wyjaśnić mamy 2 macierze poprzedniego wymiaru, który rozważaliśmy o wymiarach 2 na 3\n",
        "print(f'Typ danych macierzy: {tensor.dtype}')\n",
        "print(f'Rząd: {tensor.ndim}')                  #Ilość nawiasów kwadratowych\n",
        "print(f'Długość: {len(tensor)}')               #Tensor składa się jakby z dwóch macierzy"
      ],
      "metadata": {
        "colab": {
          "base_uri": "https://localhost:8080/"
        },
        "id": "PwBiCXnm7yr0",
        "outputId": "e9f40e6f-c07b-4241-d2eb-3cdcbf0244c2"
      },
      "execution_count": null,
      "outputs": [
        {
          "output_type": "stream",
          "name": "stdout",
          "text": [
            "[[[1 2 3]\n",
            "  [4 5 6]]\n",
            "\n",
            " [[7 8 9]\n",
            "  [3 7 3]]]\n",
            "<class 'numpy.ndarray'>\n",
            "Rozmiar macierzy: (2, 2, 3)\n",
            "Typ danych macierzy: int64\n",
            "Rząd: 3\n",
            "Długość: 2\n"
          ]
        }
      ]
    },
    {
      "cell_type": "code",
      "source": [
        "tensor = np.array([\n",
        "    [[1, 2, 3],\n",
        "     [4, 5, 6]],\n",
        "    [[7, 8, 9],\n",
        "     [3, 7, 3]],\n",
        "    [[2, 3, 4],\n",
        "     [5, 6, 7]]\n",
        "])\n",
        "\n",
        "print(tensor)\n",
        "print(type(tensor))\n",
        "print(f'Rozmiar macierzy: {tensor.shape}')   #2x2X3 - aby lepiej to wyjaśnić mamy 2 macierze poprzedniego wymiaru, który rozważaliśmy o wymiarach 2 na 3\n",
        "print(f'Typ danych macierzy: {tensor.dtype}')\n",
        "print(f'Rząd: {tensor.ndim}')                  #Ilość nawiasów kwadratowych\n",
        "print(f'Długość: {len(tensor)}')"
      ],
      "metadata": {
        "colab": {
          "base_uri": "https://localhost:8080/"
        },
        "id": "Axd9GVU3MznG",
        "outputId": "f30c3a16-9613-490d-eb1b-4677b0d74351"
      },
      "execution_count": null,
      "outputs": [
        {
          "output_type": "stream",
          "name": "stdout",
          "text": [
            "[[[1 2 3]\n",
            "  [4 5 6]]\n",
            "\n",
            " [[7 8 9]\n",
            "  [3 7 3]]\n",
            "\n",
            " [[2 3 4]\n",
            "  [5 6 7]]]\n",
            "<class 'numpy.ndarray'>\n",
            "Rozmiar macierzy: (3, 2, 3)\n",
            "Typ danych macierzy: int64\n",
            "Rząd: 3\n",
            "Długość: 3\n"
          ]
        }
      ]
    },
    {
      "cell_type": "code",
      "source": [],
      "metadata": {
        "id": "VAnYC5QqNzY7"
      },
      "execution_count": null,
      "outputs": []
    }
  ]
}