{
 "cells": [
  {
   "cell_type": "markdown",
   "metadata": {},
   "source": [
    "zad 1"
   ]
  },
  {
   "cell_type": "code",
   "execution_count": 2,
   "metadata": {},
   "outputs": [
    {
     "data": {
      "text/plain": [
       "2550"
      ]
     },
     "execution_count": 2,
     "metadata": {},
     "output_type": "execute_result"
    }
   ],
   "source": [
    "def sumAllEven():\n",
    "    sum = 0\n",
    "    for i in range(1,101):\n",
    "        if i % 2==0:\n",
    "            sum+=i\n",
    "    return sum\n",
    "\n",
    "sumAllEven()"
   ]
  },
  {
   "cell_type": "markdown",
   "metadata": {},
   "source": [
    "zad 2"
   ]
  },
  {
   "cell_type": "code",
   "execution_count": 7,
   "metadata": {},
   "outputs": [
    {
     "name": "stdout",
     "output_type": "stream",
     "text": [
      "1\n",
      "7\n"
     ]
    },
    {
     "data": {
      "text/plain": [
       "True"
      ]
     },
     "execution_count": 7,
     "metadata": {},
     "output_type": "execute_result"
    }
   ],
   "source": [
    "def isNumberAPrime(n):\n",
    "    numberOfDivisions = 0\n",
    "    if n == 0 or n==1:\n",
    "        return False\n",
    "    for i in range(1,n+1):\n",
    "        if n %i==0:\n",
    "            numberOfDivisions+=1\n",
    "            print(i)\n",
    "    return numberOfDivisions ==2\n",
    "\n",
    "isNumberAPrime(7)\n"
   ]
  },
  {
   "cell_type": "markdown",
   "metadata": {},
   "source": [
    "zad 3"
   ]
  },
  {
   "cell_type": "code",
   "execution_count": 25,
   "metadata": {},
   "outputs": [
    {
     "data": {
      "text/plain": [
       "'olleh'"
      ]
     },
     "execution_count": 25,
     "metadata": {},
     "output_type": "execute_result"
    }
   ],
   "source": [
    "def reverseString(string:str):\n",
    "    newstr=\"\"\n",
    "    for i in range(1,len(string)+1):  \n",
    "      newstr+=newstr.join(string[len(string) - i])\n",
    "    \n",
    "    return newstr\n",
    "\n",
    "\n",
    "reverseString(\"hello\")"
   ]
  },
  {
   "cell_type": "markdown",
   "metadata": {},
   "source": [
    "zad 4"
   ]
  },
  {
   "cell_type": "code",
   "execution_count": 30,
   "metadata": {},
   "outputs": [
    {
     "data": {
      "text/plain": [
       "15.0"
      ]
     },
     "execution_count": 30,
     "metadata": {},
     "output_type": "execute_result"
    }
   ],
   "source": [
    "def convertTemp(temp,type):\n",
    "    match type:\n",
    "        case 'C':\n",
    "            return (temp - 32) / 1.8\n",
    "        case 'F':\n",
    "            return (temp * 1.8) + 32\n",
    "        case _:\n",
    "            return \"Wrong type\"\n",
    "\n",
    "\n",
    "convertTemp(59,'C')\n"
   ]
  },
  {
   "cell_type": "markdown",
   "metadata": {},
   "source": [
    "zad 5"
   ]
  },
  {
   "cell_type": "code",
   "execution_count": 28,
   "metadata": {},
   "outputs": [
    {
     "data": {
      "text/plain": [
       "[1, 2, 3, 4, 5, 6]"
      ]
     },
     "execution_count": 28,
     "metadata": {},
     "output_type": "execute_result"
    }
   ],
   "source": [
    "def arrayToSet(arr):\n",
    "    newSet = set()\n",
    "    for i in arr:\n",
    "        newSet.add(i)\n",
    "    return list(newSet)\n",
    "\n",
    "\n",
    "arrayToSet([1,2,3,4,4,4,5,6,6])"
   ]
  },
  {
   "cell_type": "markdown",
   "metadata": {},
   "source": [
    "zad 6"
   ]
  },
  {
   "cell_type": "code",
   "execution_count": 29,
   "metadata": {},
   "outputs": [
    {
     "name": "stdout",
     "output_type": "stream",
     "text": [
      "24\n"
     ]
    }
   ],
   "source": [
    "def factorial(n):\n",
    "    if n > 1:\n",
    "        return n*factorial(n-1) \n",
    "    return 1 \n",
    "\n",
    "\n",
    "print(factorial(4)) "
   ]
  },
  {
   "cell_type": "markdown",
   "metadata": {},
   "source": [
    "zad 7"
   ]
  },
  {
   "cell_type": "code",
   "execution_count": 32,
   "metadata": {},
   "outputs": [
    {
     "data": {
      "text/plain": [
       "{'h': 1,\n",
       " 'e': 2,\n",
       " 'l': 2,\n",
       " 'o': 2,\n",
       " ' ': 4,\n",
       " 'm': 3,\n",
       " 'y': 2,\n",
       " 'n': 2,\n",
       " 'a': 1,\n",
       " 'i': 1,\n",
       " 's': 2,\n",
       " 'z': 1}"
      ]
     },
     "execution_count": 32,
     "metadata": {},
     "output_type": "execute_result"
    }
   ],
   "source": [
    "def lettersReducer(sentence):\n",
    "    dict  ={}\n",
    "    for i in sentence:\n",
    "        if i in dict:\n",
    "            dict[i]+=1\n",
    "        else:\n",
    "            dict[i] = 1\n",
    "    return dict\n",
    "\n",
    "\n",
    "lettersReducer(\"hello my name is szymon\")"
   ]
  },
  {
   "cell_type": "markdown",
   "metadata": {},
   "source": [
    "zad 8"
   ]
  },
  {
   "cell_type": "code",
   "execution_count": 34,
   "metadata": {},
   "outputs": [],
   "source": [
    "import random\n",
    "\n",
    "def game():\n",
    "    randomNum = (random.randrange(1, 21))\n",
    "    guess = 0\n",
    "    while guess != randomNum:\n",
    "        guess = input(\"Enter guess:\")\n",
    "        if guess > randomNum:\n",
    "            print(\"the number is higher\")\n",
    "        else:\n",
    "            print(\"the number is lower\")\n",
    "    return \"Success\""
   ]
  }
 ],
 "metadata": {
  "kernelspec": {
   "display_name": "base",
   "language": "python",
   "name": "python3"
  },
  "language_info": {
   "codemirror_mode": {
    "name": "ipython",
    "version": 3
   },
   "file_extension": ".py",
   "mimetype": "text/x-python",
   "name": "python",
   "nbconvert_exporter": "python",
   "pygments_lexer": "ipython3",
   "version": "3.12.7"
  }
 },
 "nbformat": 4,
 "nbformat_minor": 2
}
