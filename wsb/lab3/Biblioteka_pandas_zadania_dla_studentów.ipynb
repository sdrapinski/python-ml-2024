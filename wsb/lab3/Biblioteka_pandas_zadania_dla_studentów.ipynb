{
  "cells": [
    {
      "cell_type": "code",
      "execution_count": 2,
      "metadata": {
        "id": "UT4McZVuSLCw"
      },
      "outputs": [],
      "source": [
        "import pandas as pd\n",
        "\n",
        "date = {\n",
        "    \"name\": [\"Anna\", \"Jan\", \"Maria\", \"Tomasz\", \"Katarzyna\"],\n",
        "    \"surname\": [\"Kowalska\", \"Nowak\", \"Wiśniewska\", \"Kaczmarek\", \"Zielińska\"],\n",
        "    \"age\": [28, 35, 42, 19, 30],\n",
        "    \"city\": [\"Warszawa\", \"Kraków\", \"Poznań\", \"Wrocław\", \"Gdańsk\"],\n",
        "    \"income\": [5000, 6200, 7100, 3200, 4600]\n",
        "}\n",
        "\n",
        "df = pd.DataFrame(date)\n",
        "df.to_csv(\"date.csv\", index=False)"
      ]
    },
    {
      "cell_type": "markdown",
      "metadata": {
        "id": "lM40UUHDSVNy"
      },
      "source": [
        "### Wczytaj plik CSV o nazwie dane.csv i wyświetl pierwsze 5 wierszy."
      ]
    },
    {
      "cell_type": "code",
      "execution_count": 3,
      "metadata": {
        "id": "_BtoQ4hCSRaQ"
      },
      "outputs": [
        {
          "name": "stdout",
          "output_type": "stream",
          "text": [
            "        name     surname  age      city  income\n",
            "0       Anna    Kowalska   28  Warszawa    5000\n",
            "1        Jan       Nowak   35    Kraków    6200\n",
            "2      Maria  Wiśniewska   42    Poznań    7100\n",
            "3     Tomasz   Kaczmarek   19   Wrocław    3200\n",
            "4  Katarzyna   Zielińska   30    Gdańsk    4600\n"
          ]
        }
      ],
      "source": [
        "file = pd.read_csv(\"date.csv\")\n",
        "df = pd.DataFrame(file)\n",
        "print(df.head(5))"
      ]
    },
    {
      "cell_type": "markdown",
      "metadata": {
        "id": "76-8jqZOSZxN"
      },
      "source": [
        "### Wyświetl podstawowe statystyki opisowe (średnia, mediana, min, max itd.) dla danych."
      ]
    },
    {
      "cell_type": "code",
      "execution_count": 4,
      "metadata": {
        "id": "73nt5hWqSacX"
      },
      "outputs": [
        {
          "data": {
            "text/html": [
              "<div>\n",
              "<style scoped>\n",
              "    .dataframe tbody tr th:only-of-type {\n",
              "        vertical-align: middle;\n",
              "    }\n",
              "\n",
              "    .dataframe tbody tr th {\n",
              "        vertical-align: top;\n",
              "    }\n",
              "\n",
              "    .dataframe thead th {\n",
              "        text-align: right;\n",
              "    }\n",
              "</style>\n",
              "<table border=\"1\" class=\"dataframe\">\n",
              "  <thead>\n",
              "    <tr style=\"text-align: right;\">\n",
              "      <th></th>\n",
              "      <th>age</th>\n",
              "      <th>income</th>\n",
              "    </tr>\n",
              "  </thead>\n",
              "  <tbody>\n",
              "    <tr>\n",
              "      <th>count</th>\n",
              "      <td>5.000000</td>\n",
              "      <td>5.000000</td>\n",
              "    </tr>\n",
              "    <tr>\n",
              "      <th>mean</th>\n",
              "      <td>30.800000</td>\n",
              "      <td>5220.000000</td>\n",
              "    </tr>\n",
              "    <tr>\n",
              "      <th>std</th>\n",
              "      <td>8.526429</td>\n",
              "      <td>1500.666519</td>\n",
              "    </tr>\n",
              "    <tr>\n",
              "      <th>min</th>\n",
              "      <td>19.000000</td>\n",
              "      <td>3200.000000</td>\n",
              "    </tr>\n",
              "    <tr>\n",
              "      <th>25%</th>\n",
              "      <td>28.000000</td>\n",
              "      <td>4600.000000</td>\n",
              "    </tr>\n",
              "    <tr>\n",
              "      <th>50%</th>\n",
              "      <td>30.000000</td>\n",
              "      <td>5000.000000</td>\n",
              "    </tr>\n",
              "    <tr>\n",
              "      <th>75%</th>\n",
              "      <td>35.000000</td>\n",
              "      <td>6200.000000</td>\n",
              "    </tr>\n",
              "    <tr>\n",
              "      <th>max</th>\n",
              "      <td>42.000000</td>\n",
              "      <td>7100.000000</td>\n",
              "    </tr>\n",
              "  </tbody>\n",
              "</table>\n",
              "</div>"
            ],
            "text/plain": [
              "             age       income\n",
              "count   5.000000     5.000000\n",
              "mean   30.800000  5220.000000\n",
              "std     8.526429  1500.666519\n",
              "min    19.000000  3200.000000\n",
              "25%    28.000000  4600.000000\n",
              "50%    30.000000  5000.000000\n",
              "75%    35.000000  6200.000000\n",
              "max    42.000000  7100.000000"
            ]
          },
          "execution_count": 4,
          "metadata": {},
          "output_type": "execute_result"
        }
      ],
      "source": [
        "df.describe()"
      ]
    },
    {
      "cell_type": "markdown",
      "metadata": {
        "id": "PYuDYoY7SbLW"
      },
      "source": [
        "### Wyświetl informacje o kolumnach i typach danych (np. za pomocą .info())."
      ]
    },
    {
      "cell_type": "code",
      "execution_count": 5,
      "metadata": {
        "id": "mGSQiE_BSeJm"
      },
      "outputs": [
        {
          "name": "stdout",
          "output_type": "stream",
          "text": [
            "<class 'pandas.core.frame.DataFrame'>\n",
            "RangeIndex: 5 entries, 0 to 4\n",
            "Data columns (total 5 columns):\n",
            " #   Column   Non-Null Count  Dtype \n",
            "---  ------   --------------  ----- \n",
            " 0   name     5 non-null      object\n",
            " 1   surname  5 non-null      object\n",
            " 2   age      5 non-null      int64 \n",
            " 3   city     5 non-null      object\n",
            " 4   income   5 non-null      int64 \n",
            "dtypes: int64(2), object(3)\n",
            "memory usage: 332.0+ bytes\n"
          ]
        }
      ],
      "source": [
        "df.info()"
      ]
    },
    {
      "cell_type": "markdown",
      "metadata": {
        "id": "10eDQYe-SerA"
      },
      "source": [
        "### Wyświetl wszystkie wiersze, w których wartość w kolumnie wiek jest większa niż 30."
      ]
    },
    {
      "cell_type": "code",
      "execution_count": 7,
      "metadata": {
        "id": "bRBTNPzzSiDO"
      },
      "outputs": [
        {
          "name": "stdout",
          "output_type": "stream",
          "text": [
            "    name     surname  age    city  income\n",
            "1    Jan       Nowak   35  Kraków    6200\n",
            "2  Maria  Wiśniewska   42  Poznań    7100\n"
          ]
        }
      ],
      "source": [
        "ageMorethan30 = df[df['age']>30]\n",
        "print(ageMorethan30)"
      ]
    },
    {
      "cell_type": "markdown",
      "metadata": {
        "id": "Aps5Wd2cSioL"
      },
      "source": [
        "### Wyświetl wszystkie wiersze, w których wartość w kolumnie wiek jest większa niż 30."
      ]
    },
    {
      "cell_type": "code",
      "execution_count": null,
      "metadata": {
        "id": "ZEIbw00MSlg1"
      },
      "outputs": [],
      "source": []
    },
    {
      "cell_type": "markdown",
      "metadata": {
        "id": "wXJJ9akwSmE4"
      },
      "source": [
        "### Dodaj nową kolumnę rok_urodzenia, zakładając że obecny rok to 2025 i korzystając z kolumny wiek."
      ]
    },
    {
      "cell_type": "code",
      "execution_count": 8,
      "metadata": {
        "id": "xz69oh_vSprY"
      },
      "outputs": [],
      "source": [
        "df['rok_urodzenia'] = 2025 - df['age']"
      ]
    },
    {
      "cell_type": "markdown",
      "metadata": {
        "id": "vGwMLRH4SqIP"
      },
      "source": [
        "### Oblicz średnią wartość kolumny dochód."
      ]
    },
    {
      "cell_type": "code",
      "execution_count": 9,
      "metadata": {
        "id": "5OaGlaNmSvRp"
      },
      "outputs": [
        {
          "data": {
            "text/plain": [
              "5220.0"
            ]
          },
          "execution_count": 9,
          "metadata": {},
          "output_type": "execute_result"
        }
      ],
      "source": [
        "df.income.mean()"
      ]
    },
    {
      "cell_type": "markdown",
      "metadata": {
        "id": "94zRVWokSv3-"
      },
      "source": [
        "### Zgrupuj dane po kolumnie miasto i policz średni wiek w każdej grupie."
      ]
    },
    {
      "cell_type": "code",
      "execution_count": 10,
      "metadata": {
        "id": "UotaJyC-SyND"
      },
      "outputs": [
        {
          "data": {
            "text/plain": [
              "city\n",
              "Gdańsk      30.0\n",
              "Kraków      35.0\n",
              "Poznań      42.0\n",
              "Warszawa    28.0\n",
              "Wrocław     19.0\n",
              "Name: age, dtype: float64"
            ]
          },
          "execution_count": 10,
          "metadata": {},
          "output_type": "execute_result"
        }
      ],
      "source": [
        "df.groupby('city')['age'].mean()"
      ]
    },
    {
      "cell_type": "markdown",
      "metadata": {
        "id": "fSpncm43Syn0"
      },
      "source": [
        "### Zapisz przetworzone dane do nowego pliku CSV o nazwie nowe_dane.csv."
      ]
    },
    {
      "cell_type": "code",
      "execution_count": 11,
      "metadata": {
        "id": "zKSP1ldLS2J_"
      },
      "outputs": [],
      "source": [
        "df.to_csv(\"new_date.csv\", index=False)"
      ]
    },
    {
      "cell_type": "markdown",
      "metadata": {
        "id": "nw8WrnIKS2vU"
      },
      "source": [
        "### Usuń wszystkie wiersze zawierające brakujące wartości (NaN)."
      ]
    },
    {
      "cell_type": "code",
      "execution_count": 12,
      "metadata": {
        "id": "2SpLaOZ0S5o0"
      },
      "outputs": [
        {
          "data": {
            "text/html": [
              "<div>\n",
              "<style scoped>\n",
              "    .dataframe tbody tr th:only-of-type {\n",
              "        vertical-align: middle;\n",
              "    }\n",
              "\n",
              "    .dataframe tbody tr th {\n",
              "        vertical-align: top;\n",
              "    }\n",
              "\n",
              "    .dataframe thead th {\n",
              "        text-align: right;\n",
              "    }\n",
              "</style>\n",
              "<table border=\"1\" class=\"dataframe\">\n",
              "  <thead>\n",
              "    <tr style=\"text-align: right;\">\n",
              "      <th></th>\n",
              "      <th>name</th>\n",
              "      <th>surname</th>\n",
              "      <th>age</th>\n",
              "      <th>city</th>\n",
              "      <th>income</th>\n",
              "      <th>rok_urodzenia</th>\n",
              "    </tr>\n",
              "  </thead>\n",
              "  <tbody>\n",
              "    <tr>\n",
              "      <th>0</th>\n",
              "      <td>Anna</td>\n",
              "      <td>Kowalska</td>\n",
              "      <td>28</td>\n",
              "      <td>Warszawa</td>\n",
              "      <td>5000</td>\n",
              "      <td>1997</td>\n",
              "    </tr>\n",
              "    <tr>\n",
              "      <th>1</th>\n",
              "      <td>Jan</td>\n",
              "      <td>Nowak</td>\n",
              "      <td>35</td>\n",
              "      <td>Kraków</td>\n",
              "      <td>6200</td>\n",
              "      <td>1990</td>\n",
              "    </tr>\n",
              "    <tr>\n",
              "      <th>2</th>\n",
              "      <td>Maria</td>\n",
              "      <td>Wiśniewska</td>\n",
              "      <td>42</td>\n",
              "      <td>Poznań</td>\n",
              "      <td>7100</td>\n",
              "      <td>1983</td>\n",
              "    </tr>\n",
              "    <tr>\n",
              "      <th>3</th>\n",
              "      <td>Tomasz</td>\n",
              "      <td>Kaczmarek</td>\n",
              "      <td>19</td>\n",
              "      <td>Wrocław</td>\n",
              "      <td>3200</td>\n",
              "      <td>2006</td>\n",
              "    </tr>\n",
              "    <tr>\n",
              "      <th>4</th>\n",
              "      <td>Katarzyna</td>\n",
              "      <td>Zielińska</td>\n",
              "      <td>30</td>\n",
              "      <td>Gdańsk</td>\n",
              "      <td>4600</td>\n",
              "      <td>1995</td>\n",
              "    </tr>\n",
              "  </tbody>\n",
              "</table>\n",
              "</div>"
            ],
            "text/plain": [
              "        name     surname  age      city  income  rok_urodzenia\n",
              "0       Anna    Kowalska   28  Warszawa    5000           1997\n",
              "1        Jan       Nowak   35    Kraków    6200           1990\n",
              "2      Maria  Wiśniewska   42    Poznań    7100           1983\n",
              "3     Tomasz   Kaczmarek   19   Wrocław    3200           2006\n",
              "4  Katarzyna   Zielińska   30    Gdańsk    4600           1995"
            ]
          },
          "execution_count": 12,
          "metadata": {},
          "output_type": "execute_result"
        }
      ],
      "source": [
        "df.dropna()"
      ]
    }
  ],
  "metadata": {
    "colab": {
      "provenance": []
    },
    "kernelspec": {
      "display_name": "base",
      "language": "python",
      "name": "python3"
    },
    "language_info": {
      "codemirror_mode": {
        "name": "ipython",
        "version": 3
      },
      "file_extension": ".py",
      "mimetype": "text/x-python",
      "name": "python",
      "nbconvert_exporter": "python",
      "pygments_lexer": "ipython3",
      "version": "3.12.7"
    }
  },
  "nbformat": 4,
  "nbformat_minor": 0
}
