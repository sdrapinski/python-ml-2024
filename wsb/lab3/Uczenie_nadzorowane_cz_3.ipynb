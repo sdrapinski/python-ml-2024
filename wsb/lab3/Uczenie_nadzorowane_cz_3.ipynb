{
  "nbformat": 4,
  "nbformat_minor": 0,
  "metadata": {
    "colab": {
      "provenance": []
    },
    "kernelspec": {
      "name": "python3",
      "display_name": "Python 3"
    },
    "language_info": {
      "name": "python"
    }
  },
  "cells": [
    {
      "cell_type": "markdown",
      "source": [
        "###**1. Regresja liniowa**"
      ],
      "metadata": {
        "id": "tbE_qYtGWwkG"
      }
    },
    {
      "cell_type": "markdown",
      "source": [
        "###**Generujemy dane**"
      ],
      "metadata": {
        "id": "2I47b9fKW4ff"
      }
    },
    {
      "cell_type": "code",
      "execution_count": null,
      "metadata": {
        "id": "bOnIf9lEWhvx"
      },
      "outputs": [],
      "source": [
        "import numpy as np"
      ]
    },
    {
      "cell_type": "markdown",
      "source": [
        "###Generuje zmienną niezależną\n",
        "\n",
        "Zmienna zawierająca próbkę z rozkładu jednostajnego.\n",
        "\n",
        "Funkcja *uniform()* z modułu random pozwala generować próbki z **rozkładu jednostajnego** na zadanym odcinku."
      ],
      "metadata": {
        "id": "xiOOzfA6XvsC"
      }
    },
    {
      "cell_type": "code",
      "source": [
        "x = np.random.uniform(-5, 5, 100)"
      ],
      "metadata": {
        "id": "neXpt1OQXtv-"
      },
      "execution_count": null,
      "outputs": []
    },
    {
      "cell_type": "markdown",
      "source": [
        "###Generuje zmienną zależną"
      ],
      "metadata": {
        "id": "TQ_bBUdrYUyW"
      }
    },
    {
      "cell_type": "code",
      "source": [
        "y = 5 * x + 3 + np.random.normal(0, 3, 100)"
      ],
      "metadata": {
        "id": "R1pymoFkYTy1"
      },
      "execution_count": null,
      "outputs": []
    },
    {
      "cell_type": "markdown",
      "source": [
        "Zmienna typu **array**."
      ],
      "metadata": {
        "id": "4qJPlkVLYsiD"
      }
    },
    {
      "cell_type": "markdown",
      "source": [
        "###Zwróćmy uwagę, iż nasza macierz jest jednowymiarowa.\n",
        "\n",
        "W dalszej części naszej pracy będziemy musieli zmodyfkować tę macierz."
      ],
      "metadata": {
        "id": "YdIGDrZj7UCF"
      }
    },
    {
      "cell_type": "code",
      "source": [
        "x"
      ],
      "metadata": {
        "colab": {
          "base_uri": "https://localhost:8080/"
        },
        "id": "bf8r4H-wYn8O",
        "outputId": "ec19bb87-0d2e-4637-d4e3-16d3eaf6a76c"
      },
      "execution_count": null,
      "outputs": [
        {
          "output_type": "execute_result",
          "data": {
            "text/plain": [
              "array([ 2.74592458,  0.91299378, -2.5649066 ,  4.30230108,  4.5988761 ,\n",
              "       -0.50963955,  2.51938164, -2.75887872, -1.65284512,  3.91100166,\n",
              "       -3.64955007, -0.58214671, -3.81812968, -4.66601909,  3.28103438,\n",
              "        0.49392864, -0.01595435, -2.17307508, -2.34805531, -2.33189528,\n",
              "        0.34926642, -2.33621052, -3.31591719, -0.68430955, -4.03696624,\n",
              "       -0.89134112, -2.23918456, -0.54588076,  1.64763675,  3.45322427,\n",
              "        3.76038769,  1.95079033,  0.74697162, -1.43163264, -1.97984298,\n",
              "       -0.19099585,  1.84940029, -0.10587202, -0.9086844 ,  2.04040019,\n",
              "       -3.01901007,  1.43486845, -3.82335055,  1.80786574, -4.29632785,\n",
              "        2.41827391,  4.04263629, -4.70044293, -3.85388651, -0.95820542,\n",
              "       -4.48765489,  0.10828961, -1.23088478,  3.87147381,  4.63417222,\n",
              "        2.26010856, -2.25102641, -3.25217414, -3.77702173,  0.39171904,\n",
              "        4.53261147, -1.81640581,  0.65618207, -1.78080202, -2.41374444,\n",
              "        3.37913244, -4.97357935, -2.50161687,  3.19656711,  4.76243217,\n",
              "        1.22788753,  0.30050178,  4.15969311, -2.62241347,  4.20548492,\n",
              "       -4.94406251, -0.40497273, -1.34773169, -1.42224057, -1.30655462,\n",
              "        0.75345956, -0.74825103,  2.4592774 ,  2.36421799,  4.33679284,\n",
              "        2.31905895, -3.92078477, -0.41925185,  3.54473514, -1.40929312,\n",
              "       -4.15054919,  1.00914968, -2.84386016,  2.33351694, -0.23960668,\n",
              "       -3.84764325,  0.64630297,  1.13798527,  4.18122155, -4.73512799])"
            ]
          },
          "metadata": {},
          "execution_count": 4
        }
      ]
    },
    {
      "cell_type": "markdown",
      "source": [
        "###Zwróćmy uwagę, iż nasza macierz jest jednowymiarowa."
      ],
      "metadata": {
        "id": "K5b8AKhD7bFY"
      }
    },
    {
      "cell_type": "code",
      "source": [
        "y"
      ],
      "metadata": {
        "colab": {
          "base_uri": "https://localhost:8080/"
        },
        "id": "eRPINqCvYpgq",
        "outputId": "5144eae6-34f0-4852-a83d-922294096d22"
      },
      "execution_count": null,
      "outputs": [
        {
          "output_type": "execute_result",
          "data": {
            "text/plain": [
              "array([ 18.29713543,   5.18345754,  -9.33506982,  17.14149489,\n",
              "        23.52077177,   3.94525529,  19.24993714, -12.07247695,\n",
              "        -5.78558167,  26.49125913, -15.61271681,  -3.24393741,\n",
              "       -11.38056394, -22.79752576,  19.55954915,   5.54511552,\n",
              "         1.4137779 , -11.17966899, -17.12889547,  -7.01845134,\n",
              "         2.76143442,  -8.61686168, -16.36428285,  -2.62568109,\n",
              "       -15.17055554,   0.91525824,  -9.77098031,  -4.42421299,\n",
              "        12.6814435 ,  20.22736046,  25.48781945,  15.91386995,\n",
              "         4.78695904,  -9.76768115,  -6.56117928,   3.76385739,\n",
              "         8.8028097 ,   3.23613288,  -4.96100541,  17.18952977,\n",
              "        -9.49837463,   9.27155788, -15.79447665,  12.23220056,\n",
              "       -13.69016722,  14.63550983,  19.93082848, -17.80960882,\n",
              "       -16.49280548,  -1.14279061, -20.02572583,   2.24396774,\n",
              "        -3.85062418,  22.01010568,  20.66594346,  15.03374184,\n",
              "        -8.5255341 , -14.66139831, -16.18117489,  -0.26371081,\n",
              "        27.65707148,  -6.91076392,   5.10351758,  -7.14110698,\n",
              "       -11.4441919 ,  26.59388369, -24.51799323,  -7.54549357,\n",
              "        21.82171746,  30.64385984,  12.8474371 ,   8.36028566,\n",
              "        29.07956652,  -8.51574493,  26.00669875, -18.30967143,\n",
              "        -2.22329264,  -3.42330404,  -5.77123171,  -3.5502049 ,\n",
              "         7.87072888,   2.5375613 ,  15.40764421,  19.87257999,\n",
              "        28.8273569 ,  17.79674695, -13.49885395,  -2.38307393,\n",
              "        21.63468612,  -3.09734064, -15.37426859,   7.00270146,\n",
              "        -8.48692828,  11.92900306,   2.78676645, -22.07472919,\n",
              "         6.15054715,   4.96162092,  21.40266   , -17.85718654])"
            ]
          },
          "metadata": {},
          "execution_count": 5
        }
      ]
    },
    {
      "cell_type": "code",
      "source": [
        "import matplotlib.pyplot as plt"
      ],
      "metadata": {
        "id": "uDjZMMP6Yqq4"
      },
      "execution_count": null,
      "outputs": []
    },
    {
      "cell_type": "code",
      "source": [
        "plt.figure(figsize=(7, 7))\n",
        "plt.scatter(x, y, color=\"red\")"
      ],
      "metadata": {
        "colab": {
          "base_uri": "https://localhost:8080/",
          "height": 617
        },
        "id": "FzFEIiLoY0zF",
        "outputId": "74342aea-3e71-43e2-806e-fe6dcdffe355"
      },
      "execution_count": null,
      "outputs": [
        {
          "output_type": "execute_result",
          "data": {
            "text/plain": [
              "<matplotlib.collections.PathCollection at 0x7d2bc30637f0>"
            ]
          },
          "metadata": {},
          "execution_count": 7
        },
        {
          "output_type": "display_data",
          "data": {
            "text/plain": [
              "<Figure size 700x700 with 1 Axes>"
            ],
            "image/png": "[encoded data removed]"
          },
          "metadata": {}
        }
      ]
    },
    {
      "cell_type": "markdown",
      "source": [
        "###*Pojawia się pytanie jak zidentyfikować parametry linii w danych?*"
      ],
      "metadata": {
        "id": "Y1nQd89RZaiB"
      }
    },
    {
      "cell_type": "markdown",
      "source": [
        "Możemy użyć klasy, która oprogramowuje niejako algorytm poszukiwania prostej regresji w problemie regresji liniowej.\n",
        "\n",
        "Klasa ta jest zawarta w bibliotece sklearn."
      ],
      "metadata": {
        "id": "84GAczEhZ0gY"
      }
    },
    {
      "cell_type": "code",
      "source": [
        "from sklearn.linear_model import LinearRegression"
      ],
      "metadata": {
        "id": "THcGPd3gZAMD"
      },
      "execution_count": null,
      "outputs": []
    },
    {
      "cell_type": "markdown",
      "source": [
        "###**Tworze obiekt klasy LinearRegresion**"
      ],
      "metadata": {
        "id": "FOwWAeIgaQ8B"
      }
    },
    {
      "cell_type": "code",
      "source": [
        "model = LinearRegression()"
      ],
      "metadata": {
        "id": "IyVNEgdUaOOY"
      },
      "execution_count": null,
      "outputs": []
    },
    {
      "cell_type": "markdown",
      "source": [
        "**Biblioteka sklearn** posiada pewną konwencję jeśli chodzi o uczenie modeli oprogramowanych jako klasy.\n",
        "\n",
        "W klasie tej jest metoda *fit()* - metoda do nauczenia modelu odpowiednich parametrów przy pomocy zbioru uczącego."
      ],
      "metadata": {
        "id": "E7I0Ey9xaajy"
      }
    },
    {
      "cell_type": "markdown",
      "source": [
        "###Metoda zmieniająca rozmiar (kształt) macierzy"
      ],
      "metadata": {
        "id": "LKGEkGGw70o1"
      }
    },
    {
      "cell_type": "markdown",
      "source": [
        "Wektor o stu elemnetach."
      ],
      "metadata": {
        "id": "j1CPA5vJ7-yl"
      }
    },
    {
      "cell_type": "code",
      "source": [
        "x.shape"
      ],
      "metadata": {
        "colab": {
          "base_uri": "https://localhost:8080/"
        },
        "id": "XwKbJLJh7vfv",
        "outputId": "20af3538-60e7-4a5b-dcc3-64eb4e53d1da"
      },
      "execution_count": null,
      "outputs": [
        {
          "output_type": "execute_result",
          "data": {
            "text/plain": [
              "(100,)"
            ]
          },
          "metadata": {},
          "execution_count": 11
        }
      ]
    },
    {
      "cell_type": "markdown",
      "source": [
        "###Zmnieniamy kształt tego elemntu."
      ],
      "metadata": {
        "id": "DiHM6iw-8DlP"
      }
    },
    {
      "cell_type": "markdown",
      "source": [
        "W rezultacie otrzymujemy wektor pionowy - macierz dwuwymiarowa."
      ],
      "metadata": {
        "id": "19RCqw128P8J"
      }
    },
    {
      "cell_type": "markdown",
      "source": [
        "W *Numpy* metoda shape() wymaga podania wszystkich rozmiarów.\n",
        "\n",
        "Zatem jeśli chcemy przekształcić już jakąś istniejącą macierz - musimy wiedzieć ile zawiera ona elementów.\n",
        "\n"
      ],
      "metadata": {
        "id": "p3umT4Jf-v_m"
      }
    },
    {
      "cell_type": "code",
      "source": [
        "x.reshape((100, 1))"
      ],
      "metadata": {
        "colab": {
          "base_uri": "https://localhost:8080/"
        },
        "id": "Oa9inhBz8I9r",
        "outputId": "bc67de35-a790-49f3-eaeb-ad479db1c862"
      },
      "execution_count": null,
      "outputs": [
        {
          "output_type": "execute_result",
          "data": {
            "text/plain": [
              "array([[ 2.74592458],\n",
              "       [ 0.91299378],\n",
              "       [-2.5649066 ],\n",
              "       [ 4.30230108],\n",
              "       [ 4.5988761 ],\n",
              "       [-0.50963955],\n",
              "       [ 2.51938164],\n",
              "       [-2.75887872],\n",
              "       [-1.65284512],\n",
              "       [ 3.91100166],\n",
              "       [-3.64955007],\n",
              "       [-0.58214671],\n",
              "       [-3.81812968],\n",
              "       [-4.66601909],\n",
              "       [ 3.28103438],\n",
              "       [ 0.49392864],\n",
              "       [-0.01595435],\n",
              "       [-2.17307508],\n",
              "       [-2.34805531],\n",
              "       [-2.33189528],\n",
              "       [ 0.34926642],\n",
              "       [-2.33621052],\n",
              "       [-3.31591719],\n",
              "       [-0.68430955],\n",
              "       [-4.03696624],\n",
              "       [-0.89134112],\n",
              "       [-2.23918456],\n",
              "       [-0.54588076],\n",
              "       [ 1.64763675],\n",
              "       [ 3.45322427],\n",
              "       [ 3.76038769],\n",
              "       [ 1.95079033],\n",
              "       [ 0.74697162],\n",
              "       [-1.43163264],\n",
              "       [-1.97984298],\n",
              "       [-0.19099585],\n",
              "       [ 1.84940029],\n",
              "       [-0.10587202],\n",
              "       [-0.9086844 ],\n",
              "       [ 2.04040019],\n",
              "       [-3.01901007],\n",
              "       [ 1.43486845],\n",
              "       [-3.82335055],\n",
              "       [ 1.80786574],\n",
              "       [-4.29632785],\n",
              "       [ 2.41827391],\n",
              "       [ 4.04263629],\n",
              "       [-4.70044293],\n",
              "       [-3.85388651],\n",
              "       [-0.95820542],\n",
              "       [-4.48765489],\n",
              "       [ 0.10828961],\n",
              "       [-1.23088478],\n",
              "       [ 3.87147381],\n",
              "       [ 4.63417222],\n",
              "       [ 2.26010856],\n",
              "       [-2.25102641],\n",
              "       [-3.25217414],\n",
              "       [-3.77702173],\n",
              "       [ 0.39171904],\n",
              "       [ 4.53261147],\n",
              "       [-1.81640581],\n",
              "       [ 0.65618207],\n",
              "       [-1.78080202],\n",
              "       [-2.41374444],\n",
              "       [ 3.37913244],\n",
              "       [-4.97357935],\n",
              "       [-2.50161687],\n",
              "       [ 3.19656711],\n",
              "       [ 4.76243217],\n",
              "       [ 1.22788753],\n",
              "       [ 0.30050178],\n",
              "       [ 4.15969311],\n",
              "       [-2.62241347],\n",
              "       [ 4.20548492],\n",
              "       [-4.94406251],\n",
              "       [-0.40497273],\n",
              "       [-1.34773169],\n",
              "       [-1.42224057],\n",
              "       [-1.30655462],\n",
              "       [ 0.75345956],\n",
              "       [-0.74825103],\n",
              "       [ 2.4592774 ],\n",
              "       [ 2.36421799],\n",
              "       [ 4.33679284],\n",
              "       [ 2.31905895],\n",
              "       [-3.92078477],\n",
              "       [-0.41925185],\n",
              "       [ 3.54473514],\n",
              "       [-1.40929312],\n",
              "       [-4.15054919],\n",
              "       [ 1.00914968],\n",
              "       [-2.84386016],\n",
              "       [ 2.33351694],\n",
              "       [-0.23960668],\n",
              "       [-3.84764325],\n",
              "       [ 0.64630297],\n",
              "       [ 1.13798527],\n",
              "       [ 4.18122155],\n",
              "       [-4.73512799]])"
            ]
          },
          "metadata": {},
          "execution_count": 12
        }
      ]
    },
    {
      "cell_type": "markdown",
      "source": [
        "Istnieje jednak sposób aby ominąć konieczność dokładnego okreslenie liczby elemnetów w metodzie *reshape()*.\n",
        "\n",
        "możemy to zrobić w następujący sposób:\n",
        "\n",
        "\n",
        "-1 podane jako pierwszy element macierzy to ten wymiar, który *Numpy* powinien sobie dostosować."
      ],
      "metadata": {
        "id": "3d-ZfhCq_FN0"
      }
    },
    {
      "cell_type": "code",
      "source": [
        "x.reshape(-1, 1)"
      ],
      "metadata": {
        "colab": {
          "base_uri": "https://localhost:8080/"
        },
        "id": "ctNQOE0G_URW",
        "outputId": "45b51509-c7ee-4d39-b3d3-7e6ea5d022d3"
      },
      "execution_count": null,
      "outputs": [
        {
          "output_type": "execute_result",
          "data": {
            "text/plain": [
              "array([[ 2.74592458],\n",
              "       [ 0.91299378],\n",
              "       [-2.5649066 ],\n",
              "       [ 4.30230108],\n",
              "       [ 4.5988761 ],\n",
              "       [-0.50963955],\n",
              "       [ 2.51938164],\n",
              "       [-2.75887872],\n",
              "       [-1.65284512],\n",
              "       [ 3.91100166],\n",
              "       [-3.64955007],\n",
              "       [-0.58214671],\n",
              "       [-3.81812968],\n",
              "       [-4.66601909],\n",
              "       [ 3.28103438],\n",
              "       [ 0.49392864],\n",
              "       [-0.01595435],\n",
              "       [-2.17307508],\n",
              "       [-2.34805531],\n",
              "       [-2.33189528],\n",
              "       [ 0.34926642],\n",
              "       [-2.33621052],\n",
              "       [-3.31591719],\n",
              "       [-0.68430955],\n",
              "       [-4.03696624],\n",
              "       [-0.89134112],\n",
              "       [-2.23918456],\n",
              "       [-0.54588076],\n",
              "       [ 1.64763675],\n",
              "       [ 3.45322427],\n",
              "       [ 3.76038769],\n",
              "       [ 1.95079033],\n",
              "       [ 0.74697162],\n",
              "       [-1.43163264],\n",
              "       [-1.97984298],\n",
              "       [-0.19099585],\n",
              "       [ 1.84940029],\n",
              "       [-0.10587202],\n",
              "       [-0.9086844 ],\n",
              "       [ 2.04040019],\n",
              "       [-3.01901007],\n",
              "       [ 1.43486845],\n",
              "       [-3.82335055],\n",
              "       [ 1.80786574],\n",
              "       [-4.29632785],\n",
              "       [ 2.41827391],\n",
              "       [ 4.04263629],\n",
              "       [-4.70044293],\n",
              "       [-3.85388651],\n",
              "       [-0.95820542],\n",
              "       [-4.48765489],\n",
              "       [ 0.10828961],\n",
              "       [-1.23088478],\n",
              "       [ 3.87147381],\n",
              "       [ 4.63417222],\n",
              "       [ 2.26010856],\n",
              "       [-2.25102641],\n",
              "       [-3.25217414],\n",
              "       [-3.77702173],\n",
              "       [ 0.39171904],\n",
              "       [ 4.53261147],\n",
              "       [-1.81640581],\n",
              "       [ 0.65618207],\n",
              "       [-1.78080202],\n",
              "       [-2.41374444],\n",
              "       [ 3.37913244],\n",
              "       [-4.97357935],\n",
              "       [-2.50161687],\n",
              "       [ 3.19656711],\n",
              "       [ 4.76243217],\n",
              "       [ 1.22788753],\n",
              "       [ 0.30050178],\n",
              "       [ 4.15969311],\n",
              "       [-2.62241347],\n",
              "       [ 4.20548492],\n",
              "       [-4.94406251],\n",
              "       [-0.40497273],\n",
              "       [-1.34773169],\n",
              "       [-1.42224057],\n",
              "       [-1.30655462],\n",
              "       [ 0.75345956],\n",
              "       [-0.74825103],\n",
              "       [ 2.4592774 ],\n",
              "       [ 2.36421799],\n",
              "       [ 4.33679284],\n",
              "       [ 2.31905895],\n",
              "       [-3.92078477],\n",
              "       [-0.41925185],\n",
              "       [ 3.54473514],\n",
              "       [-1.40929312],\n",
              "       [-4.15054919],\n",
              "       [ 1.00914968],\n",
              "       [-2.84386016],\n",
              "       [ 2.33351694],\n",
              "       [-0.23960668],\n",
              "       [-3.84764325],\n",
              "       [ 0.64630297],\n",
              "       [ 1.13798527],\n",
              "       [ 4.18122155],\n",
              "       [-4.73512799]])"
            ]
          },
          "metadata": {},
          "execution_count": 13
        }
      ]
    },
    {
      "cell_type": "markdown",
      "source": [
        "###Uczę model"
      ],
      "metadata": {
        "id": "fQg81Jr-a_Oo"
      }
    },
    {
      "cell_type": "code",
      "source": [
        "model.fit(x.reshape(-1, 1), y)"
      ],
      "metadata": {
        "colab": {
          "base_uri": "https://localhost:8080/",
          "height": 80
        },
        "id": "qZAyAd8raYv9",
        "outputId": "a2bc1cd4-56b2-4d69-8d1f-8f630a61c7aa"
      },
      "execution_count": null,
      "outputs": [
        {
          "output_type": "execute_result",
          "data": {
            "text/plain": [
              "LinearRegression()"
            ],
            "text/html": [
              "<style>#sk-container-id-1 {\n",
              "  /* Definition of color scheme common for light and dark mode */\n",
              "  --sklearn-color-text: #000;\n",
              "  --sklearn-color-text-muted: #666;\n",
              "  --sklearn-color-line: gray;\n",
              "  /* Definition of color scheme for unfitted estimators */\n",
              "  --sklearn-color-unfitted-level-0: #fff5e6;\n",
              "  --sklearn-color-unfitted-level-1: #f6e4d2;\n",
              "  --sklearn-color-unfitted-level-2: #ffe0b3;\n",
              "  --sklearn-color-unfitted-level-3: chocolate;\n",
              "  /* Definition of color scheme for fitted estimators */\n",
              "  --sklearn-color-fitted-level-0: #f0f8ff;\n",
              "  --sklearn-color-fitted-level-1: #d4ebff;\n",
              "  --sklearn-color-fitted-level-2: #b3dbfd;\n",
              "  --sklearn-color-fitted-level-3: cornflowerblue;\n",
              "\n",
              "  /* Specific color for light theme */\n",
              "  --sklearn-color-text-on-default-background: var(--sg-text-color, var(--theme-code-foreground, var(--jp-content-font-color1, black)));\n",
              "  --sklearn-color-background: var(--sg-background-color, var(--theme-background, var(--jp-layout-color0, white)));\n",
              "  --sklearn-color-border-box: var(--sg-text-color, var(--theme-code-foreground, var(--jp-content-font-color1, black)));\n",
              "  --sklearn-color-icon: #696969;\n",
              "\n",
              "  @media (prefers-color-scheme: dark) {\n",
              "    /* Redefinition of color scheme for dark theme */\n",
              "    --sklearn-color-text-on-default-background: var(--sg-text-color, var(--theme-code-foreground, var(--jp-content-font-color1, white)));\n",
              "    --sklearn-color-background: var(--sg-background-color, var(--theme-background, var(--jp-layout-color0, #111)));\n",
              "    --sklearn-color-border-box: var(--sg-text-color, var(--theme-code-foreground, var(--jp-content-font-color1, white)));\n",
              "    --sklearn-color-icon: #878787;\n",
              "  }\n",
              "}\n",
              "\n",
              "#sk-container-id-1 {\n",
              "  color: var(--sklearn-color-text);\n",
              "}\n",
              "\n",
              "#sk-container-id-1 pre {\n",
              "  padding: 0;\n",
              "}\n",
              "\n",
              "#sk-container-id-1 input.sk-hidden--visually {\n",
              "  border: 0;\n",
              "  clip: rect(1px 1px 1px 1px);\n",
              "  clip: rect(1px, 1px, 1px, 1px);\n",
              "  height: 1px;\n",
              "  margin: -1px;\n",
              "  overflow: hidden;\n",
              "  padding: 0;\n",
              "  position: absolute;\n",
              "  width: 1px;\n",
              "}\n",
              "\n",
              "#sk-container-id-1 div.sk-dashed-wrapped {\n",
              "  border: 1px dashed var(--sklearn-color-line);\n",
              "  margin: 0 0.4em 0.5em 0.4em;\n",
              "  box-sizing: border-box;\n",
              "  padding-bottom: 0.4em;\n",
              "  background-color: var(--sklearn-color-background);\n",
              "}\n",
              "\n",
              "#sk-container-id-1 div.sk-container {\n",
              "  /* jupyter's `normalize.less` sets `[hidden] { display: none; }`\n",
              "     but bootstrap.min.css set `[hidden] { display: none !important; }`\n",
              "     so we also need the `!important` here to be able to override the\n",
              "     default hidden behavior on the sphinx rendered scikit-learn.org.\n",
              "     See: https://github.com/scikit-learn/scikit-learn/issues/21755 */\n",
              "  display: inline-block !important;\n",
              "  position: relative;\n",
              "}\n",
              "\n",
              "#sk-container-id-1 div.sk-text-repr-fallback {\n",
              "  display: none;\n",
              "}\n",
              "\n",
              "div.sk-parallel-item,\n",
              "div.sk-serial,\n",
              "div.sk-item {\n",
              "  /* draw centered vertical line to link estimators */\n",
              "  background-image: linear-gradient(var(--sklearn-color-text-on-default-background), var(--sklearn-color-text-on-default-background));\n",
              "  background-size: 2px 100%;\n",
              "  background-repeat: no-repeat;\n",
              "  background-position: center center;\n",
              "}\n",
              "\n",
              "/* Parallel-specific style estimator block */\n",
              "\n",
              "#sk-container-id-1 div.sk-parallel-item::after {\n",
              "  content: \"\";\n",
              "  width: 100%;\n",
              "  border-bottom: 2px solid var(--sklearn-color-text-on-default-background);\n",
              "  flex-grow: 1;\n",
              "}\n",
              "\n",
              "#sk-container-id-1 div.sk-parallel {\n",
              "  display: flex;\n",
              "  align-items: stretch;\n",
              "  justify-content: center;\n",
              "  background-color: var(--sklearn-color-background);\n",
              "  position: relative;\n",
              "}\n",
              "\n",
              "#sk-container-id-1 div.sk-parallel-item {\n",
              "  display: flex;\n",
              "  flex-direction: column;\n",
              "}\n",
              "\n",
              "#sk-container-id-1 div.sk-parallel-item:first-child::after {\n",
              "  align-self: flex-end;\n",
              "  width: 50%;\n",
              "}\n",
              "\n",
              "#sk-container-id-1 div.sk-parallel-item:last-child::after {\n",
              "  align-self: flex-start;\n",
              "  width: 50%;\n",
              "}\n",
              "\n",
              "#sk-container-id-1 div.sk-parallel-item:only-child::after {\n",
              "  width: 0;\n",
              "}\n",
              "\n",
              "/* Serial-specific style estimator block */\n",
              "\n",
              "#sk-container-id-1 div.sk-serial {\n",
              "  display: flex;\n",
              "  flex-direction: column;\n",
              "  align-items: center;\n",
              "  background-color: var(--sklearn-color-background);\n",
              "  padding-right: 1em;\n",
              "  padding-left: 1em;\n",
              "}\n",
              "\n",
              "\n",
              "/* Toggleable style: style used for estimator/Pipeline/ColumnTransformer box that is\n",
              "clickable and can be expanded/collapsed.\n",
              "- Pipeline and ColumnTransformer use this feature and define the default style\n",
              "- Estimators will overwrite some part of the style using the `sk-estimator` class\n",
              "*/\n",
              "\n",
              "/* Pipeline and ColumnTransformer style (default) */\n",
              "\n",
              "#sk-container-id-1 div.sk-toggleable {\n",
              "  /* Default theme specific background. It is overwritten whether we have a\n",
              "  specific estimator or a Pipeline/ColumnTransformer */\n",
              "  background-color: var(--sklearn-color-background);\n",
              "}\n",
              "\n",
              "/* Toggleable label */\n",
              "#sk-container-id-1 label.sk-toggleable__label {\n",
              "  cursor: pointer;\n",
              "  display: flex;\n",
              "  width: 100%;\n",
              "  margin-bottom: 0;\n",
              "  padding: 0.5em;\n",
              "  box-sizing: border-box;\n",
              "  text-align: center;\n",
              "  align-items: start;\n",
              "  justify-content: space-between;\n",
              "  gap: 0.5em;\n",
              "}\n",
              "\n",
              "#sk-container-id-1 label.sk-toggleable__label .caption {\n",
              "  font-size: 0.6rem;\n",
              "  font-weight: lighter;\n",
              "  color: var(--sklearn-color-text-muted);\n",
              "}\n",
              "\n",
              "#sk-container-id-1 label.sk-toggleable__label-arrow:before {\n",
              "  /* Arrow on the left of the label */\n",
              "  content: \"▸\";\n",
              "  float: left;\n",
              "  margin-right: 0.25em;\n",
              "  color: var(--sklearn-color-icon);\n",
              "}\n",
              "\n",
              "#sk-container-id-1 label.sk-toggleable__label-arrow:hover:before {\n",
              "  color: var(--sklearn-color-text);\n",
              "}\n",
              "\n",
              "/* Toggleable content - dropdown */\n",
              "\n",
              "#sk-container-id-1 div.sk-toggleable__content {\n",
              "  max-height: 0;\n",
              "  max-width: 0;\n",
              "  overflow: hidden;\n",
              "  text-align: left;\n",
              "  /* unfitted */\n",
              "  background-color: var(--sklearn-color-unfitted-level-0);\n",
              "}\n",
              "\n",
              "#sk-container-id-1 div.sk-toggleable__content.fitted {\n",
              "  /* fitted */\n",
              "  background-color: var(--sklearn-color-fitted-level-0);\n",
              "}\n",
              "\n",
              "#sk-container-id-1 div.sk-toggleable__content pre {\n",
              "  margin: 0.2em;\n",
              "  border-radius: 0.25em;\n",
              "  color: var(--sklearn-color-text);\n",
              "  /* unfitted */\n",
              "  background-color: var(--sklearn-color-unfitted-level-0);\n",
              "}\n",
              "\n",
              "#sk-container-id-1 div.sk-toggleable__content.fitted pre {\n",
              "  /* unfitted */\n",
              "  background-color: var(--sklearn-color-fitted-level-0);\n",
              "}\n",
              "\n",
              "#sk-container-id-1 input.sk-toggleable__control:checked~div.sk-toggleable__content {\n",
              "  /* Expand drop-down */\n",
              "  max-height: 200px;\n",
              "  max-width: 100%;\n",
              "  overflow: auto;\n",
              "}\n",
              "\n",
              "#sk-container-id-1 input.sk-toggleable__control:checked~label.sk-toggleable__label-arrow:before {\n",
              "  content: \"▾\";\n",
              "}\n",
              "\n",
              "/* Pipeline/ColumnTransformer-specific style */\n",
              "\n",
              "#sk-container-id-1 div.sk-label input.sk-toggleable__control:checked~label.sk-toggleable__label {\n",
              "  color: var(--sklearn-color-text);\n",
              "  background-color: var(--sklearn-color-unfitted-level-2);\n",
              "}\n",
              "\n",
              "#sk-container-id-1 div.sk-label.fitted input.sk-toggleable__control:checked~label.sk-toggleable__label {\n",
              "  background-color: var(--sklearn-color-fitted-level-2);\n",
              "}\n",
              "\n",
              "/* Estimator-specific style */\n",
              "\n",
              "/* Colorize estimator box */\n",
              "#sk-container-id-1 div.sk-estimator input.sk-toggleable__control:checked~label.sk-toggleable__label {\n",
              "  /* unfitted */\n",
              "  background-color: var(--sklearn-color-unfitted-level-2);\n",
              "}\n",
              "\n",
              "#sk-container-id-1 div.sk-estimator.fitted input.sk-toggleable__control:checked~label.sk-toggleable__label {\n",
              "  /* fitted */\n",
              "  background-color: var(--sklearn-color-fitted-level-2);\n",
              "}\n",
              "\n",
              "#sk-container-id-1 div.sk-label label.sk-toggleable__label,\n",
              "#sk-container-id-1 div.sk-label label {\n",
              "  /* The background is the default theme color */\n",
              "  color: var(--sklearn-color-text-on-default-background);\n",
              "}\n",
              "\n",
              "/* On hover, darken the color of the background */\n",
              "#sk-container-id-1 div.sk-label:hover label.sk-toggleable__label {\n",
              "  color: var(--sklearn-color-text);\n",
              "  background-color: var(--sklearn-color-unfitted-level-2);\n",
              "}\n",
              "\n",
              "/* Label box, darken color on hover, fitted */\n",
              "#sk-container-id-1 div.sk-label.fitted:hover label.sk-toggleable__label.fitted {\n",
              "  color: var(--sklearn-color-text);\n",
              "  background-color: var(--sklearn-color-fitted-level-2);\n",
              "}\n",
              "\n",
              "/* Estimator label */\n",
              "\n",
              "#sk-container-id-1 div.sk-label label {\n",
              "  font-family: monospace;\n",
              "  font-weight: bold;\n",
              "  display: inline-block;\n",
              "  line-height: 1.2em;\n",
              "}\n",
              "\n",
              "#sk-container-id-1 div.sk-label-container {\n",
              "  text-align: center;\n",
              "}\n",
              "\n",
              "/* Estimator-specific */\n",
              "#sk-container-id-1 div.sk-estimator {\n",
              "  font-family: monospace;\n",
              "  border: 1px dotted var(--sklearn-color-border-box);\n",
              "  border-radius: 0.25em;\n",
              "  box-sizing: border-box;\n",
              "  margin-bottom: 0.5em;\n",
              "  /* unfitted */\n",
              "  background-color: var(--sklearn-color-unfitted-level-0);\n",
              "}\n",
              "\n",
              "#sk-container-id-1 div.sk-estimator.fitted {\n",
              "  /* fitted */\n",
              "  background-color: var(--sklearn-color-fitted-level-0);\n",
              "}\n",
              "\n",
              "/* on hover */\n",
              "#sk-container-id-1 div.sk-estimator:hover {\n",
              "  /* unfitted */\n",
              "  background-color: var(--sklearn-color-unfitted-level-2);\n",
              "}\n",
              "\n",
              "#sk-container-id-1 div.sk-estimator.fitted:hover {\n",
              "  /* fitted */\n",
              "  background-color: var(--sklearn-color-fitted-level-2);\n",
              "}\n",
              "\n",
              "/* Specification for estimator info (e.g. \"i\" and \"?\") */\n",
              "\n",
              "/* Common style for \"i\" and \"?\" */\n",
              "\n",
              ".sk-estimator-doc-link,\n",
              "a:link.sk-estimator-doc-link,\n",
              "a:visited.sk-estimator-doc-link {\n",
              "  float: right;\n",
              "  font-size: smaller;\n",
              "  line-height: 1em;\n",
              "  font-family: monospace;\n",
              "  background-color: var(--sklearn-color-background);\n",
              "  border-radius: 1em;\n",
              "  height: 1em;\n",
              "  width: 1em;\n",
              "  text-decoration: none !important;\n",
              "  margin-left: 0.5em;\n",
              "  text-align: center;\n",
              "  /* unfitted */\n",
              "  border: var(--sklearn-color-unfitted-level-1) 1pt solid;\n",
              "  color: var(--sklearn-color-unfitted-level-1);\n",
              "}\n",
              "\n",
              ".sk-estimator-doc-link.fitted,\n",
              "a:link.sk-estimator-doc-link.fitted,\n",
              "a:visited.sk-estimator-doc-link.fitted {\n",
              "  /* fitted */\n",
              "  border: var(--sklearn-color-fitted-level-1) 1pt solid;\n",
              "  color: var(--sklearn-color-fitted-level-1);\n",
              "}\n",
              "\n",
              "/* On hover */\n",
              "div.sk-estimator:hover .sk-estimator-doc-link:hover,\n",
              ".sk-estimator-doc-link:hover,\n",
              "div.sk-label-container:hover .sk-estimator-doc-link:hover,\n",
              ".sk-estimator-doc-link:hover {\n",
              "  /* unfitted */\n",
              "  background-color: var(--sklearn-color-unfitted-level-3);\n",
              "  color: var(--sklearn-color-background);\n",
              "  text-decoration: none;\n",
              "}\n",
              "\n",
              "div.sk-estimator.fitted:hover .sk-estimator-doc-link.fitted:hover,\n",
              ".sk-estimator-doc-link.fitted:hover,\n",
              "div.sk-label-container:hover .sk-estimator-doc-link.fitted:hover,\n",
              ".sk-estimator-doc-link.fitted:hover {\n",
              "  /* fitted */\n",
              "  background-color: var(--sklearn-color-fitted-level-3);\n",
              "  color: var(--sklearn-color-background);\n",
              "  text-decoration: none;\n",
              "}\n",
              "\n",
              "/* Span, style for the box shown on hovering the info icon */\n",
              ".sk-estimator-doc-link span {\n",
              "  display: none;\n",
              "  z-index: 9999;\n",
              "  position: relative;\n",
              "  font-weight: normal;\n",
              "  right: .2ex;\n",
              "  padding: .5ex;\n",
              "  margin: .5ex;\n",
              "  width: min-content;\n",
              "  min-width: 20ex;\n",
              "  max-width: 50ex;\n",
              "  color: var(--sklearn-color-text);\n",
              "  box-shadow: 2pt 2pt 4pt #999;\n",
              "  /* unfitted */\n",
              "  background: var(--sklearn-color-unfitted-level-0);\n",
              "  border: .5pt solid var(--sklearn-color-unfitted-level-3);\n",
              "}\n",
              "\n",
              ".sk-estimator-doc-link.fitted span {\n",
              "  /* fitted */\n",
              "  background: var(--sklearn-color-fitted-level-0);\n",
              "  border: var(--sklearn-color-fitted-level-3);\n",
              "}\n",
              "\n",
              ".sk-estimator-doc-link:hover span {\n",
              "  display: block;\n",
              "}\n",
              "\n",
              "/* \"?\"-specific style due to the `<a>` HTML tag */\n",
              "\n",
              "#sk-container-id-1 a.estimator_doc_link {\n",
              "  float: right;\n",
              "  font-size: 1rem;\n",
              "  line-height: 1em;\n",
              "  font-family: monospace;\n",
              "  background-color: var(--sklearn-color-background);\n",
              "  border-radius: 1rem;\n",
              "  height: 1rem;\n",
              "  width: 1rem;\n",
              "  text-decoration: none;\n",
              "  /* unfitted */\n",
              "  color: var(--sklearn-color-unfitted-level-1);\n",
              "  border: var(--sklearn-color-unfitted-level-1) 1pt solid;\n",
              "}\n",
              "\n",
              "#sk-container-id-1 a.estimator_doc_link.fitted {\n",
              "  /* fitted */\n",
              "  border: var(--sklearn-color-fitted-level-1) 1pt solid;\n",
              "  color: var(--sklearn-color-fitted-level-1);\n",
              "}\n",
              "\n",
              "/* On hover */\n",
              "#sk-container-id-1 a.estimator_doc_link:hover {\n",
              "  /* unfitted */\n",
              "  background-color: var(--sklearn-color-unfitted-level-3);\n",
              "  color: var(--sklearn-color-background);\n",
              "  text-decoration: none;\n",
              "}\n",
              "\n",
              "#sk-container-id-1 a.estimator_doc_link.fitted:hover {\n",
              "  /* fitted */\n",
              "  background-color: var(--sklearn-color-fitted-level-3);\n",
              "}\n",
              "</style><div id=\"sk-container-id-1\" class=\"sk-top-container\"><div class=\"sk-text-repr-fallback\"><pre>LinearRegression()</pre><b>In a Jupyter environment, please rerun this cell to show the HTML representation or trust the notebook. <br />On GitHub, the HTML representation is unable to render, please try loading this page with nbviewer.org.</b></div><div class=\"sk-container\" hidden><div class=\"sk-item\"><div class=\"sk-estimator fitted sk-toggleable\"><input class=\"sk-toggleable__control sk-hidden--visually\" id=\"sk-estimator-id-1\" type=\"checkbox\" checked><label for=\"sk-estimator-id-1\" class=\"sk-toggleable__label fitted sk-toggleable__label-arrow\"><div><div>LinearRegression</div></div><div><a class=\"sk-estimator-doc-link fitted\" rel=\"noreferrer\" target=\"_blank\" href=\"https://scikit-learn.org/1.6/modules/generated/sklearn.linear_model.LinearRegression.html\">?<span>Documentation for LinearRegression</span></a><span class=\"sk-estimator-doc-link fitted\">i<span>Fitted</span></span></div></label><div class=\"sk-toggleable__content fitted\"><pre>LinearRegression()</pre></div> </div></div></div></div>"
            ]
          },
          "metadata": {},
          "execution_count": 14
        }
      ]
    },
    {
      "cell_type": "markdown",
      "source": [
        "###Sprawdzamy jak dobrze model został dopasowany"
      ],
      "metadata": {
        "id": "cVXzLNRYAWP2"
      }
    },
    {
      "cell_type": "markdown",
      "source": [
        "W normalnych warunkach dopasowanie sprawdzamy na zbiorze testowym, nie na zbiorze uczącym.\n",
        "\n",
        "Na tym etapie nauki nie zdefiniowaliśmy zbioru testowego.\n",
        "\n",
        "Sprawdzamy zatem **dopasowanie modelu do danych uczacych**.\n",
        "\n",
        "Chodzi jedynie o to aby przejść kolejne kroki procesu uczenia modelu.\n"
      ],
      "metadata": {
        "id": "P_Wi6i6XAdFe"
      }
    },
    {
      "cell_type": "markdown",
      "source": [
        "Obiekty, które reprezentują modele posiadają metodę score() - metoda ta wylicza najważniejsze współczynniki określające jakoś modelu.\n",
        "\n",
        "W przypadku regresji liniowej tym współczynnikiem będzie **R^2**.\n",
        "\n",
        "Współczynnik ten określa jak bardzo zmienność danych w zbiorze ocenianym jest wyjaśniana przez model, który jest dopasowany.  \n",
        "\n",
        "Innymi słowy ile z tej zmienności (rozrzutu) punktów w chmurce można wyjaśnić tym, że układają się one wzdłuż prostej.\n",
        "\n"
      ],
      "metadata": {
        "id": "t21pffGfA6dt"
      }
    },
    {
      "cell_type": "code",
      "source": [
        "model.score(x.reshape(-1, 1), y)"
      ],
      "metadata": {
        "colab": {
          "base_uri": "https://localhost:8080/"
        },
        "id": "h0NrS0_pzi7D",
        "outputId": "1a05413d-62b5-42c3-9e25-0244b851e495"
      },
      "execution_count": null,
      "outputs": [
        {
          "output_type": "execute_result",
          "data": {
            "text/plain": [
              "0.9596594781636191"
            ]
          },
          "metadata": {},
          "execution_count": 15
        }
      ]
    },
    {
      "cell_type": "markdown",
      "source": [
        "###Jeżeli chcemy sprawdzić jak dobrze udało się nam wyestymować parametry prostej - odczytujemy to z parametrów modelu."
      ],
      "metadata": {
        "id": "yPCfkHR-CSkX"
      }
    },
    {
      "cell_type": "markdown",
      "source": [
        "Sprawdźmy jak baardzo dobrze udało nam się przybliżyć 3"
      ],
      "metadata": {
        "id": "oiwnzhhWCo_d"
      }
    },
    {
      "cell_type": "code",
      "source": [
        "model.intercept_"
      ],
      "metadata": {
        "colab": {
          "base_uri": "https://localhost:8080/"
        },
        "id": "qpXRihrrCaxL",
        "outputId": "7b567328-44cf-4376-b3e3-9655504c842b"
      },
      "execution_count": null,
      "outputs": [
        {
          "output_type": "execute_result",
          "data": {
            "text/plain": [
              "3.069315897290536"
            ]
          },
          "metadata": {},
          "execution_count": 16
        }
      ]
    },
    {
      "cell_type": "markdown",
      "source": [
        "Sprawdźmy jak dobrzer udało się nam wyestymować współczynnik kierunkowy czyli jak bardzo dobrze udało się na 5 przybliżyć."
      ],
      "metadata": {
        "id": "DjHxtwGaC8JF"
      }
    },
    {
      "cell_type": "code",
      "source": [
        "model.coef_"
      ],
      "metadata": {
        "colab": {
          "base_uri": "https://localhost:8080/"
        },
        "id": "NoW_RjC6CCHF",
        "outputId": "5b1171a4-a372-4d94-f812-0e4aa71290c3"
      },
      "execution_count": null,
      "outputs": [
        {
          "output_type": "execute_result",
          "data": {
            "text/plain": [
              "array([5.07647301])"
            ]
          },
          "metadata": {},
          "execution_count": 17
        }
      ]
    },
    {
      "cell_type": "markdown",
      "source": [
        "###**Rysujemy wykres**"
      ],
      "metadata": {
        "id": "uW63FWFjDSPt"
      }
    },
    {
      "cell_type": "code",
      "source": [
        "x_new = np.array([-5, 5])"
      ],
      "metadata": {
        "id": "5xRYywrMDDXH"
      },
      "execution_count": null,
      "outputs": []
    },
    {
      "cell_type": "markdown",
      "source": [
        "*Jak przeliczyć wartości oczekiwane z modelu dla nowych danych?*"
      ],
      "metadata": {
        "id": "eMVtO518Dxxq"
      }
    },
    {
      "cell_type": "code",
      "source": [
        "model.predict(x_new.reshape(-1, 1))"
      ],
      "metadata": {
        "colab": {
          "base_uri": "https://localhost:8080/"
        },
        "id": "lyBiVF5uDnfv",
        "outputId": "9e8a47d1-934c-4385-bfec-728caf394032"
      },
      "execution_count": null,
      "outputs": [
        {
          "output_type": "execute_result",
          "data": {
            "text/plain": [
              "array([-22.31304914,  28.45168093])"
            ]
          },
          "metadata": {},
          "execution_count": 19
        }
      ]
    },
    {
      "cell_type": "code",
      "source": [
        "plt.figure(figsize=(7,7))\n",
        "plt.scatter(x, y, color=\"red\")\n",
        "plt.plot(x_new, model.predict(x_new.reshape(-1, 1)), color=\"blue\")"
      ],
      "metadata": {
        "colab": {
          "base_uri": "https://localhost:8080/",
          "height": 617
        },
        "id": "2vAa0a6iD-oj",
        "outputId": "69837901-b8c1-4d6b-e130-dac1c0864484"
      },
      "execution_count": null,
      "outputs": [
        {
          "output_type": "execute_result",
          "data": {
            "text/plain": [
              "[<matplotlib.lines.Line2D at 0x7d2b8946f880>]"
            ]
          },
          "metadata": {},
          "execution_count": 20
        },
        {
          "output_type": "display_data",
          "data": {
            "text/plain": [
              "<Figure size 700x700 with 1 Axes>"
            ],
            "image/png": "[encoded data removed]"
          },
          "metadata": {}
        }
      ]
    },
    {
      "cell_type": "markdown",
      "source": [
        "###**2. Klasyfikacja**"
      ],
      "metadata": {
        "id": "YcxuMhJyEhEd"
      }
    },
    {
      "cell_type": "markdown",
      "source": [
        "Klasyfikacja punktów na płaszczyźnie.\n",
        "\n",
        "Staraliśmy się znaleźć na podstawie danych o klasach czy etykietach punktów na płaszczyźnie pewien uniwersalny przepis jak przypisywać etykiety do punktów, które ewentualnie pojawią się w zbiorze.\n",
        "\n",
        "Podział płaszczyzny na obszary, w których wszystkie nowe punkty miałyby być opatrywane etykietami odpowiadającymi etykiecie danego obszaru."
      ],
      "metadata": {
        "id": "Yd6juij2EqdD"
      }
    },
    {
      "cell_type": "markdown",
      "source": [
        "###**Generujemy dane**"
      ],
      "metadata": {
        "id": "H5hQYXA5F5wv"
      }
    },
    {
      "cell_type": "markdown",
      "source": [
        "Generujemy dane z generatora liczby pseudolosowych z biblioteki Numpy."
      ],
      "metadata": {
        "id": "87vdVS57IEGm"
      }
    },
    {
      "cell_type": "markdown",
      "source": [
        "Punkty klasy pierwszej:\n",
        "\n",
        "współrzędne x-owe z rozkładu normlanego.\n",
        "\n"
      ],
      "metadata": {
        "id": "kLY9g0zGIStI"
      }
    },
    {
      "cell_type": "code",
      "source": [
        "x1 = np.random.normal(1, 1, 100)\n",
        "y1 = np.random.normal(1, 1, 100)\n",
        "\n",
        "x2 = np.random.normal(-1, 1, 100)\n",
        "y2 = np.random.normal(-1, 1, 100)"
      ],
      "metadata": {
        "id": "rmKIVnFHEYWQ"
      },
      "execution_count": null,
      "outputs": []
    },
    {
      "cell_type": "markdown",
      "source": [
        "Sto punktów wygenerowanych z rozkładu normalnego"
      ],
      "metadata": {
        "id": "C1iktoJgI9sU"
      }
    },
    {
      "cell_type": "code",
      "source": [
        "x1"
      ],
      "metadata": {
        "colab": {
          "base_uri": "https://localhost:8080/"
        },
        "id": "IoMljL4gI5sS",
        "outputId": "635ca0ce-6f27-448f-d744-913c2e19d114"
      },
      "execution_count": null,
      "outputs": [
        {
          "output_type": "execute_result",
          "data": {
            "text/plain": [
              "array([ 1.22461917,  1.54928614,  1.08674489,  1.45464026, -0.61501313,\n",
              "        1.28597354,  0.62537909,  1.2880019 ,  2.24320409,  0.14001402,\n",
              "        1.27400508,  1.2368641 ,  2.09123767,  0.49893831,  1.9607659 ,\n",
              "        1.67385364,  1.26710828,  0.49096786,  2.02863351,  1.79353323,\n",
              "        1.06978171,  1.11683168,  2.17986327,  1.66796411,  1.17247854,\n",
              "        2.35926159,  1.68070361,  1.47490717,  0.96394283,  0.36944031,\n",
              "        1.39952532,  0.45670577, -0.20220834, -0.05244388,  1.05668192,\n",
              "        1.95706201,  1.80783091,  0.48682981,  0.20674441,  0.62072667,\n",
              "        1.2207626 ,  2.55281814,  1.44750433,  0.78089575,  1.94358085,\n",
              "        0.37588883,  2.059347  ,  1.8917524 ,  1.32246331,  0.67259154,\n",
              "        0.24469738,  1.62256447,  0.47718296,  0.99784151,  0.95868001,\n",
              "        1.8023463 ,  2.85667362,  0.08456062,  1.47700097,  2.25184004,\n",
              "        0.58491534,  0.63900325,  0.79463846,  2.97580305, -0.18416878,\n",
              "        0.61917218,  0.01679195,  2.54857508,  1.74594288,  1.33290276,\n",
              "        2.12988809, -1.14254816,  0.8932615 ,  2.31690365,  0.38753592,\n",
              "        1.29676118,  1.63271492,  2.47300576,  1.56229108,  2.61842617,\n",
              "        0.48586414, -0.48751488, -0.64547571,  1.7028039 ,  2.51337607,\n",
              "        1.60340389,  0.43926136,  2.29907444, -0.25365782,  1.82509781,\n",
              "        0.70541844,  0.24217221, -0.96015052,  1.80193231,  3.21692006,\n",
              "       -1.80405139,  0.36395514,  2.13656498,  0.13136966, -0.44269252])"
            ]
          },
          "metadata": {},
          "execution_count": 22
        }
      ]
    },
    {
      "cell_type": "markdown",
      "source": [
        "Łącze wektory aby x1 i y1 oraz x2 i y2 mieć w jednej zmiennej."
      ],
      "metadata": {
        "id": "Muike2-pJEV6"
      }
    },
    {
      "cell_type": "markdown",
      "source": [
        "###**Łącze dwa wektory**"
      ],
      "metadata": {
        "id": "9FPhAVFoJ1Ug"
      }
    },
    {
      "cell_type": "code",
      "source": [
        "x = np.concatenate((x1, x2))\n",
        "y = np.concatenate((y1, y2))"
      ],
      "metadata": {
        "id": "pALJyLiEI6rM"
      },
      "execution_count": null,
      "outputs": []
    },
    {
      "cell_type": "markdown",
      "source": [
        "###**Generuje etkiety dla tych punktów**"
      ],
      "metadata": {
        "id": "TXQikZ0KKFP7"
      }
    },
    {
      "cell_type": "markdown",
      "source": [
        "Metoda *zeros()* generuje wektor zawierający same zera.\n",
        "\n",
        "Metoda *ones()* generuje wektor zawierający same jedynki."
      ],
      "metadata": {
        "id": "qCcSxaTbKQx0"
      }
    },
    {
      "cell_type": "code",
      "source": [
        "l1 = np.zeros(100)\n",
        "\n",
        "l2 = np.ones(100)\n",
        "\n",
        "l = np.concatenate((l1, l2))"
      ],
      "metadata": {
        "id": "DA5NiIjIKBvz"
      },
      "execution_count": null,
      "outputs": []
    },
    {
      "cell_type": "code",
      "source": [
        "x"
      ],
      "metadata": {
        "colab": {
          "base_uri": "https://localhost:8080/"
        },
        "id": "V7medovSKtyH",
        "outputId": "47b5b126-f7cf-4dc2-a88f-51fada10eba7"
      },
      "execution_count": null,
      "outputs": [
        {
          "output_type": "execute_result",
          "data": {
            "text/plain": [
              "array([ 1.22461917e+00,  1.54928614e+00,  1.08674489e+00,  1.45464026e+00,\n",
              "       -6.15013128e-01,  1.28597354e+00,  6.25379091e-01,  1.28800190e+00,\n",
              "        2.24320409e+00,  1.40014020e-01,  1.27400508e+00,  1.23686410e+00,\n",
              "        2.09123767e+00,  4.98938313e-01,  1.96076590e+00,  1.67385364e+00,\n",
              "        1.26710828e+00,  4.90967858e-01,  2.02863351e+00,  1.79353323e+00,\n",
              "        1.06978171e+00,  1.11683168e+00,  2.17986327e+00,  1.66796411e+00,\n",
              "        1.17247854e+00,  2.35926159e+00,  1.68070361e+00,  1.47490717e+00,\n",
              "        9.63942827e-01,  3.69440310e-01,  1.39952532e+00,  4.56705769e-01,\n",
              "       -2.02208339e-01, -5.24438802e-02,  1.05668192e+00,  1.95706201e+00,\n",
              "        1.80783091e+00,  4.86829808e-01,  2.06744414e-01,  6.20726674e-01,\n",
              "        1.22076260e+00,  2.55281814e+00,  1.44750433e+00,  7.80895751e-01,\n",
              "        1.94358085e+00,  3.75888832e-01,  2.05934700e+00,  1.89175240e+00,\n",
              "        1.32246331e+00,  6.72591539e-01,  2.44697383e-01,  1.62256447e+00,\n",
              "        4.77182959e-01,  9.97841509e-01,  9.58680011e-01,  1.80234630e+00,\n",
              "        2.85667362e+00,  8.45606194e-02,  1.47700097e+00,  2.25184004e+00,\n",
              "        5.84915343e-01,  6.39003254e-01,  7.94638456e-01,  2.97580305e+00,\n",
              "       -1.84168779e-01,  6.19172178e-01,  1.67919513e-02,  2.54857508e+00,\n",
              "        1.74594288e+00,  1.33290276e+00,  2.12988809e+00, -1.14254816e+00,\n",
              "        8.93261495e-01,  2.31690365e+00,  3.87535919e-01,  1.29676118e+00,\n",
              "        1.63271492e+00,  2.47300576e+00,  1.56229108e+00,  2.61842617e+00,\n",
              "        4.85864143e-01, -4.87514883e-01, -6.45475709e-01,  1.70280390e+00,\n",
              "        2.51337607e+00,  1.60340389e+00,  4.39261357e-01,  2.29907444e+00,\n",
              "       -2.53657823e-01,  1.82509781e+00,  7.05418442e-01,  2.42172213e-01,\n",
              "       -9.60150520e-01,  1.80193231e+00,  3.21692006e+00, -1.80405139e+00,\n",
              "        3.63955135e-01,  2.13656498e+00,  1.31369655e-01, -4.42692523e-01,\n",
              "       -2.20359040e+00, -5.07894592e-01, -1.38696601e+00, -5.54784546e-01,\n",
              "        3.98930919e-01, -1.18081933e+00, -1.17912681e-01,  5.11547040e-01,\n",
              "       -4.77127886e-02, -2.28400012e+00,  1.66618471e-01, -8.91206597e-02,\n",
              "       -1.32398015e+00, -2.28376840e+00,  1.58071040e-02, -1.88391459e+00,\n",
              "       -1.97959978e+00, -1.32454460e+00, -2.33378401e+00, -9.13989116e-01,\n",
              "        1.26138717e-01, -1.41054112e+00, -2.55762639e+00, -1.55799301e+00,\n",
              "       -2.99559051e-01, -8.66419382e-02,  1.46723444e+00,  1.43607447e+00,\n",
              "       -2.05283969e+00, -1.77352096e+00, -1.51256394e+00, -3.74316366e+00,\n",
              "       -2.80230900e+00, -1.22143265e+00, -2.16085969e+00,  2.43342610e+00,\n",
              "       -1.51139857e+00, -4.82059093e-01, -3.70068627e-01, -1.61242645e+00,\n",
              "       -1.97701279e-02, -1.61472143e-01, -5.22824486e-01,  8.43906057e-01,\n",
              "        2.00565994e+00, -9.31661351e-01,  2.84943163e-01, -9.14533810e-01,\n",
              "        5.64318456e-01, -2.12165793e+00,  8.69900143e-02, -1.45765682e+00,\n",
              "       -4.12118539e-01, -1.21193544e+00, -1.53273478e-01, -6.56514731e-01,\n",
              "       -1.63231073e+00, -3.95561794e-01, -1.87165406e+00, -2.44635922e+00,\n",
              "       -1.70714585e+00,  1.53094777e-01, -2.00218075e+00, -4.57997491e-01,\n",
              "       -9.84406202e-01, -1.77865924e+00, -1.82238214e+00, -2.00103210e+00,\n",
              "       -8.40075701e-01, -1.08374772e+00,  3.27525393e-02, -1.26022184e+00,\n",
              "       -1.45795114e+00, -1.29406336e+00, -6.13271129e-01,  1.08470979e+00,\n",
              "       -9.87331348e-01,  5.62303375e-03, -1.63821626e+00,  8.86174579e-02,\n",
              "       -9.63917809e-01, -3.25665469e+00, -5.90078464e-01, -1.57134502e-01,\n",
              "       -1.19946386e-01,  3.18933663e-03, -1.16744981e+00, -2.37491940e+00,\n",
              "       -2.38623393e+00,  1.59797560e+00, -3.26918758e+00, -7.56604679e-01,\n",
              "       -1.83052107e+00, -1.71808137e+00, -2.27136166e+00, -1.57549663e+00,\n",
              "       -2.94516375e+00, -3.32974396e+00, -5.86785152e-01, -2.42389409e+00])"
            ]
          },
          "metadata": {},
          "execution_count": 25
        }
      ]
    },
    {
      "cell_type": "code",
      "source": [
        "l"
      ],
      "metadata": {
        "colab": {
          "base_uri": "https://localhost:8080/"
        },
        "id": "ZwvbIcKNKvxB",
        "outputId": "95fa822a-040e-45c3-e56b-81d9f70b6233"
      },
      "execution_count": null,
      "outputs": [
        {
          "output_type": "execute_result",
          "data": {
            "text/plain": [
              "array([0., 0., 0., 0., 0., 0., 0., 0., 0., 0., 0., 0., 0., 0., 0., 0., 0.,\n",
              "       0., 0., 0., 0., 0., 0., 0., 0., 0., 0., 0., 0., 0., 0., 0., 0., 0.,\n",
              "       0., 0., 0., 0., 0., 0., 0., 0., 0., 0., 0., 0., 0., 0., 0., 0., 0.,\n",
              "       0., 0., 0., 0., 0., 0., 0., 0., 0., 0., 0., 0., 0., 0., 0., 0., 0.,\n",
              "       0., 0., 0., 0., 0., 0., 0., 0., 0., 0., 0., 0., 0., 0., 0., 0., 0.,\n",
              "       0., 0., 0., 0., 0., 0., 0., 0., 0., 0., 0., 0., 0., 0., 0., 1., 1.,\n",
              "       1., 1., 1., 1., 1., 1., 1., 1., 1., 1., 1., 1., 1., 1., 1., 1., 1.,\n",
              "       1., 1., 1., 1., 1., 1., 1., 1., 1., 1., 1., 1., 1., 1., 1., 1., 1.,\n",
              "       1., 1., 1., 1., 1., 1., 1., 1., 1., 1., 1., 1., 1., 1., 1., 1., 1.,\n",
              "       1., 1., 1., 1., 1., 1., 1., 1., 1., 1., 1., 1., 1., 1., 1., 1., 1.,\n",
              "       1., 1., 1., 1., 1., 1., 1., 1., 1., 1., 1., 1., 1., 1., 1., 1., 1.,\n",
              "       1., 1., 1., 1., 1., 1., 1., 1., 1., 1., 1., 1., 1.])"
            ]
          },
          "metadata": {},
          "execution_count": 26
        }
      ]
    },
    {
      "cell_type": "markdown",
      "source": [
        "###**Wyrysujmy te punkty**"
      ],
      "metadata": {
        "id": "KSw8Hd5SK51A"
      }
    },
    {
      "cell_type": "markdown",
      "source": [
        "Paleta kolorów: https://xkcd.com/color/rgb/"
      ],
      "metadata": {
        "id": "4Mvf6m4sLZ5f"
      }
    },
    {
      "cell_type": "code",
      "source": [
        "plt.figure(figsize=(7,7))\n",
        "plt.scatter(x1, y1, color=\"xkcd:golden yellow\")\n",
        "plt.scatter(x2, y2, color=\"xkcd:indigo\")"
      ],
      "metadata": {
        "colab": {
          "base_uri": "https://localhost:8080/",
          "height": 617
        },
        "id": "dfiPJR1_KzkV",
        "outputId": "393a5522-639b-44bb-85f1-ba8edb4c19f8"
      },
      "execution_count": null,
      "outputs": [
        {
          "output_type": "execute_result",
          "data": {
            "text/plain": [
              "<matplotlib.collections.PathCollection at 0x7d2b89ae6410>"
            ]
          },
          "metadata": {},
          "execution_count": 28
        },
        {
          "output_type": "display_data",
          "data": {
            "text/plain": [
              "<Figure size 700x700 with 1 Axes>"
            ],
            "image/png": "[encoded data removed]"
          },
          "metadata": {}
        }
      ]
    },
    {
      "cell_type": "markdown",
      "source": [
        "Chcemy zbudować model, który pozwoli nam okreslić jak przydzielić nowe punkty, ktore ewentualnie na wejściu do takiego modelu by się pojawiły.  "
      ],
      "metadata": {
        "id": "Ca0PyzR-MCBg"
      }
    },
    {
      "cell_type": "markdown",
      "source": [
        "Skorzystamy z **naiwnego klasyfikatora bayesowskiego**.\n",
        "\n",
        "Jako, że mamy do czynienia z próbką z rozkładu normalnego, skorzystamy z klasyfikatora w oparciu o rozkład normalny."
      ],
      "metadata": {
        "id": "nEwMLHysMSkm"
      }
    },
    {
      "cell_type": "code",
      "source": [
        "!pip install scikit-learn\n",
        "from sklearn.naive_bayes import GaussianNB"
      ],
      "metadata": {
        "colab": {
          "base_uri": "https://localhost:8080/"
        },
        "id": "6Vvw_KegLw1q",
        "outputId": "b0557034-0843-4c74-b8ce-f4f9b381acf8"
      },
      "execution_count": null,
      "outputs": [
        {
          "output_type": "stream",
          "name": "stdout",
          "text": [
            "Requirement already satisfied: scikit-learn in /usr/local/lib/python3.10/dist-packages (1.6.0)\n",
            "Requirement already satisfied: numpy>=1.19.5 in /usr/local/lib/python3.10/dist-packages (from scikit-learn) (1.26.4)\n",
            "Requirement already satisfied: scipy>=1.6.0 in /usr/local/lib/python3.10/dist-packages (from scikit-learn) (1.13.1)\n",
            "Requirement already satisfied: joblib>=1.2.0 in /usr/local/lib/python3.10/dist-packages (from scikit-learn) (1.4.2)\n",
            "Requirement already satisfied: threadpoolctl>=3.1.0 in /usr/local/lib/python3.10/dist-packages (from scikit-learn) (3.5.0)\n"
          ]
        }
      ]
    },
    {
      "cell_type": "markdown",
      "source": [
        "###**Tworzę obiekt tej klasy**"
      ],
      "metadata": {
        "id": "UlYFPk2nNOrU"
      }
    },
    {
      "cell_type": "code",
      "source": [
        "model = GaussianNB()"
      ],
      "metadata": {
        "id": "BmqiJ_bjM_eY"
      },
      "execution_count": null,
      "outputs": []
    },
    {
      "cell_type": "markdown",
      "source": [
        "###**Trenujemy model** - metoda *fit()*"
      ],
      "metadata": {
        "id": "95NerH9nNXqH"
      }
    },
    {
      "cell_type": "markdown",
      "source": [
        "W tym celu skorzystamy z generatora *zip()*, który zwróci pary wartości x i y."
      ],
      "metadata": {
        "id": "xmLoygjMNrxF"
      }
    },
    {
      "cell_type": "code",
      "source": [
        "model.fit(list(zip(x, y)), l)"
      ],
      "metadata": {
        "colab": {
          "base_uri": "https://localhost:8080/",
          "height": 80
        },
        "id": "8HWWWcB_NTgX",
        "outputId": "f7335f4d-325a-4c86-b2ea-0badb9c9d998"
      },
      "execution_count": null,
      "outputs": [
        {
          "output_type": "execute_result",
          "data": {
            "text/plain": [
              "GaussianNB()"
            ],
            "text/html": [
              "<style>#sk-container-id-2 {\n",
              "  /* Definition of color scheme common for light and dark mode */\n",
              "  --sklearn-color-text: #000;\n",
              "  --sklearn-color-text-muted: #666;\n",
              "  --sklearn-color-line: gray;\n",
              "  /* Definition of color scheme for unfitted estimators */\n",
              "  --sklearn-color-unfitted-level-0: #fff5e6;\n",
              "  --sklearn-color-unfitted-level-1: #f6e4d2;\n",
              "  --sklearn-color-unfitted-level-2: #ffe0b3;\n",
              "  --sklearn-color-unfitted-level-3: chocolate;\n",
              "  /* Definition of color scheme for fitted estimators */\n",
              "  --sklearn-color-fitted-level-0: #f0f8ff;\n",
              "  --sklearn-color-fitted-level-1: #d4ebff;\n",
              "  --sklearn-color-fitted-level-2: #b3dbfd;\n",
              "  --sklearn-color-fitted-level-3: cornflowerblue;\n",
              "\n",
              "  /* Specific color for light theme */\n",
              "  --sklearn-color-text-on-default-background: var(--sg-text-color, var(--theme-code-foreground, var(--jp-content-font-color1, black)));\n",
              "  --sklearn-color-background: var(--sg-background-color, var(--theme-background, var(--jp-layout-color0, white)));\n",
              "  --sklearn-color-border-box: var(--sg-text-color, var(--theme-code-foreground, var(--jp-content-font-color1, black)));\n",
              "  --sklearn-color-icon: #696969;\n",
              "\n",
              "  @media (prefers-color-scheme: dark) {\n",
              "    /* Redefinition of color scheme for dark theme */\n",
              "    --sklearn-color-text-on-default-background: var(--sg-text-color, var(--theme-code-foreground, var(--jp-content-font-color1, white)));\n",
              "    --sklearn-color-background: var(--sg-background-color, var(--theme-background, var(--jp-layout-color0, #111)));\n",
              "    --sklearn-color-border-box: var(--sg-text-color, var(--theme-code-foreground, var(--jp-content-font-color1, white)));\n",
              "    --sklearn-color-icon: #878787;\n",
              "  }\n",
              "}\n",
              "\n",
              "#sk-container-id-2 {\n",
              "  color: var(--sklearn-color-text);\n",
              "}\n",
              "\n",
              "#sk-container-id-2 pre {\n",
              "  padding: 0;\n",
              "}\n",
              "\n",
              "#sk-container-id-2 input.sk-hidden--visually {\n",
              "  border: 0;\n",
              "  clip: rect(1px 1px 1px 1px);\n",
              "  clip: rect(1px, 1px, 1px, 1px);\n",
              "  height: 1px;\n",
              "  margin: -1px;\n",
              "  overflow: hidden;\n",
              "  padding: 0;\n",
              "  position: absolute;\n",
              "  width: 1px;\n",
              "}\n",
              "\n",
              "#sk-container-id-2 div.sk-dashed-wrapped {\n",
              "  border: 1px dashed var(--sklearn-color-line);\n",
              "  margin: 0 0.4em 0.5em 0.4em;\n",
              "  box-sizing: border-box;\n",
              "  padding-bottom: 0.4em;\n",
              "  background-color: var(--sklearn-color-background);\n",
              "}\n",
              "\n",
              "#sk-container-id-2 div.sk-container {\n",
              "  /* jupyter's `normalize.less` sets `[hidden] { display: none; }`\n",
              "     but bootstrap.min.css set `[hidden] { display: none !important; }`\n",
              "     so we also need the `!important` here to be able to override the\n",
              "     default hidden behavior on the sphinx rendered scikit-learn.org.\n",
              "     See: https://github.com/scikit-learn/scikit-learn/issues/21755 */\n",
              "  display: inline-block !important;\n",
              "  position: relative;\n",
              "}\n",
              "\n",
              "#sk-container-id-2 div.sk-text-repr-fallback {\n",
              "  display: none;\n",
              "}\n",
              "\n",
              "div.sk-parallel-item,\n",
              "div.sk-serial,\n",
              "div.sk-item {\n",
              "  /* draw centered vertical line to link estimators */\n",
              "  background-image: linear-gradient(var(--sklearn-color-text-on-default-background), var(--sklearn-color-text-on-default-background));\n",
              "  background-size: 2px 100%;\n",
              "  background-repeat: no-repeat;\n",
              "  background-position: center center;\n",
              "}\n",
              "\n",
              "/* Parallel-specific style estimator block */\n",
              "\n",
              "#sk-container-id-2 div.sk-parallel-item::after {\n",
              "  content: \"\";\n",
              "  width: 100%;\n",
              "  border-bottom: 2px solid var(--sklearn-color-text-on-default-background);\n",
              "  flex-grow: 1;\n",
              "}\n",
              "\n",
              "#sk-container-id-2 div.sk-parallel {\n",
              "  display: flex;\n",
              "  align-items: stretch;\n",
              "  justify-content: center;\n",
              "  background-color: var(--sklearn-color-background);\n",
              "  position: relative;\n",
              "}\n",
              "\n",
              "#sk-container-id-2 div.sk-parallel-item {\n",
              "  display: flex;\n",
              "  flex-direction: column;\n",
              "}\n",
              "\n",
              "#sk-container-id-2 div.sk-parallel-item:first-child::after {\n",
              "  align-self: flex-end;\n",
              "  width: 50%;\n",
              "}\n",
              "\n",
              "#sk-container-id-2 div.sk-parallel-item:last-child::after {\n",
              "  align-self: flex-start;\n",
              "  width: 50%;\n",
              "}\n",
              "\n",
              "#sk-container-id-2 div.sk-parallel-item:only-child::after {\n",
              "  width: 0;\n",
              "}\n",
              "\n",
              "/* Serial-specific style estimator block */\n",
              "\n",
              "#sk-container-id-2 div.sk-serial {\n",
              "  display: flex;\n",
              "  flex-direction: column;\n",
              "  align-items: center;\n",
              "  background-color: var(--sklearn-color-background);\n",
              "  padding-right: 1em;\n",
              "  padding-left: 1em;\n",
              "}\n",
              "\n",
              "\n",
              "/* Toggleable style: style used for estimator/Pipeline/ColumnTransformer box that is\n",
              "clickable and can be expanded/collapsed.\n",
              "- Pipeline and ColumnTransformer use this feature and define the default style\n",
              "- Estimators will overwrite some part of the style using the `sk-estimator` class\n",
              "*/\n",
              "\n",
              "/* Pipeline and ColumnTransformer style (default) */\n",
              "\n",
              "#sk-container-id-2 div.sk-toggleable {\n",
              "  /* Default theme specific background. It is overwritten whether we have a\n",
              "  specific estimator or a Pipeline/ColumnTransformer */\n",
              "  background-color: var(--sklearn-color-background);\n",
              "}\n",
              "\n",
              "/* Toggleable label */\n",
              "#sk-container-id-2 label.sk-toggleable__label {\n",
              "  cursor: pointer;\n",
              "  display: flex;\n",
              "  width: 100%;\n",
              "  margin-bottom: 0;\n",
              "  padding: 0.5em;\n",
              "  box-sizing: border-box;\n",
              "  text-align: center;\n",
              "  align-items: start;\n",
              "  justify-content: space-between;\n",
              "  gap: 0.5em;\n",
              "}\n",
              "\n",
              "#sk-container-id-2 label.sk-toggleable__label .caption {\n",
              "  font-size: 0.6rem;\n",
              "  font-weight: lighter;\n",
              "  color: var(--sklearn-color-text-muted);\n",
              "}\n",
              "\n",
              "#sk-container-id-2 label.sk-toggleable__label-arrow:before {\n",
              "  /* Arrow on the left of the label */\n",
              "  content: \"▸\";\n",
              "  float: left;\n",
              "  margin-right: 0.25em;\n",
              "  color: var(--sklearn-color-icon);\n",
              "}\n",
              "\n",
              "#sk-container-id-2 label.sk-toggleable__label-arrow:hover:before {\n",
              "  color: var(--sklearn-color-text);\n",
              "}\n",
              "\n",
              "/* Toggleable content - dropdown */\n",
              "\n",
              "#sk-container-id-2 div.sk-toggleable__content {\n",
              "  max-height: 0;\n",
              "  max-width: 0;\n",
              "  overflow: hidden;\n",
              "  text-align: left;\n",
              "  /* unfitted */\n",
              "  background-color: var(--sklearn-color-unfitted-level-0);\n",
              "}\n",
              "\n",
              "#sk-container-id-2 div.sk-toggleable__content.fitted {\n",
              "  /* fitted */\n",
              "  background-color: var(--sklearn-color-fitted-level-0);\n",
              "}\n",
              "\n",
              "#sk-container-id-2 div.sk-toggleable__content pre {\n",
              "  margin: 0.2em;\n",
              "  border-radius: 0.25em;\n",
              "  color: var(--sklearn-color-text);\n",
              "  /* unfitted */\n",
              "  background-color: var(--sklearn-color-unfitted-level-0);\n",
              "}\n",
              "\n",
              "#sk-container-id-2 div.sk-toggleable__content.fitted pre {\n",
              "  /* unfitted */\n",
              "  background-color: var(--sklearn-color-fitted-level-0);\n",
              "}\n",
              "\n",
              "#sk-container-id-2 input.sk-toggleable__control:checked~div.sk-toggleable__content {\n",
              "  /* Expand drop-down */\n",
              "  max-height: 200px;\n",
              "  max-width: 100%;\n",
              "  overflow: auto;\n",
              "}\n",
              "\n",
              "#sk-container-id-2 input.sk-toggleable__control:checked~label.sk-toggleable__label-arrow:before {\n",
              "  content: \"▾\";\n",
              "}\n",
              "\n",
              "/* Pipeline/ColumnTransformer-specific style */\n",
              "\n",
              "#sk-container-id-2 div.sk-label input.sk-toggleable__control:checked~label.sk-toggleable__label {\n",
              "  color: var(--sklearn-color-text);\n",
              "  background-color: var(--sklearn-color-unfitted-level-2);\n",
              "}\n",
              "\n",
              "#sk-container-id-2 div.sk-label.fitted input.sk-toggleable__control:checked~label.sk-toggleable__label {\n",
              "  background-color: var(--sklearn-color-fitted-level-2);\n",
              "}\n",
              "\n",
              "/* Estimator-specific style */\n",
              "\n",
              "/* Colorize estimator box */\n",
              "#sk-container-id-2 div.sk-estimator input.sk-toggleable__control:checked~label.sk-toggleable__label {\n",
              "  /* unfitted */\n",
              "  background-color: var(--sklearn-color-unfitted-level-2);\n",
              "}\n",
              "\n",
              "#sk-container-id-2 div.sk-estimator.fitted input.sk-toggleable__control:checked~label.sk-toggleable__label {\n",
              "  /* fitted */\n",
              "  background-color: var(--sklearn-color-fitted-level-2);\n",
              "}\n",
              "\n",
              "#sk-container-id-2 div.sk-label label.sk-toggleable__label,\n",
              "#sk-container-id-2 div.sk-label label {\n",
              "  /* The background is the default theme color */\n",
              "  color: var(--sklearn-color-text-on-default-background);\n",
              "}\n",
              "\n",
              "/* On hover, darken the color of the background */\n",
              "#sk-container-id-2 div.sk-label:hover label.sk-toggleable__label {\n",
              "  color: var(--sklearn-color-text);\n",
              "  background-color: var(--sklearn-color-unfitted-level-2);\n",
              "}\n",
              "\n",
              "/* Label box, darken color on hover, fitted */\n",
              "#sk-container-id-2 div.sk-label.fitted:hover label.sk-toggleable__label.fitted {\n",
              "  color: var(--sklearn-color-text);\n",
              "  background-color: var(--sklearn-color-fitted-level-2);\n",
              "}\n",
              "\n",
              "/* Estimator label */\n",
              "\n",
              "#sk-container-id-2 div.sk-label label {\n",
              "  font-family: monospace;\n",
              "  font-weight: bold;\n",
              "  display: inline-block;\n",
              "  line-height: 1.2em;\n",
              "}\n",
              "\n",
              "#sk-container-id-2 div.sk-label-container {\n",
              "  text-align: center;\n",
              "}\n",
              "\n",
              "/* Estimator-specific */\n",
              "#sk-container-id-2 div.sk-estimator {\n",
              "  font-family: monospace;\n",
              "  border: 1px dotted var(--sklearn-color-border-box);\n",
              "  border-radius: 0.25em;\n",
              "  box-sizing: border-box;\n",
              "  margin-bottom: 0.5em;\n",
              "  /* unfitted */\n",
              "  background-color: var(--sklearn-color-unfitted-level-0);\n",
              "}\n",
              "\n",
              "#sk-container-id-2 div.sk-estimator.fitted {\n",
              "  /* fitted */\n",
              "  background-color: var(--sklearn-color-fitted-level-0);\n",
              "}\n",
              "\n",
              "/* on hover */\n",
              "#sk-container-id-2 div.sk-estimator:hover {\n",
              "  /* unfitted */\n",
              "  background-color: var(--sklearn-color-unfitted-level-2);\n",
              "}\n",
              "\n",
              "#sk-container-id-2 div.sk-estimator.fitted:hover {\n",
              "  /* fitted */\n",
              "  background-color: var(--sklearn-color-fitted-level-2);\n",
              "}\n",
              "\n",
              "/* Specification for estimator info (e.g. \"i\" and \"?\") */\n",
              "\n",
              "/* Common style for \"i\" and \"?\" */\n",
              "\n",
              ".sk-estimator-doc-link,\n",
              "a:link.sk-estimator-doc-link,\n",
              "a:visited.sk-estimator-doc-link {\n",
              "  float: right;\n",
              "  font-size: smaller;\n",
              "  line-height: 1em;\n",
              "  font-family: monospace;\n",
              "  background-color: var(--sklearn-color-background);\n",
              "  border-radius: 1em;\n",
              "  height: 1em;\n",
              "  width: 1em;\n",
              "  text-decoration: none !important;\n",
              "  margin-left: 0.5em;\n",
              "  text-align: center;\n",
              "  /* unfitted */\n",
              "  border: var(--sklearn-color-unfitted-level-1) 1pt solid;\n",
              "  color: var(--sklearn-color-unfitted-level-1);\n",
              "}\n",
              "\n",
              ".sk-estimator-doc-link.fitted,\n",
              "a:link.sk-estimator-doc-link.fitted,\n",
              "a:visited.sk-estimator-doc-link.fitted {\n",
              "  /* fitted */\n",
              "  border: var(--sklearn-color-fitted-level-1) 1pt solid;\n",
              "  color: var(--sklearn-color-fitted-level-1);\n",
              "}\n",
              "\n",
              "/* On hover */\n",
              "div.sk-estimator:hover .sk-estimator-doc-link:hover,\n",
              ".sk-estimator-doc-link:hover,\n",
              "div.sk-label-container:hover .sk-estimator-doc-link:hover,\n",
              ".sk-estimator-doc-link:hover {\n",
              "  /* unfitted */\n",
              "  background-color: var(--sklearn-color-unfitted-level-3);\n",
              "  color: var(--sklearn-color-background);\n",
              "  text-decoration: none;\n",
              "}\n",
              "\n",
              "div.sk-estimator.fitted:hover .sk-estimator-doc-link.fitted:hover,\n",
              ".sk-estimator-doc-link.fitted:hover,\n",
              "div.sk-label-container:hover .sk-estimator-doc-link.fitted:hover,\n",
              ".sk-estimator-doc-link.fitted:hover {\n",
              "  /* fitted */\n",
              "  background-color: var(--sklearn-color-fitted-level-3);\n",
              "  color: var(--sklearn-color-background);\n",
              "  text-decoration: none;\n",
              "}\n",
              "\n",
              "/* Span, style for the box shown on hovering the info icon */\n",
              ".sk-estimator-doc-link span {\n",
              "  display: none;\n",
              "  z-index: 9999;\n",
              "  position: relative;\n",
              "  font-weight: normal;\n",
              "  right: .2ex;\n",
              "  padding: .5ex;\n",
              "  margin: .5ex;\n",
              "  width: min-content;\n",
              "  min-width: 20ex;\n",
              "  max-width: 50ex;\n",
              "  color: var(--sklearn-color-text);\n",
              "  box-shadow: 2pt 2pt 4pt #999;\n",
              "  /* unfitted */\n",
              "  background: var(--sklearn-color-unfitted-level-0);\n",
              "  border: .5pt solid var(--sklearn-color-unfitted-level-3);\n",
              "}\n",
              "\n",
              ".sk-estimator-doc-link.fitted span {\n",
              "  /* fitted */\n",
              "  background: var(--sklearn-color-fitted-level-0);\n",
              "  border: var(--sklearn-color-fitted-level-3);\n",
              "}\n",
              "\n",
              ".sk-estimator-doc-link:hover span {\n",
              "  display: block;\n",
              "}\n",
              "\n",
              "/* \"?\"-specific style due to the `<a>` HTML tag */\n",
              "\n",
              "#sk-container-id-2 a.estimator_doc_link {\n",
              "  float: right;\n",
              "  font-size: 1rem;\n",
              "  line-height: 1em;\n",
              "  font-family: monospace;\n",
              "  background-color: var(--sklearn-color-background);\n",
              "  border-radius: 1rem;\n",
              "  height: 1rem;\n",
              "  width: 1rem;\n",
              "  text-decoration: none;\n",
              "  /* unfitted */\n",
              "  color: var(--sklearn-color-unfitted-level-1);\n",
              "  border: var(--sklearn-color-unfitted-level-1) 1pt solid;\n",
              "}\n",
              "\n",
              "#sk-container-id-2 a.estimator_doc_link.fitted {\n",
              "  /* fitted */\n",
              "  border: var(--sklearn-color-fitted-level-1) 1pt solid;\n",
              "  color: var(--sklearn-color-fitted-level-1);\n",
              "}\n",
              "\n",
              "/* On hover */\n",
              "#sk-container-id-2 a.estimator_doc_link:hover {\n",
              "  /* unfitted */\n",
              "  background-color: var(--sklearn-color-unfitted-level-3);\n",
              "  color: var(--sklearn-color-background);\n",
              "  text-decoration: none;\n",
              "}\n",
              "\n",
              "#sk-container-id-2 a.estimator_doc_link.fitted:hover {\n",
              "  /* fitted */\n",
              "  background-color: var(--sklearn-color-fitted-level-3);\n",
              "}\n",
              "</style><div id=\"sk-container-id-2\" class=\"sk-top-container\"><div class=\"sk-text-repr-fallback\"><pre>GaussianNB()</pre><b>In a Jupyter environment, please rerun this cell to show the HTML representation or trust the notebook. <br />On GitHub, the HTML representation is unable to render, please try loading this page with nbviewer.org.</b></div><div class=\"sk-container\" hidden><div class=\"sk-item\"><div class=\"sk-estimator fitted sk-toggleable\"><input class=\"sk-toggleable__control sk-hidden--visually\" id=\"sk-estimator-id-2\" type=\"checkbox\" checked><label for=\"sk-estimator-id-2\" class=\"sk-toggleable__label fitted sk-toggleable__label-arrow\"><div><div>GaussianNB</div></div><div><a class=\"sk-estimator-doc-link fitted\" rel=\"noreferrer\" target=\"_blank\" href=\"https://scikit-learn.org/1.6/modules/generated/sklearn.naive_bayes.GaussianNB.html\">?<span>Documentation for GaussianNB</span></a><span class=\"sk-estimator-doc-link fitted\">i<span>Fitted</span></span></div></label><div class=\"sk-toggleable__content fitted\"><pre>GaussianNB()</pre></div> </div></div></div></div>"
            ]
          },
          "metadata": {},
          "execution_count": 33
        }
      ]
    },
    {
      "cell_type": "markdown",
      "source": [
        "Współczynnikiem, który jest obliczany przez *metodę score* jest dokładność (**accuracy**).\n",
        "\n",
        "**Accuracy** - stosunek procentowy obiektów, które zostały poprawnie sklasyfikowane względem obiektów, które zostały sklasyfikowane niepoprawnie."
      ],
      "metadata": {
        "id": "QkTwXRh9OCVs"
      }
    },
    {
      "cell_type": "markdown",
      "source": [
        "Podobnie jak w poprzednim przykładzie (niepoprawnie ze sztuką) - obliczymy dopasowanie modelu do danych użyję danych uczących.\n",
        "\n",
        "Powinniśmy użyć danych testowych, niezależnych od danych testowych."
      ],
      "metadata": {
        "id": "cFfCR1JpOcGh"
      }
    },
    {
      "cell_type": "code",
      "source": [
        "model.score(list(zip(x, y)), l)"
      ],
      "metadata": {
        "colab": {
          "base_uri": "https://localhost:8080/"
        },
        "id": "C-XbxEIGN976",
        "outputId": "3877fa19-d9f2-4d63-ae91-d4952ad43d6a"
      },
      "execution_count": null,
      "outputs": [
        {
          "output_type": "execute_result",
          "data": {
            "text/plain": [
              "0.915"
            ]
          },
          "metadata": {},
          "execution_count": 34
        }
      ]
    },
    {
      "cell_type": "markdown",
      "source": [
        "###**Rysujemy wykres**"
      ],
      "metadata": {
        "id": "H4nGwa04PH9P"
      }
    },
    {
      "cell_type": "markdown",
      "source": [
        "Wskażemy gdzie są te obszary przydzielone do kategorii żółtych i gdzie są te obszary przydzielone do kategorii niebieskich."
      ],
      "metadata": {
        "id": "gJvmZjqkPN5e"
      }
    },
    {
      "cell_type": "markdown",
      "source": [
        "Wygenerujemy punkty na gęstej siatce pokywającej prostokąt objęty obszarem wykresu."
      ],
      "metadata": {
        "id": "NpJv14VNPcXo"
      }
    },
    {
      "cell_type": "markdown",
      "source": [
        "###**Generuje punkty siatki.**"
      ],
      "metadata": {
        "id": "LbrwQ6VgPnSM"
      }
    },
    {
      "cell_type": "markdown",
      "source": [
        "Aby wygenerować punkty siatki korzystamy z metody *meshgrid()*.\n",
        "\n",
        "Funkjca ta przyjmuje jako dane wejściowe pewną strukturę.\n",
        "\n",
        "Może to być lista czy też macierz.\n",
        "\n"
      ],
      "metadata": {
        "id": "5LTI0KaOP1rJ"
      }
    },
    {
      "cell_type": "code",
      "source": [
        "# (new_x, new_y) = np.meshgrid([0, 1, 2, 3],  [0, 2, 4])"
      ],
      "metadata": {
        "colab": {
          "base_uri": "https://localhost:8080/"
        },
        "id": "CJgY6YBSPA83",
        "outputId": "a9fc9c3c-edea-40b6-cca8-9186cf70ad85"
      },
      "execution_count": null,
      "outputs": [
        {
          "output_type": "execute_result",
          "data": {
            "text/plain": [
              "[array([[0, 1, 2, 3],\n",
              "        [0, 1, 2, 3],\n",
              "        [0, 1, 2, 3]]),\n",
              " array([[0, 0, 0, 0],\n",
              "        [2, 2, 2, 2],\n",
              "        [4, 4, 4, 4]])]"
            ]
          },
          "metadata": {},
          "execution_count": 35
        }
      ]
    },
    {
      "cell_type": "markdown",
      "source": [
        "Na wyjściu otrzymujemy macierz, która można zastosować do wygenrowania par punktów, które sa punktami umieszczonymi na siatce.\n",
        "\n",
        "Kombinacje paratrów z list: 00, 10, 20, 30, 02, 12, 22, 32 itd.\n",
        "\n"
      ],
      "metadata": {
        "id": "S-Cg4zhSQTfk"
      }
    },
    {
      "cell_type": "code",
      "source": [
        "(new_x, new_y) = np.meshgrid(np.array(range(-100,100)) / 20, np.array(np.arange(-100,100)) / 20)"
      ],
      "metadata": {
        "id": "k8n9yV03SH0J"
      },
      "execution_count": null,
      "outputs": []
    },
    {
      "cell_type": "code",
      "source": [
        "new_x[1:5]"
      ],
      "metadata": {
        "colab": {
          "base_uri": "https://localhost:8080/"
        },
        "id": "g0YGHVt0R08r",
        "outputId": "a7ba32e3-b4a8-4b32-dc2d-1d0197e8582f"
      },
      "execution_count": null,
      "outputs": [
        {
          "output_type": "execute_result",
          "data": {
            "text/plain": [
              "array([[-5.  , -4.95, -4.9 , -4.85, -4.8 , -4.75, -4.7 , -4.65, -4.6 ,\n",
              "        -4.55, -4.5 , -4.45, -4.4 , -4.35, -4.3 , -4.25, -4.2 , -4.15,\n",
              "        -4.1 , -4.05, -4.  , -3.95, -3.9 , -3.85, -3.8 , -3.75, -3.7 ,\n",
              "        -3.65, -3.6 , -3.55, -3.5 , -3.45, -3.4 , -3.35, -3.3 , -3.25,\n",
              "        -3.2 , -3.15, -3.1 , -3.05, -3.  , -2.95, -2.9 , -2.85, -2.8 ,\n",
              "        -2.75, -2.7 , -2.65, -2.6 , -2.55, -2.5 , -2.45, -2.4 , -2.35,\n",
              "        -2.3 , -2.25, -2.2 , -2.15, -2.1 , -2.05, -2.  , -1.95, -1.9 ,\n",
              "        -1.85, -1.8 , -1.75, -1.7 , -1.65, -1.6 , -1.55, -1.5 , -1.45,\n",
              "        -1.4 , -1.35, -1.3 , -1.25, -1.2 , -1.15, -1.1 , -1.05, -1.  ,\n",
              "        -0.95, -0.9 , -0.85, -0.8 , -0.75, -0.7 , -0.65, -0.6 , -0.55,\n",
              "        -0.5 , -0.45, -0.4 , -0.35, -0.3 , -0.25, -0.2 , -0.15, -0.1 ,\n",
              "        -0.05,  0.  ,  0.05,  0.1 ,  0.15,  0.2 ,  0.25,  0.3 ,  0.35,\n",
              "         0.4 ,  0.45,  0.5 ,  0.55,  0.6 ,  0.65,  0.7 ,  0.75,  0.8 ,\n",
              "         0.85,  0.9 ,  0.95,  1.  ,  1.05,  1.1 ,  1.15,  1.2 ,  1.25,\n",
              "         1.3 ,  1.35,  1.4 ,  1.45,  1.5 ,  1.55,  1.6 ,  1.65,  1.7 ,\n",
              "         1.75,  1.8 ,  1.85,  1.9 ,  1.95,  2.  ,  2.05,  2.1 ,  2.15,\n",
              "         2.2 ,  2.25,  2.3 ,  2.35,  2.4 ,  2.45,  2.5 ,  2.55,  2.6 ,\n",
              "         2.65,  2.7 ,  2.75,  2.8 ,  2.85,  2.9 ,  2.95,  3.  ,  3.05,\n",
              "         3.1 ,  3.15,  3.2 ,  3.25,  3.3 ,  3.35,  3.4 ,  3.45,  3.5 ,\n",
              "         3.55,  3.6 ,  3.65,  3.7 ,  3.75,  3.8 ,  3.85,  3.9 ,  3.95,\n",
              "         4.  ,  4.05,  4.1 ,  4.15,  4.2 ,  4.25,  4.3 ,  4.35,  4.4 ,\n",
              "         4.45,  4.5 ,  4.55,  4.6 ,  4.65,  4.7 ,  4.75,  4.8 ,  4.85,\n",
              "         4.9 ,  4.95],\n",
              "       [-5.  , -4.95, -4.9 , -4.85, -4.8 , -4.75, -4.7 , -4.65, -4.6 ,\n",
              "        -4.55, -4.5 , -4.45, -4.4 , -4.35, -4.3 , -4.25, -4.2 , -4.15,\n",
              "        -4.1 , -4.05, -4.  , -3.95, -3.9 , -3.85, -3.8 , -3.75, -3.7 ,\n",
              "        -3.65, -3.6 , -3.55, -3.5 , -3.45, -3.4 , -3.35, -3.3 , -3.25,\n",
              "        -3.2 , -3.15, -3.1 , -3.05, -3.  , -2.95, -2.9 , -2.85, -2.8 ,\n",
              "        -2.75, -2.7 , -2.65, -2.6 , -2.55, -2.5 , -2.45, -2.4 , -2.35,\n",
              "        -2.3 , -2.25, -2.2 , -2.15, -2.1 , -2.05, -2.  , -1.95, -1.9 ,\n",
              "        -1.85, -1.8 , -1.75, -1.7 , -1.65, -1.6 , -1.55, -1.5 , -1.45,\n",
              "        -1.4 , -1.35, -1.3 , -1.25, -1.2 , -1.15, -1.1 , -1.05, -1.  ,\n",
              "        -0.95, -0.9 , -0.85, -0.8 , -0.75, -0.7 , -0.65, -0.6 , -0.55,\n",
              "        -0.5 , -0.45, -0.4 , -0.35, -0.3 , -0.25, -0.2 , -0.15, -0.1 ,\n",
              "        -0.05,  0.  ,  0.05,  0.1 ,  0.15,  0.2 ,  0.25,  0.3 ,  0.35,\n",
              "         0.4 ,  0.45,  0.5 ,  0.55,  0.6 ,  0.65,  0.7 ,  0.75,  0.8 ,\n",
              "         0.85,  0.9 ,  0.95,  1.  ,  1.05,  1.1 ,  1.15,  1.2 ,  1.25,\n",
              "         1.3 ,  1.35,  1.4 ,  1.45,  1.5 ,  1.55,  1.6 ,  1.65,  1.7 ,\n",
              "         1.75,  1.8 ,  1.85,  1.9 ,  1.95,  2.  ,  2.05,  2.1 ,  2.15,\n",
              "         2.2 ,  2.25,  2.3 ,  2.35,  2.4 ,  2.45,  2.5 ,  2.55,  2.6 ,\n",
              "         2.65,  2.7 ,  2.75,  2.8 ,  2.85,  2.9 ,  2.95,  3.  ,  3.05,\n",
              "         3.1 ,  3.15,  3.2 ,  3.25,  3.3 ,  3.35,  3.4 ,  3.45,  3.5 ,\n",
              "         3.55,  3.6 ,  3.65,  3.7 ,  3.75,  3.8 ,  3.85,  3.9 ,  3.95,\n",
              "         4.  ,  4.05,  4.1 ,  4.15,  4.2 ,  4.25,  4.3 ,  4.35,  4.4 ,\n",
              "         4.45,  4.5 ,  4.55,  4.6 ,  4.65,  4.7 ,  4.75,  4.8 ,  4.85,\n",
              "         4.9 ,  4.95],\n",
              "       [-5.  , -4.95, -4.9 , -4.85, -4.8 , -4.75, -4.7 , -4.65, -4.6 ,\n",
              "        -4.55, -4.5 , -4.45, -4.4 , -4.35, -4.3 , -4.25, -4.2 , -4.15,\n",
              "        -4.1 , -4.05, -4.  , -3.95, -3.9 , -3.85, -3.8 , -3.75, -3.7 ,\n",
              "        -3.65, -3.6 , -3.55, -3.5 , -3.45, -3.4 , -3.35, -3.3 , -3.25,\n",
              "        -3.2 , -3.15, -3.1 , -3.05, -3.  , -2.95, -2.9 , -2.85, -2.8 ,\n",
              "        -2.75, -2.7 , -2.65, -2.6 , -2.55, -2.5 , -2.45, -2.4 , -2.35,\n",
              "        -2.3 , -2.25, -2.2 , -2.15, -2.1 , -2.05, -2.  , -1.95, -1.9 ,\n",
              "        -1.85, -1.8 , -1.75, -1.7 , -1.65, -1.6 , -1.55, -1.5 , -1.45,\n",
              "        -1.4 , -1.35, -1.3 , -1.25, -1.2 , -1.15, -1.1 , -1.05, -1.  ,\n",
              "        -0.95, -0.9 , -0.85, -0.8 , -0.75, -0.7 , -0.65, -0.6 , -0.55,\n",
              "        -0.5 , -0.45, -0.4 , -0.35, -0.3 , -0.25, -0.2 , -0.15, -0.1 ,\n",
              "        -0.05,  0.  ,  0.05,  0.1 ,  0.15,  0.2 ,  0.25,  0.3 ,  0.35,\n",
              "         0.4 ,  0.45,  0.5 ,  0.55,  0.6 ,  0.65,  0.7 ,  0.75,  0.8 ,\n",
              "         0.85,  0.9 ,  0.95,  1.  ,  1.05,  1.1 ,  1.15,  1.2 ,  1.25,\n",
              "         1.3 ,  1.35,  1.4 ,  1.45,  1.5 ,  1.55,  1.6 ,  1.65,  1.7 ,\n",
              "         1.75,  1.8 ,  1.85,  1.9 ,  1.95,  2.  ,  2.05,  2.1 ,  2.15,\n",
              "         2.2 ,  2.25,  2.3 ,  2.35,  2.4 ,  2.45,  2.5 ,  2.55,  2.6 ,\n",
              "         2.65,  2.7 ,  2.75,  2.8 ,  2.85,  2.9 ,  2.95,  3.  ,  3.05,\n",
              "         3.1 ,  3.15,  3.2 ,  3.25,  3.3 ,  3.35,  3.4 ,  3.45,  3.5 ,\n",
              "         3.55,  3.6 ,  3.65,  3.7 ,  3.75,  3.8 ,  3.85,  3.9 ,  3.95,\n",
              "         4.  ,  4.05,  4.1 ,  4.15,  4.2 ,  4.25,  4.3 ,  4.35,  4.4 ,\n",
              "         4.45,  4.5 ,  4.55,  4.6 ,  4.65,  4.7 ,  4.75,  4.8 ,  4.85,\n",
              "         4.9 ,  4.95],\n",
              "       [-5.  , -4.95, -4.9 , -4.85, -4.8 , -4.75, -4.7 , -4.65, -4.6 ,\n",
              "        -4.55, -4.5 , -4.45, -4.4 , -4.35, -4.3 , -4.25, -4.2 , -4.15,\n",
              "        -4.1 , -4.05, -4.  , -3.95, -3.9 , -3.85, -3.8 , -3.75, -3.7 ,\n",
              "        -3.65, -3.6 , -3.55, -3.5 , -3.45, -3.4 , -3.35, -3.3 , -3.25,\n",
              "        -3.2 , -3.15, -3.1 , -3.05, -3.  , -2.95, -2.9 , -2.85, -2.8 ,\n",
              "        -2.75, -2.7 , -2.65, -2.6 , -2.55, -2.5 , -2.45, -2.4 , -2.35,\n",
              "        -2.3 , -2.25, -2.2 , -2.15, -2.1 , -2.05, -2.  , -1.95, -1.9 ,\n",
              "        -1.85, -1.8 , -1.75, -1.7 , -1.65, -1.6 , -1.55, -1.5 , -1.45,\n",
              "        -1.4 , -1.35, -1.3 , -1.25, -1.2 , -1.15, -1.1 , -1.05, -1.  ,\n",
              "        -0.95, -0.9 , -0.85, -0.8 , -0.75, -0.7 , -0.65, -0.6 , -0.55,\n",
              "        -0.5 , -0.45, -0.4 , -0.35, -0.3 , -0.25, -0.2 , -0.15, -0.1 ,\n",
              "        -0.05,  0.  ,  0.05,  0.1 ,  0.15,  0.2 ,  0.25,  0.3 ,  0.35,\n",
              "         0.4 ,  0.45,  0.5 ,  0.55,  0.6 ,  0.65,  0.7 ,  0.75,  0.8 ,\n",
              "         0.85,  0.9 ,  0.95,  1.  ,  1.05,  1.1 ,  1.15,  1.2 ,  1.25,\n",
              "         1.3 ,  1.35,  1.4 ,  1.45,  1.5 ,  1.55,  1.6 ,  1.65,  1.7 ,\n",
              "         1.75,  1.8 ,  1.85,  1.9 ,  1.95,  2.  ,  2.05,  2.1 ,  2.15,\n",
              "         2.2 ,  2.25,  2.3 ,  2.35,  2.4 ,  2.45,  2.5 ,  2.55,  2.6 ,\n",
              "         2.65,  2.7 ,  2.75,  2.8 ,  2.85,  2.9 ,  2.95,  3.  ,  3.05,\n",
              "         3.1 ,  3.15,  3.2 ,  3.25,  3.3 ,  3.35,  3.4 ,  3.45,  3.5 ,\n",
              "         3.55,  3.6 ,  3.65,  3.7 ,  3.75,  3.8 ,  3.85,  3.9 ,  3.95,\n",
              "         4.  ,  4.05,  4.1 ,  4.15,  4.2 ,  4.25,  4.3 ,  4.35,  4.4 ,\n",
              "         4.45,  4.5 ,  4.55,  4.6 ,  4.65,  4.7 ,  4.75,  4.8 ,  4.85,\n",
              "         4.9 ,  4.95]])"
            ]
          },
          "metadata": {},
          "execution_count": 40
        }
      ]
    },
    {
      "cell_type": "code",
      "source": [
        "new_y [1:5]"
      ],
      "metadata": {
        "colab": {
          "base_uri": "https://localhost:8080/"
        },
        "id": "LBqZD4MASQKH",
        "outputId": "cf11d365-b32f-4af5-b275-1f34b8f4174e"
      },
      "execution_count": null,
      "outputs": [
        {
          "output_type": "execute_result",
          "data": {
            "text/plain": [
              "array([[-4.95, -4.95, -4.95, -4.95, -4.95, -4.95, -4.95, -4.95, -4.95,\n",
              "        -4.95, -4.95, -4.95, -4.95, -4.95, -4.95, -4.95, -4.95, -4.95,\n",
              "        -4.95, -4.95, -4.95, -4.95, -4.95, -4.95, -4.95, -4.95, -4.95,\n",
              "        -4.95, -4.95, -4.95, -4.95, -4.95, -4.95, -4.95, -4.95, -4.95,\n",
              "        -4.95, -4.95, -4.95, -4.95, -4.95, -4.95, -4.95, -4.95, -4.95,\n",
              "        -4.95, -4.95, -4.95, -4.95, -4.95, -4.95, -4.95, -4.95, -4.95,\n",
              "        -4.95, -4.95, -4.95, -4.95, -4.95, -4.95, -4.95, -4.95, -4.95,\n",
              "        -4.95, -4.95, -4.95, -4.95, -4.95, -4.95, -4.95, -4.95, -4.95,\n",
              "        -4.95, -4.95, -4.95, -4.95, -4.95, -4.95, -4.95, -4.95, -4.95,\n",
              "        -4.95, -4.95, -4.95, -4.95, -4.95, -4.95, -4.95, -4.95, -4.95,\n",
              "        -4.95, -4.95, -4.95, -4.95, -4.95, -4.95, -4.95, -4.95, -4.95,\n",
              "        -4.95, -4.95, -4.95, -4.95, -4.95, -4.95, -4.95, -4.95, -4.95,\n",
              "        -4.95, -4.95, -4.95, -4.95, -4.95, -4.95, -4.95, -4.95, -4.95,\n",
              "        -4.95, -4.95, -4.95, -4.95, -4.95, -4.95, -4.95, -4.95, -4.95,\n",
              "        -4.95, -4.95, -4.95, -4.95, -4.95, -4.95, -4.95, -4.95, -4.95,\n",
              "        -4.95, -4.95, -4.95, -4.95, -4.95, -4.95, -4.95, -4.95, -4.95,\n",
              "        -4.95, -4.95, -4.95, -4.95, -4.95, -4.95, -4.95, -4.95, -4.95,\n",
              "        -4.95, -4.95, -4.95, -4.95, -4.95, -4.95, -4.95, -4.95, -4.95,\n",
              "        -4.95, -4.95, -4.95, -4.95, -4.95, -4.95, -4.95, -4.95, -4.95,\n",
              "        -4.95, -4.95, -4.95, -4.95, -4.95, -4.95, -4.95, -4.95, -4.95,\n",
              "        -4.95, -4.95, -4.95, -4.95, -4.95, -4.95, -4.95, -4.95, -4.95,\n",
              "        -4.95, -4.95, -4.95, -4.95, -4.95, -4.95, -4.95, -4.95, -4.95,\n",
              "        -4.95, -4.95],\n",
              "       [-4.9 , -4.9 , -4.9 , -4.9 , -4.9 , -4.9 , -4.9 , -4.9 , -4.9 ,\n",
              "        -4.9 , -4.9 , -4.9 , -4.9 , -4.9 , -4.9 , -4.9 , -4.9 , -4.9 ,\n",
              "        -4.9 , -4.9 , -4.9 , -4.9 , -4.9 , -4.9 , -4.9 , -4.9 , -4.9 ,\n",
              "        -4.9 , -4.9 , -4.9 , -4.9 , -4.9 , -4.9 , -4.9 , -4.9 , -4.9 ,\n",
              "        -4.9 , -4.9 , -4.9 , -4.9 , -4.9 , -4.9 , -4.9 , -4.9 , -4.9 ,\n",
              "        -4.9 , -4.9 , -4.9 , -4.9 , -4.9 , -4.9 , -4.9 , -4.9 , -4.9 ,\n",
              "        -4.9 , -4.9 , -4.9 , -4.9 , -4.9 , -4.9 , -4.9 , -4.9 , -4.9 ,\n",
              "        -4.9 , -4.9 , -4.9 , -4.9 , -4.9 , -4.9 , -4.9 , -4.9 , -4.9 ,\n",
              "        -4.9 , -4.9 , -4.9 , -4.9 , -4.9 , -4.9 , -4.9 , -4.9 , -4.9 ,\n",
              "        -4.9 , -4.9 , -4.9 , -4.9 , -4.9 , -4.9 , -4.9 , -4.9 , -4.9 ,\n",
              "        -4.9 , -4.9 , -4.9 , -4.9 , -4.9 , -4.9 , -4.9 , -4.9 , -4.9 ,\n",
              "        -4.9 , -4.9 , -4.9 , -4.9 , -4.9 , -4.9 , -4.9 , -4.9 , -4.9 ,\n",
              "        -4.9 , -4.9 , -4.9 , -4.9 , -4.9 , -4.9 , -4.9 , -4.9 , -4.9 ,\n",
              "        -4.9 , -4.9 , -4.9 , -4.9 , -4.9 , -4.9 , -4.9 , -4.9 , -4.9 ,\n",
              "        -4.9 , -4.9 , -4.9 , -4.9 , -4.9 , -4.9 , -4.9 , -4.9 , -4.9 ,\n",
              "        -4.9 , -4.9 , -4.9 , -4.9 , -4.9 , -4.9 , -4.9 , -4.9 , -4.9 ,\n",
              "        -4.9 , -4.9 , -4.9 , -4.9 , -4.9 , -4.9 , -4.9 , -4.9 , -4.9 ,\n",
              "        -4.9 , -4.9 , -4.9 , -4.9 , -4.9 , -4.9 , -4.9 , -4.9 , -4.9 ,\n",
              "        -4.9 , -4.9 , -4.9 , -4.9 , -4.9 , -4.9 , -4.9 , -4.9 , -4.9 ,\n",
              "        -4.9 , -4.9 , -4.9 , -4.9 , -4.9 , -4.9 , -4.9 , -4.9 , -4.9 ,\n",
              "        -4.9 , -4.9 , -4.9 , -4.9 , -4.9 , -4.9 , -4.9 , -4.9 , -4.9 ,\n",
              "        -4.9 , -4.9 , -4.9 , -4.9 , -4.9 , -4.9 , -4.9 , -4.9 , -4.9 ,\n",
              "        -4.9 , -4.9 ],\n",
              "       [-4.85, -4.85, -4.85, -4.85, -4.85, -4.85, -4.85, -4.85, -4.85,\n",
              "        -4.85, -4.85, -4.85, -4.85, -4.85, -4.85, -4.85, -4.85, -4.85,\n",
              "        -4.85, -4.85, -4.85, -4.85, -4.85, -4.85, -4.85, -4.85, -4.85,\n",
              "        -4.85, -4.85, -4.85, -4.85, -4.85, -4.85, -4.85, -4.85, -4.85,\n",
              "        -4.85, -4.85, -4.85, -4.85, -4.85, -4.85, -4.85, -4.85, -4.85,\n",
              "        -4.85, -4.85, -4.85, -4.85, -4.85, -4.85, -4.85, -4.85, -4.85,\n",
              "        -4.85, -4.85, -4.85, -4.85, -4.85, -4.85, -4.85, -4.85, -4.85,\n",
              "        -4.85, -4.85, -4.85, -4.85, -4.85, -4.85, -4.85, -4.85, -4.85,\n",
              "        -4.85, -4.85, -4.85, -4.85, -4.85, -4.85, -4.85, -4.85, -4.85,\n",
              "        -4.85, -4.85, -4.85, -4.85, -4.85, -4.85, -4.85, -4.85, -4.85,\n",
              "        -4.85, -4.85, -4.85, -4.85, -4.85, -4.85, -4.85, -4.85, -4.85,\n",
              "        -4.85, -4.85, -4.85, -4.85, -4.85, -4.85, -4.85, -4.85, -4.85,\n",
              "        -4.85, -4.85, -4.85, -4.85, -4.85, -4.85, -4.85, -4.85, -4.85,\n",
              "        -4.85, -4.85, -4.85, -4.85, -4.85, -4.85, -4.85, -4.85, -4.85,\n",
              "        -4.85, -4.85, -4.85, -4.85, -4.85, -4.85, -4.85, -4.85, -4.85,\n",
              "        -4.85, -4.85, -4.85, -4.85, -4.85, -4.85, -4.85, -4.85, -4.85,\n",
              "        -4.85, -4.85, -4.85, -4.85, -4.85, -4.85, -4.85, -4.85, -4.85,\n",
              "        -4.85, -4.85, -4.85, -4.85, -4.85, -4.85, -4.85, -4.85, -4.85,\n",
              "        -4.85, -4.85, -4.85, -4.85, -4.85, -4.85, -4.85, -4.85, -4.85,\n",
              "        -4.85, -4.85, -4.85, -4.85, -4.85, -4.85, -4.85, -4.85, -4.85,\n",
              "        -4.85, -4.85, -4.85, -4.85, -4.85, -4.85, -4.85, -4.85, -4.85,\n",
              "        -4.85, -4.85, -4.85, -4.85, -4.85, -4.85, -4.85, -4.85, -4.85,\n",
              "        -4.85, -4.85],\n",
              "       [-4.8 , -4.8 , -4.8 , -4.8 , -4.8 , -4.8 , -4.8 , -4.8 , -4.8 ,\n",
              "        -4.8 , -4.8 , -4.8 , -4.8 , -4.8 , -4.8 , -4.8 , -4.8 , -4.8 ,\n",
              "        -4.8 , -4.8 , -4.8 , -4.8 , -4.8 , -4.8 , -4.8 , -4.8 , -4.8 ,\n",
              "        -4.8 , -4.8 , -4.8 , -4.8 , -4.8 , -4.8 , -4.8 , -4.8 , -4.8 ,\n",
              "        -4.8 , -4.8 , -4.8 , -4.8 , -4.8 , -4.8 , -4.8 , -4.8 , -4.8 ,\n",
              "        -4.8 , -4.8 , -4.8 , -4.8 , -4.8 , -4.8 , -4.8 , -4.8 , -4.8 ,\n",
              "        -4.8 , -4.8 , -4.8 , -4.8 , -4.8 , -4.8 , -4.8 , -4.8 , -4.8 ,\n",
              "        -4.8 , -4.8 , -4.8 , -4.8 , -4.8 , -4.8 , -4.8 , -4.8 , -4.8 ,\n",
              "        -4.8 , -4.8 , -4.8 , -4.8 , -4.8 , -4.8 , -4.8 , -4.8 , -4.8 ,\n",
              "        -4.8 , -4.8 , -4.8 , -4.8 , -4.8 , -4.8 , -4.8 , -4.8 , -4.8 ,\n",
              "        -4.8 , -4.8 , -4.8 , -4.8 , -4.8 , -4.8 , -4.8 , -4.8 , -4.8 ,\n",
              "        -4.8 , -4.8 , -4.8 , -4.8 , -4.8 , -4.8 , -4.8 , -4.8 , -4.8 ,\n",
              "        -4.8 , -4.8 , -4.8 , -4.8 , -4.8 , -4.8 , -4.8 , -4.8 , -4.8 ,\n",
              "        -4.8 , -4.8 , -4.8 , -4.8 , -4.8 , -4.8 , -4.8 , -4.8 , -4.8 ,\n",
              "        -4.8 , -4.8 , -4.8 , -4.8 , -4.8 , -4.8 , -4.8 , -4.8 , -4.8 ,\n",
              "        -4.8 , -4.8 , -4.8 , -4.8 , -4.8 , -4.8 , -4.8 , -4.8 , -4.8 ,\n",
              "        -4.8 , -4.8 , -4.8 , -4.8 , -4.8 , -4.8 , -4.8 , -4.8 , -4.8 ,\n",
              "        -4.8 , -4.8 , -4.8 , -4.8 , -4.8 , -4.8 , -4.8 , -4.8 , -4.8 ,\n",
              "        -4.8 , -4.8 , -4.8 , -4.8 , -4.8 , -4.8 , -4.8 , -4.8 , -4.8 ,\n",
              "        -4.8 , -4.8 , -4.8 , -4.8 , -4.8 , -4.8 , -4.8 , -4.8 , -4.8 ,\n",
              "        -4.8 , -4.8 , -4.8 , -4.8 , -4.8 , -4.8 , -4.8 , -4.8 , -4.8 ,\n",
              "        -4.8 , -4.8 , -4.8 , -4.8 , -4.8 , -4.8 , -4.8 , -4.8 , -4.8 ,\n",
              "        -4.8 , -4.8 ]])"
            ]
          },
          "metadata": {},
          "execution_count": 41
        }
      ]
    },
    {
      "cell_type": "markdown",
      "source": [
        "Aby pozbyć się struktury macierzy.\n",
        "\n",
        "Funkcja zip przeiteruje się przez new_x, new_y"
      ],
      "metadata": {
        "id": "a9f88qoTSrA_"
      }
    },
    {
      "cell_type": "code",
      "source": [
        "new_data = list(zip(new_x.reshape(-1), new_y.reshape(-1)))"
      ],
      "metadata": {
        "id": "asA4wn6JSasb"
      },
      "execution_count": null,
      "outputs": []
    },
    {
      "cell_type": "markdown",
      "source": [
        "###**Szacujemy etykiety**"
      ],
      "metadata": {
        "id": "5J5ilcomTJax"
      }
    },
    {
      "cell_type": "code",
      "source": [
        "new_l = model.predict(new_data)"
      ],
      "metadata": {
        "id": "tSstgE-vTFJb"
      },
      "execution_count": null,
      "outputs": []
    },
    {
      "cell_type": "code",
      "source": [
        "import pandas as pd"
      ],
      "metadata": {
        "id": "YfiFY93uTR_S"
      },
      "execution_count": null,
      "outputs": []
    },
    {
      "cell_type": "code",
      "source": [
        "df = pd.DataFrame({\"x\": new_x.reshape(-1), \"y\": new_y.reshape(-1), \"l\": new_l})"
      ],
      "metadata": {
        "id": "-bgoxFdVTY7L"
      },
      "execution_count": null,
      "outputs": []
    },
    {
      "cell_type": "code",
      "source": [
        "df.head()"
      ],
      "metadata": {
        "colab": {
          "base_uri": "https://localhost:8080/",
          "height": 206
        },
        "id": "AMLB76AJToAa",
        "outputId": "998e2be6-f217-4ca2-e84d-229d32d57ee2"
      },
      "execution_count": null,
      "outputs": [
        {
          "output_type": "execute_result",
          "data": {
            "text/plain": [
              "      x    y    l\n",
              "0 -5.00 -5.0  1.0\n",
              "1 -4.95 -5.0  1.0\n",
              "2 -4.90 -5.0  1.0\n",
              "3 -4.85 -5.0  1.0\n",
              "4 -4.80 -5.0  1.0"
            ],
            "text/html": [
              "\n",
              "  <div id=\"df-ddc34300-b107-4c79-973f-fd32c3dcfc3d\" class=\"colab-df-container\">\n",
              "    <div>\n",
              "<style scoped>\n",
              "    .dataframe tbody tr th:only-of-type {\n",
              "        vertical-align: middle;\n",
              "    }\n",
              "\n",
              "    .dataframe tbody tr th {\n",
              "        vertical-align: top;\n",
              "    }\n",
              "\n",
              "    .dataframe thead th {\n",
              "        text-align: right;\n",
              "    }\n",
              "</style>\n",
              "<table border=\"1\" class=\"dataframe\">\n",
              "  <thead>\n",
              "    <tr style=\"text-align: right;\">\n",
              "      <th></th>\n",
              "      <th>x</th>\n",
              "      <th>y</th>\n",
              "      <th>l</th>\n",
              "    </tr>\n",
              "  </thead>\n",
              "  <tbody>\n",
              "    <tr>\n",
              "      <th>0</th>\n",
              "      <td>-5.00</td>\n",
              "      <td>-5.0</td>\n",
              "      <td>1.0</td>\n",
              "    </tr>\n",
              "    <tr>\n",
              "      <th>1</th>\n",
              "      <td>-4.95</td>\n",
              "      <td>-5.0</td>\n",
              "      <td>1.0</td>\n",
              "    </tr>\n",
              "    <tr>\n",
              "      <th>2</th>\n",
              "      <td>-4.90</td>\n",
              "      <td>-5.0</td>\n",
              "      <td>1.0</td>\n",
              "    </tr>\n",
              "    <tr>\n",
              "      <th>3</th>\n",
              "      <td>-4.85</td>\n",
              "      <td>-5.0</td>\n",
              "      <td>1.0</td>\n",
              "    </tr>\n",
              "    <tr>\n",
              "      <th>4</th>\n",
              "      <td>-4.80</td>\n",
              "      <td>-5.0</td>\n",
              "      <td>1.0</td>\n",
              "    </tr>\n",
              "  </tbody>\n",
              "</table>\n",
              "</div>\n",
              "    <div class=\"colab-df-buttons\">\n",
              "\n",
              "  <div class=\"colab-df-container\">\n",
              "    <button class=\"colab-df-convert\" onclick=\"convertToInteractive('df-ddc34300-b107-4c79-973f-fd32c3dcfc3d')\"\n",
              "            title=\"Convert this dataframe to an interactive table.\"\n",
              "            style=\"display:none;\">\n",
              "\n",
              "  <svg xmlns=\"http://www.w3.org/2000/svg\" height=\"24px\" viewBox=\"0 -960 960 960\">\n",
              "    <path d=\"M120-120v-720h720v720H120Zm60-500h600v-160H180v160Zm220 220h160v-160H400v160Zm0 220h160v-160H400v160ZM180-400h160v-160H180v160Zm440 0h160v-160H620v160ZM180-180h160v-160H180v160Zm440 0h160v-160H620v160Z\"/>\n",
              "  </svg>\n",
              "    </button>\n",
              "\n",
              "  <style>\n",
              "    .colab-df-container {\n",
              "      display:flex;\n",
              "      gap: 12px;\n",
              "    }\n",
              "\n",
              "    .colab-df-convert {\n",
              "      background-color: #E8F0FE;\n",
              "      border: none;\n",
              "      border-radius: 50%;\n",
              "      cursor: pointer;\n",
              "      display: none;\n",
              "      fill: #1967D2;\n",
              "      height: 32px;\n",
              "      padding: 0 0 0 0;\n",
              "      width: 32px;\n",
              "    }\n",
              "\n",
              "    .colab-df-convert:hover {\n",
              "      background-color: #E2EBFA;\n",
              "      box-shadow: 0px 1px 2px rgba(60, 64, 67, 0.3), 0px 1px 3px 1px rgba(60, 64, 67, 0.15);\n",
              "      fill: #174EA6;\n",
              "    }\n",
              "\n",
              "    .colab-df-buttons div {\n",
              "      margin-bottom: 4px;\n",
              "    }\n",
              "\n",
              "    [theme=dark] .colab-df-convert {\n",
              "      background-color: #3B4455;\n",
              "      fill: #D2E3FC;\n",
              "    }\n",
              "\n",
              "    [theme=dark] .colab-df-convert:hover {\n",
              "      background-color: #434B5C;\n",
              "      box-shadow: 0px 1px 3px 1px rgba(0, 0, 0, 0.15);\n",
              "      filter: drop-shadow(0px 1px 2px rgba(0, 0, 0, 0.3));\n",
              "      fill: #FFFFFF;\n",
              "    }\n",
              "  </style>\n",
              "\n",
              "    <script>\n",
              "      const buttonEl =\n",
              "        document.querySelector('#df-ddc34300-b107-4c79-973f-fd32c3dcfc3d button.colab-df-convert');\n",
              "      buttonEl.style.display =\n",
              "        google.colab.kernel.accessAllowed ? 'block' : 'none';\n",
              "\n",
              "      async function convertToInteractive(key) {\n",
              "        const element = document.querySelector('#df-ddc34300-b107-4c79-973f-fd32c3dcfc3d');\n",
              "        const dataTable =\n",
              "          await google.colab.kernel.invokeFunction('convertToInteractive',\n",
              "                                                    [key], {});\n",
              "        if (!dataTable) return;\n",
              "\n",
              "        const docLinkHtml = 'Like what you see? Visit the ' +\n",
              "          '<a target=\"_blank\" href=https://colab.research.google.com/notebooks/data_table.ipynb>data table notebook</a>'\n",
              "          + ' to learn more about interactive tables.';\n",
              "        element.innerHTML = '';\n",
              "        dataTable['output_type'] = 'display_data';\n",
              "        await google.colab.output.renderOutput(dataTable, element);\n",
              "        const docLink = document.createElement('div');\n",
              "        docLink.innerHTML = docLinkHtml;\n",
              "        element.appendChild(docLink);\n",
              "      }\n",
              "    </script>\n",
              "  </div>\n",
              "\n",
              "\n",
              "<div id=\"df-fad618f1-46fa-4ffa-8492-7483d3ce3241\">\n",
              "  <button class=\"colab-df-quickchart\" onclick=\"quickchart('df-fad618f1-46fa-4ffa-8492-7483d3ce3241')\"\n",
              "            title=\"Suggest charts\"\n",
              "            style=\"display:none;\">\n",
              "\n",
              "<svg xmlns=\"http://www.w3.org/2000/svg\" height=\"24px\"viewBox=\"0 0 24 24\"\n",
              "     width=\"24px\">\n",
              "    <g>\n",
              "        <path d=\"M19 3H5c-1.1 0-2 .9-2 2v14c0 1.1.9 2 2 2h14c1.1 0 2-.9 2-2V5c0-1.1-.9-2-2-2zM9 17H7v-7h2v7zm4 0h-2V7h2v10zm4 0h-2v-4h2v4z\"/>\n",
              "    </g>\n",
              "</svg>\n",
              "  </button>\n",
              "\n",
              "<style>\n",
              "  .colab-df-quickchart {\n",
              "      --bg-color: #E8F0FE;\n",
              "      --fill-color: #1967D2;\n",
              "      --hover-bg-color: #E2EBFA;\n",
              "      --hover-fill-color: #174EA6;\n",
              "      --disabled-fill-color: #AAA;\n",
              "      --disabled-bg-color: #DDD;\n",
              "  }\n",
              "\n",
              "  [theme=dark] .colab-df-quickchart {\n",
              "      --bg-color: #3B4455;\n",
              "      --fill-color: #D2E3FC;\n",
              "      --hover-bg-color: #434B5C;\n",
              "      --hover-fill-color: #FFFFFF;\n",
              "      --disabled-bg-color: #3B4455;\n",
              "      --disabled-fill-color: #666;\n",
              "  }\n",
              "\n",
              "  .colab-df-quickchart {\n",
              "    background-color: var(--bg-color);\n",
              "    border: none;\n",
              "    border-radius: 50%;\n",
              "    cursor: pointer;\n",
              "    display: none;\n",
              "    fill: var(--fill-color);\n",
              "    height: 32px;\n",
              "    padding: 0;\n",
              "    width: 32px;\n",
              "  }\n",
              "\n",
              "  .colab-df-quickchart:hover {\n",
              "    background-color: var(--hover-bg-color);\n",
              "    box-shadow: 0 1px 2px rgba(60, 64, 67, 0.3), 0 1px 3px 1px rgba(60, 64, 67, 0.15);\n",
              "    fill: var(--button-hover-fill-color);\n",
              "  }\n",
              "\n",
              "  .colab-df-quickchart-complete:disabled,\n",
              "  .colab-df-quickchart-complete:disabled:hover {\n",
              "    background-color: var(--disabled-bg-color);\n",
              "    fill: var(--disabled-fill-color);\n",
              "    box-shadow: none;\n",
              "  }\n",
              "\n",
              "  .colab-df-spinner {\n",
              "    border: 2px solid var(--fill-color);\n",
              "    border-color: transparent;\n",
              "    border-bottom-color: var(--fill-color);\n",
              "    animation:\n",
              "      spin 1s steps(1) infinite;\n",
              "  }\n",
              "\n",
              "  @keyframes spin {\n",
              "    0% {\n",
              "      border-color: transparent;\n",
              "      border-bottom-color: var(--fill-color);\n",
              "      border-left-color: var(--fill-color);\n",
              "    }\n",
              "    20% {\n",
              "      border-color: transparent;\n",
              "      border-left-color: var(--fill-color);\n",
              "      border-top-color: var(--fill-color);\n",
              "    }\n",
              "    30% {\n",
              "      border-color: transparent;\n",
              "      border-left-color: var(--fill-color);\n",
              "      border-top-color: var(--fill-color);\n",
              "      border-right-color: var(--fill-color);\n",
              "    }\n",
              "    40% {\n",
              "      border-color: transparent;\n",
              "      border-right-color: var(--fill-color);\n",
              "      border-top-color: var(--fill-color);\n",
              "    }\n",
              "    60% {\n",
              "      border-color: transparent;\n",
              "      border-right-color: var(--fill-color);\n",
              "    }\n",
              "    80% {\n",
              "      border-color: transparent;\n",
              "      border-right-color: var(--fill-color);\n",
              "      border-bottom-color: var(--fill-color);\n",
              "    }\n",
              "    90% {\n",
              "      border-color: transparent;\n",
              "      border-bottom-color: var(--fill-color);\n",
              "    }\n",
              "  }\n",
              "</style>\n",
              "\n",
              "  <script>\n",
              "    async function quickchart(key) {\n",
              "      const quickchartButtonEl =\n",
              "        document.querySelector('#' + key + ' button');\n",
              "      quickchartButtonEl.disabled = true;  // To prevent multiple clicks.\n",
              "      quickchartButtonEl.classList.add('colab-df-spinner');\n",
              "      try {\n",
              "        const charts = await google.colab.kernel.invokeFunction(\n",
              "            'suggestCharts', [key], {});\n",
              "      } catch (error) {\n",
              "        console.error('Error during call to suggestCharts:', error);\n",
              "      }\n",
              "      quickchartButtonEl.classList.remove('colab-df-spinner');\n",
              "      quickchartButtonEl.classList.add('colab-df-quickchart-complete');\n",
              "    }\n",
              "    (() => {\n",
              "      let quickchartButtonEl =\n",
              "        document.querySelector('#df-fad618f1-46fa-4ffa-8492-7483d3ce3241 button');\n",
              "      quickchartButtonEl.style.display =\n",
              "        google.colab.kernel.accessAllowed ? 'block' : 'none';\n",
              "    })();\n",
              "  </script>\n",
              "</div>\n",
              "\n",
              "    </div>\n",
              "  </div>\n"
            ],
            "application/vnd.google.colaboratory.intrinsic+json": {
              "type": "dataframe",
              "variable_name": "df",
              "summary": "{\n  \"name\": \"df\",\n  \"rows\": 40000,\n  \"fields\": [\n    {\n      \"column\": \"x\",\n      \"properties\": {\n        \"dtype\": \"number\",\n        \"std\": 2.886751345948129,\n        \"min\": -5.0,\n        \"max\": 4.95,\n        \"num_unique_values\": 200,\n        \"samples\": [\n          -0.25,\n          -4.25,\n          -3.5\n        ],\n        \"semantic_type\": \"\",\n        \"description\": \"\"\n      }\n    },\n    {\n      \"column\": \"y\",\n      \"properties\": {\n        \"dtype\": \"number\",\n        \"std\": 2.886751345948129,\n        \"min\": -5.0,\n        \"max\": 4.95,\n        \"num_unique_values\": 200,\n        \"samples\": [\n          -0.25,\n          -4.25,\n          -3.5\n        ],\n        \"semantic_type\": \"\",\n        \"description\": \"\"\n      }\n    },\n    {\n      \"column\": \"l\",\n      \"properties\": {\n        \"dtype\": \"number\",\n        \"std\": 0.4965130039880362,\n        \"min\": 0.0,\n        \"max\": 1.0,\n        \"num_unique_values\": 2,\n        \"samples\": [\n          0.0,\n          1.0\n        ],\n        \"semantic_type\": \"\",\n        \"description\": \"\"\n      }\n    }\n  ]\n}"
            }
          },
          "metadata": {},
          "execution_count": 46
        }
      ]
    },
    {
      "cell_type": "markdown",
      "source": [
        "###**Rysujemy wykres**"
      ],
      "metadata": {
        "id": "yZLbAzB1Tskp"
      }
    },
    {
      "cell_type": "code",
      "source": [
        "plt.figure(figsize=(7,7))\n",
        "plt.scatter(df[df[\"l\"] == 0][\"x\"], df[df[\"l\"] == 0][\"y\"], color=\"xkcd:blue\")\n",
        "plt.scatter(df[df[\"l\"] == 1][\"x\"], df[df[\"l\"] == 1][\"y\"], color=\"xkcd:lemon yellow\")\n",
        "plt.scatter(x1, y1, color=\"xkcd:golden yellow\")\n",
        "plt.scatter(x2, y2, color=\"xkcd:indigo\")\n"
      ],
      "metadata": {
        "colab": {
          "base_uri": "https://localhost:8080/",
          "height": 617
        },
        "id": "aSJxx9CvTqQn",
        "outputId": "7b76957c-13d7-4178-a1f2-16eff64cc639"
      },
      "execution_count": null,
      "outputs": [
        {
          "output_type": "execute_result",
          "data": {
            "text/plain": [
              "<matplotlib.collections.PathCollection at 0x7d2b7c64d330>"
            ]
          },
          "metadata": {},
          "execution_count": 47
        },
        {
          "output_type": "display_data",
          "data": {
            "text/plain": [
              "<Figure size 700x700 with 1 Axes>"
            ],
            "image/png": "[encoded data removed]"
          },
          "metadata": {}
        }
      ]
    },
    {
      "cell_type": "code",
      "source": [],
      "metadata": {
        "id": "_Giuvs8CUddn"
      },
      "execution_count": null,
      "outputs": []
    }
  ]
}